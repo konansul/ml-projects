{
 "cells": [
  {
   "cell_type": "code",
   "execution_count": 1,
   "id": "1eddd581-7bad-45b3-9676-c2e432dd6910",
   "metadata": {},
   "outputs": [],
   "source": [
    "import numpy as np\n",
    "import pandas as pd\n",
    "import matplotlib.pyplot as plt\n",
    "import plotly.graph_objects as go\n",
    "from sklearn.linear_model import LinearRegression\n",
    "from sklearn.preprocessing import PolynomialFeatures\n",
    "from sklearn.model_selection import train_test_split\n",
    "from sklearn.metrics import mean_squared_error\n",
    "from sklearn.metrics import mean_absolute_error\n",
    "from sklearn.metrics import mean_absolute_percentage_error\n",
    "from sklearn.pipeline import make_pipeline\n",
    "from ipywidgets import interact\n",
    "from ipywidgets import IntSlider\n",
    "\n",
    "%config InlineBackend.figure_format = 'retina'"
   ]
  },
  {
   "cell_type": "code",
   "execution_count": 2,
   "id": "7e859ecb-92ba-4ffd-ba88-47fe95083c03",
   "metadata": {},
   "outputs": [],
   "source": [
    "data_full = pd.read_csv('/Users/konansul/Downloads/Advertising.csv', index_col = 0)"
   ]
  },
  {
   "cell_type": "code",
   "execution_count": 3,
   "id": "f66365e4-33f8-4b31-b746-ef02750cd4d0",
   "metadata": {},
   "outputs": [
    {
     "data": {
      "text/html": [
       "<div>\n",
       "<style scoped>\n",
       "    .dataframe tbody tr th:only-of-type {\n",
       "        vertical-align: middle;\n",
       "    }\n",
       "\n",
       "    .dataframe tbody tr th {\n",
       "        vertical-align: top;\n",
       "    }\n",
       "\n",
       "    .dataframe thead th {\n",
       "        text-align: right;\n",
       "    }\n",
       "</style>\n",
       "<table border=\"1\" class=\"dataframe\">\n",
       "  <thead>\n",
       "    <tr style=\"text-align: right;\">\n",
       "      <th></th>\n",
       "      <th>TV</th>\n",
       "      <th>Radio</th>\n",
       "      <th>Newspaper</th>\n",
       "      <th>Sales</th>\n",
       "    </tr>\n",
       "  </thead>\n",
       "  <tbody>\n",
       "    <tr>\n",
       "      <th>1</th>\n",
       "      <td>230.1</td>\n",
       "      <td>37.8</td>\n",
       "      <td>69.2</td>\n",
       "      <td>22.1</td>\n",
       "    </tr>\n",
       "    <tr>\n",
       "      <th>2</th>\n",
       "      <td>44.5</td>\n",
       "      <td>39.3</td>\n",
       "      <td>45.1</td>\n",
       "      <td>10.4</td>\n",
       "    </tr>\n",
       "    <tr>\n",
       "      <th>3</th>\n",
       "      <td>17.2</td>\n",
       "      <td>45.9</td>\n",
       "      <td>69.3</td>\n",
       "      <td>9.3</td>\n",
       "    </tr>\n",
       "    <tr>\n",
       "      <th>4</th>\n",
       "      <td>151.5</td>\n",
       "      <td>41.3</td>\n",
       "      <td>58.5</td>\n",
       "      <td>18.5</td>\n",
       "    </tr>\n",
       "    <tr>\n",
       "      <th>5</th>\n",
       "      <td>180.8</td>\n",
       "      <td>10.8</td>\n",
       "      <td>58.4</td>\n",
       "      <td>12.9</td>\n",
       "    </tr>\n",
       "    <tr>\n",
       "      <th>...</th>\n",
       "      <td>...</td>\n",
       "      <td>...</td>\n",
       "      <td>...</td>\n",
       "      <td>...</td>\n",
       "    </tr>\n",
       "    <tr>\n",
       "      <th>196</th>\n",
       "      <td>38.2</td>\n",
       "      <td>3.7</td>\n",
       "      <td>13.8</td>\n",
       "      <td>7.6</td>\n",
       "    </tr>\n",
       "    <tr>\n",
       "      <th>197</th>\n",
       "      <td>94.2</td>\n",
       "      <td>4.9</td>\n",
       "      <td>8.1</td>\n",
       "      <td>9.7</td>\n",
       "    </tr>\n",
       "    <tr>\n",
       "      <th>198</th>\n",
       "      <td>177.0</td>\n",
       "      <td>9.3</td>\n",
       "      <td>6.4</td>\n",
       "      <td>12.8</td>\n",
       "    </tr>\n",
       "    <tr>\n",
       "      <th>199</th>\n",
       "      <td>283.6</td>\n",
       "      <td>42.0</td>\n",
       "      <td>66.2</td>\n",
       "      <td>25.5</td>\n",
       "    </tr>\n",
       "    <tr>\n",
       "      <th>200</th>\n",
       "      <td>232.1</td>\n",
       "      <td>8.6</td>\n",
       "      <td>8.7</td>\n",
       "      <td>13.4</td>\n",
       "    </tr>\n",
       "  </tbody>\n",
       "</table>\n",
       "<p>200 rows × 4 columns</p>\n",
       "</div>"
      ],
      "text/plain": [
       "        TV  Radio  Newspaper  Sales\n",
       "1    230.1   37.8       69.2   22.1\n",
       "2     44.5   39.3       45.1   10.4\n",
       "3     17.2   45.9       69.3    9.3\n",
       "4    151.5   41.3       58.5   18.5\n",
       "5    180.8   10.8       58.4   12.9\n",
       "..     ...    ...        ...    ...\n",
       "196   38.2    3.7       13.8    7.6\n",
       "197   94.2    4.9        8.1    9.7\n",
       "198  177.0    9.3        6.4   12.8\n",
       "199  283.6   42.0       66.2   25.5\n",
       "200  232.1    8.6        8.7   13.4\n",
       "\n",
       "[200 rows x 4 columns]"
      ]
     },
     "execution_count": 3,
     "metadata": {},
     "output_type": "execute_result"
    }
   ],
   "source": [
    "data_full"
   ]
  },
  {
   "cell_type": "code",
   "execution_count": 4,
   "id": "9847a379-3b45-46eb-a4a6-fbf955383b7d",
   "metadata": {},
   "outputs": [],
   "source": [
    "data = data_full.drop('Newspaper', axis = 1)"
   ]
  },
  {
   "cell_type": "code",
   "execution_count": 5,
   "id": "e8b635f8-ed84-47ce-b6f4-2366957bcda1",
   "metadata": {},
   "outputs": [
    {
     "data": {
      "text/html": [
       "<div>\n",
       "<style scoped>\n",
       "    .dataframe tbody tr th:only-of-type {\n",
       "        vertical-align: middle;\n",
       "    }\n",
       "\n",
       "    .dataframe tbody tr th {\n",
       "        vertical-align: top;\n",
       "    }\n",
       "\n",
       "    .dataframe thead th {\n",
       "        text-align: right;\n",
       "    }\n",
       "</style>\n",
       "<table border=\"1\" class=\"dataframe\">\n",
       "  <thead>\n",
       "    <tr style=\"text-align: right;\">\n",
       "      <th></th>\n",
       "      <th>TV</th>\n",
       "      <th>Radio</th>\n",
       "      <th>Sales</th>\n",
       "    </tr>\n",
       "  </thead>\n",
       "  <tbody>\n",
       "    <tr>\n",
       "      <th>1</th>\n",
       "      <td>230.1</td>\n",
       "      <td>37.8</td>\n",
       "      <td>22.1</td>\n",
       "    </tr>\n",
       "    <tr>\n",
       "      <th>2</th>\n",
       "      <td>44.5</td>\n",
       "      <td>39.3</td>\n",
       "      <td>10.4</td>\n",
       "    </tr>\n",
       "    <tr>\n",
       "      <th>3</th>\n",
       "      <td>17.2</td>\n",
       "      <td>45.9</td>\n",
       "      <td>9.3</td>\n",
       "    </tr>\n",
       "    <tr>\n",
       "      <th>4</th>\n",
       "      <td>151.5</td>\n",
       "      <td>41.3</td>\n",
       "      <td>18.5</td>\n",
       "    </tr>\n",
       "    <tr>\n",
       "      <th>5</th>\n",
       "      <td>180.8</td>\n",
       "      <td>10.8</td>\n",
       "      <td>12.9</td>\n",
       "    </tr>\n",
       "    <tr>\n",
       "      <th>...</th>\n",
       "      <td>...</td>\n",
       "      <td>...</td>\n",
       "      <td>...</td>\n",
       "    </tr>\n",
       "    <tr>\n",
       "      <th>196</th>\n",
       "      <td>38.2</td>\n",
       "      <td>3.7</td>\n",
       "      <td>7.6</td>\n",
       "    </tr>\n",
       "    <tr>\n",
       "      <th>197</th>\n",
       "      <td>94.2</td>\n",
       "      <td>4.9</td>\n",
       "      <td>9.7</td>\n",
       "    </tr>\n",
       "    <tr>\n",
       "      <th>198</th>\n",
       "      <td>177.0</td>\n",
       "      <td>9.3</td>\n",
       "      <td>12.8</td>\n",
       "    </tr>\n",
       "    <tr>\n",
       "      <th>199</th>\n",
       "      <td>283.6</td>\n",
       "      <td>42.0</td>\n",
       "      <td>25.5</td>\n",
       "    </tr>\n",
       "    <tr>\n",
       "      <th>200</th>\n",
       "      <td>232.1</td>\n",
       "      <td>8.6</td>\n",
       "      <td>13.4</td>\n",
       "    </tr>\n",
       "  </tbody>\n",
       "</table>\n",
       "<p>200 rows × 3 columns</p>\n",
       "</div>"
      ],
      "text/plain": [
       "        TV  Radio  Sales\n",
       "1    230.1   37.8   22.1\n",
       "2     44.5   39.3   10.4\n",
       "3     17.2   45.9    9.3\n",
       "4    151.5   41.3   18.5\n",
       "5    180.8   10.8   12.9\n",
       "..     ...    ...    ...\n",
       "196   38.2    3.7    7.6\n",
       "197   94.2    4.9    9.7\n",
       "198  177.0    9.3   12.8\n",
       "199  283.6   42.0   25.5\n",
       "200  232.1    8.6   13.4\n",
       "\n",
       "[200 rows x 3 columns]"
      ]
     },
     "execution_count": 5,
     "metadata": {},
     "output_type": "execute_result"
    }
   ],
   "source": [
    "data"
   ]
  },
  {
   "cell_type": "code",
   "execution_count": 6,
   "id": "983518e9-df86-4dee-88f4-12bf83ed4278",
   "metadata": {},
   "outputs": [],
   "source": [
    "X = data[['TV', 'Radio']]"
   ]
  },
  {
   "cell_type": "code",
   "execution_count": 7,
   "id": "f99bc7ae-ef37-449f-be89-b6adc75920ea",
   "metadata": {},
   "outputs": [],
   "source": [
    "y = data['Sales']"
   ]
  },
  {
   "cell_type": "code",
   "execution_count": 8,
   "id": "fe4eb8de-acc2-4dd8-95f5-26e86eda829d",
   "metadata": {},
   "outputs": [],
   "source": [
    "X_train, X_test, y_train, y_test = train_test_split(X, y, test_size = 0.2, random_state = 42)"
   ]
  },
  {
   "cell_type": "code",
   "execution_count": 9,
   "id": "c0adcbaa-2cd9-4a53-8941-1b34e620fce3",
   "metadata": {},
   "outputs": [],
   "source": [
    "polynomial = PolynomialFeatures(degree = 3)"
   ]
  },
  {
   "cell_type": "code",
   "execution_count": 10,
   "id": "37497393-710e-4ea6-b82d-89981e0ea45e",
   "metadata": {},
   "outputs": [],
   "source": [
    "x_train_polynomial = polynomial.fit_transform(np.array(X_train))"
   ]
  },
  {
   "cell_type": "code",
   "execution_count": 11,
   "id": "66648b46-3407-4e99-a715-e324c9917e6b",
   "metadata": {},
   "outputs": [
    {
     "data": {
      "text/plain": [
       "array([[1.00000000e+00, 1.16000000e+02, 7.70000000e+00, ...,\n",
       "        1.03611200e+05, 6.87764000e+03, 4.56533000e+02],\n",
       "       [1.00000000e+00, 1.77000000e+02, 9.30000000e+00, ...,\n",
       "        2.91359700e+05, 1.53087300e+04, 8.04357000e+02],\n",
       "       [1.00000000e+00, 4.31000000e+01, 2.67000000e+01, ...,\n",
       "        4.95981870e+04, 3.07255590e+04, 1.90341630e+04],\n",
       "       ...,\n",
       "       [1.00000000e+00, 2.17700000e+02, 3.35000000e+01, ...,\n",
       "        1.58767521e+06, 2.44313825e+05, 3.75953750e+04],\n",
       "       [1.00000000e+00, 1.65600000e+02, 1.00000000e+01, ...,\n",
       "        2.74233600e+05, 1.65600000e+04, 1.00000000e+03],\n",
       "       [1.00000000e+00, 2.80200000e+02, 1.01000000e+01, ...,\n",
       "        7.92971604e+05, 2.85832020e+04, 1.03030100e+03]])"
      ]
     },
     "execution_count": 11,
     "metadata": {},
     "output_type": "execute_result"
    }
   ],
   "source": [
    "x_train_polynomial"
   ]
  },
  {
   "cell_type": "code",
   "execution_count": 12,
   "id": "01f25cf4-d035-4790-ada7-454c3629803e",
   "metadata": {},
   "outputs": [],
   "source": [
    "model = LinearRegression()"
   ]
  },
  {
   "cell_type": "code",
   "execution_count": 13,
   "id": "1f035bf9-7d9c-4e7d-aae6-55a9bbcffdbb",
   "metadata": {},
   "outputs": [
    {
     "data": {
      "text/html": [
       "<style>#sk-container-id-1 {\n",
       "  /* Definition of color scheme common for light and dark mode */\n",
       "  --sklearn-color-text: #000;\n",
       "  --sklearn-color-text-muted: #666;\n",
       "  --sklearn-color-line: gray;\n",
       "  /* Definition of color scheme for unfitted estimators */\n",
       "  --sklearn-color-unfitted-level-0: #fff5e6;\n",
       "  --sklearn-color-unfitted-level-1: #f6e4d2;\n",
       "  --sklearn-color-unfitted-level-2: #ffe0b3;\n",
       "  --sklearn-color-unfitted-level-3: chocolate;\n",
       "  /* Definition of color scheme for fitted estimators */\n",
       "  --sklearn-color-fitted-level-0: #f0f8ff;\n",
       "  --sklearn-color-fitted-level-1: #d4ebff;\n",
       "  --sklearn-color-fitted-level-2: #b3dbfd;\n",
       "  --sklearn-color-fitted-level-3: cornflowerblue;\n",
       "\n",
       "  /* Specific color for light theme */\n",
       "  --sklearn-color-text-on-default-background: var(--sg-text-color, var(--theme-code-foreground, var(--jp-content-font-color1, black)));\n",
       "  --sklearn-color-background: var(--sg-background-color, var(--theme-background, var(--jp-layout-color0, white)));\n",
       "  --sklearn-color-border-box: var(--sg-text-color, var(--theme-code-foreground, var(--jp-content-font-color1, black)));\n",
       "  --sklearn-color-icon: #696969;\n",
       "\n",
       "  @media (prefers-color-scheme: dark) {\n",
       "    /* Redefinition of color scheme for dark theme */\n",
       "    --sklearn-color-text-on-default-background: var(--sg-text-color, var(--theme-code-foreground, var(--jp-content-font-color1, white)));\n",
       "    --sklearn-color-background: var(--sg-background-color, var(--theme-background, var(--jp-layout-color0, #111)));\n",
       "    --sklearn-color-border-box: var(--sg-text-color, var(--theme-code-foreground, var(--jp-content-font-color1, white)));\n",
       "    --sklearn-color-icon: #878787;\n",
       "  }\n",
       "}\n",
       "\n",
       "#sk-container-id-1 {\n",
       "  color: var(--sklearn-color-text);\n",
       "}\n",
       "\n",
       "#sk-container-id-1 pre {\n",
       "  padding: 0;\n",
       "}\n",
       "\n",
       "#sk-container-id-1 input.sk-hidden--visually {\n",
       "  border: 0;\n",
       "  clip: rect(1px 1px 1px 1px);\n",
       "  clip: rect(1px, 1px, 1px, 1px);\n",
       "  height: 1px;\n",
       "  margin: -1px;\n",
       "  overflow: hidden;\n",
       "  padding: 0;\n",
       "  position: absolute;\n",
       "  width: 1px;\n",
       "}\n",
       "\n",
       "#sk-container-id-1 div.sk-dashed-wrapped {\n",
       "  border: 1px dashed var(--sklearn-color-line);\n",
       "  margin: 0 0.4em 0.5em 0.4em;\n",
       "  box-sizing: border-box;\n",
       "  padding-bottom: 0.4em;\n",
       "  background-color: var(--sklearn-color-background);\n",
       "}\n",
       "\n",
       "#sk-container-id-1 div.sk-container {\n",
       "  /* jupyter's `normalize.less` sets `[hidden] { display: none; }`\n",
       "     but bootstrap.min.css set `[hidden] { display: none !important; }`\n",
       "     so we also need the `!important` here to be able to override the\n",
       "     default hidden behavior on the sphinx rendered scikit-learn.org.\n",
       "     See: https://github.com/scikit-learn/scikit-learn/issues/21755 */\n",
       "  display: inline-block !important;\n",
       "  position: relative;\n",
       "}\n",
       "\n",
       "#sk-container-id-1 div.sk-text-repr-fallback {\n",
       "  display: none;\n",
       "}\n",
       "\n",
       "div.sk-parallel-item,\n",
       "div.sk-serial,\n",
       "div.sk-item {\n",
       "  /* draw centered vertical line to link estimators */\n",
       "  background-image: linear-gradient(var(--sklearn-color-text-on-default-background), var(--sklearn-color-text-on-default-background));\n",
       "  background-size: 2px 100%;\n",
       "  background-repeat: no-repeat;\n",
       "  background-position: center center;\n",
       "}\n",
       "\n",
       "/* Parallel-specific style estimator block */\n",
       "\n",
       "#sk-container-id-1 div.sk-parallel-item::after {\n",
       "  content: \"\";\n",
       "  width: 100%;\n",
       "  border-bottom: 2px solid var(--sklearn-color-text-on-default-background);\n",
       "  flex-grow: 1;\n",
       "}\n",
       "\n",
       "#sk-container-id-1 div.sk-parallel {\n",
       "  display: flex;\n",
       "  align-items: stretch;\n",
       "  justify-content: center;\n",
       "  background-color: var(--sklearn-color-background);\n",
       "  position: relative;\n",
       "}\n",
       "\n",
       "#sk-container-id-1 div.sk-parallel-item {\n",
       "  display: flex;\n",
       "  flex-direction: column;\n",
       "}\n",
       "\n",
       "#sk-container-id-1 div.sk-parallel-item:first-child::after {\n",
       "  align-self: flex-end;\n",
       "  width: 50%;\n",
       "}\n",
       "\n",
       "#sk-container-id-1 div.sk-parallel-item:last-child::after {\n",
       "  align-self: flex-start;\n",
       "  width: 50%;\n",
       "}\n",
       "\n",
       "#sk-container-id-1 div.sk-parallel-item:only-child::after {\n",
       "  width: 0;\n",
       "}\n",
       "\n",
       "/* Serial-specific style estimator block */\n",
       "\n",
       "#sk-container-id-1 div.sk-serial {\n",
       "  display: flex;\n",
       "  flex-direction: column;\n",
       "  align-items: center;\n",
       "  background-color: var(--sklearn-color-background);\n",
       "  padding-right: 1em;\n",
       "  padding-left: 1em;\n",
       "}\n",
       "\n",
       "\n",
       "/* Toggleable style: style used for estimator/Pipeline/ColumnTransformer box that is\n",
       "clickable and can be expanded/collapsed.\n",
       "- Pipeline and ColumnTransformer use this feature and define the default style\n",
       "- Estimators will overwrite some part of the style using the `sk-estimator` class\n",
       "*/\n",
       "\n",
       "/* Pipeline and ColumnTransformer style (default) */\n",
       "\n",
       "#sk-container-id-1 div.sk-toggleable {\n",
       "  /* Default theme specific background. It is overwritten whether we have a\n",
       "  specific estimator or a Pipeline/ColumnTransformer */\n",
       "  background-color: var(--sklearn-color-background);\n",
       "}\n",
       "\n",
       "/* Toggleable label */\n",
       "#sk-container-id-1 label.sk-toggleable__label {\n",
       "  cursor: pointer;\n",
       "  display: flex;\n",
       "  width: 100%;\n",
       "  margin-bottom: 0;\n",
       "  padding: 0.5em;\n",
       "  box-sizing: border-box;\n",
       "  text-align: center;\n",
       "  align-items: start;\n",
       "  justify-content: space-between;\n",
       "  gap: 0.5em;\n",
       "}\n",
       "\n",
       "#sk-container-id-1 label.sk-toggleable__label .caption {\n",
       "  font-size: 0.6rem;\n",
       "  font-weight: lighter;\n",
       "  color: var(--sklearn-color-text-muted);\n",
       "}\n",
       "\n",
       "#sk-container-id-1 label.sk-toggleable__label-arrow:before {\n",
       "  /* Arrow on the left of the label */\n",
       "  content: \"▸\";\n",
       "  float: left;\n",
       "  margin-right: 0.25em;\n",
       "  color: var(--sklearn-color-icon);\n",
       "}\n",
       "\n",
       "#sk-container-id-1 label.sk-toggleable__label-arrow:hover:before {\n",
       "  color: var(--sklearn-color-text);\n",
       "}\n",
       "\n",
       "/* Toggleable content - dropdown */\n",
       "\n",
       "#sk-container-id-1 div.sk-toggleable__content {\n",
       "  display: none;\n",
       "  text-align: left;\n",
       "  /* unfitted */\n",
       "  background-color: var(--sklearn-color-unfitted-level-0);\n",
       "}\n",
       "\n",
       "#sk-container-id-1 div.sk-toggleable__content.fitted {\n",
       "  /* fitted */\n",
       "  background-color: var(--sklearn-color-fitted-level-0);\n",
       "}\n",
       "\n",
       "#sk-container-id-1 div.sk-toggleable__content pre {\n",
       "  margin: 0.2em;\n",
       "  border-radius: 0.25em;\n",
       "  color: var(--sklearn-color-text);\n",
       "  /* unfitted */\n",
       "  background-color: var(--sklearn-color-unfitted-level-0);\n",
       "}\n",
       "\n",
       "#sk-container-id-1 div.sk-toggleable__content.fitted pre {\n",
       "  /* unfitted */\n",
       "  background-color: var(--sklearn-color-fitted-level-0);\n",
       "}\n",
       "\n",
       "#sk-container-id-1 input.sk-toggleable__control:checked~div.sk-toggleable__content {\n",
       "  /* Expand drop-down */\n",
       "  display: block;\n",
       "  width: 100%;\n",
       "  overflow: visible;\n",
       "}\n",
       "\n",
       "#sk-container-id-1 input.sk-toggleable__control:checked~label.sk-toggleable__label-arrow:before {\n",
       "  content: \"▾\";\n",
       "}\n",
       "\n",
       "/* Pipeline/ColumnTransformer-specific style */\n",
       "\n",
       "#sk-container-id-1 div.sk-label input.sk-toggleable__control:checked~label.sk-toggleable__label {\n",
       "  color: var(--sklearn-color-text);\n",
       "  background-color: var(--sklearn-color-unfitted-level-2);\n",
       "}\n",
       "\n",
       "#sk-container-id-1 div.sk-label.fitted input.sk-toggleable__control:checked~label.sk-toggleable__label {\n",
       "  background-color: var(--sklearn-color-fitted-level-2);\n",
       "}\n",
       "\n",
       "/* Estimator-specific style */\n",
       "\n",
       "/* Colorize estimator box */\n",
       "#sk-container-id-1 div.sk-estimator input.sk-toggleable__control:checked~label.sk-toggleable__label {\n",
       "  /* unfitted */\n",
       "  background-color: var(--sklearn-color-unfitted-level-2);\n",
       "}\n",
       "\n",
       "#sk-container-id-1 div.sk-estimator.fitted input.sk-toggleable__control:checked~label.sk-toggleable__label {\n",
       "  /* fitted */\n",
       "  background-color: var(--sklearn-color-fitted-level-2);\n",
       "}\n",
       "\n",
       "#sk-container-id-1 div.sk-label label.sk-toggleable__label,\n",
       "#sk-container-id-1 div.sk-label label {\n",
       "  /* The background is the default theme color */\n",
       "  color: var(--sklearn-color-text-on-default-background);\n",
       "}\n",
       "\n",
       "/* On hover, darken the color of the background */\n",
       "#sk-container-id-1 div.sk-label:hover label.sk-toggleable__label {\n",
       "  color: var(--sklearn-color-text);\n",
       "  background-color: var(--sklearn-color-unfitted-level-2);\n",
       "}\n",
       "\n",
       "/* Label box, darken color on hover, fitted */\n",
       "#sk-container-id-1 div.sk-label.fitted:hover label.sk-toggleable__label.fitted {\n",
       "  color: var(--sklearn-color-text);\n",
       "  background-color: var(--sklearn-color-fitted-level-2);\n",
       "}\n",
       "\n",
       "/* Estimator label */\n",
       "\n",
       "#sk-container-id-1 div.sk-label label {\n",
       "  font-family: monospace;\n",
       "  font-weight: bold;\n",
       "  display: inline-block;\n",
       "  line-height: 1.2em;\n",
       "}\n",
       "\n",
       "#sk-container-id-1 div.sk-label-container {\n",
       "  text-align: center;\n",
       "}\n",
       "\n",
       "/* Estimator-specific */\n",
       "#sk-container-id-1 div.sk-estimator {\n",
       "  font-family: monospace;\n",
       "  border: 1px dotted var(--sklearn-color-border-box);\n",
       "  border-radius: 0.25em;\n",
       "  box-sizing: border-box;\n",
       "  margin-bottom: 0.5em;\n",
       "  /* unfitted */\n",
       "  background-color: var(--sklearn-color-unfitted-level-0);\n",
       "}\n",
       "\n",
       "#sk-container-id-1 div.sk-estimator.fitted {\n",
       "  /* fitted */\n",
       "  background-color: var(--sklearn-color-fitted-level-0);\n",
       "}\n",
       "\n",
       "/* on hover */\n",
       "#sk-container-id-1 div.sk-estimator:hover {\n",
       "  /* unfitted */\n",
       "  background-color: var(--sklearn-color-unfitted-level-2);\n",
       "}\n",
       "\n",
       "#sk-container-id-1 div.sk-estimator.fitted:hover {\n",
       "  /* fitted */\n",
       "  background-color: var(--sklearn-color-fitted-level-2);\n",
       "}\n",
       "\n",
       "/* Specification for estimator info (e.g. \"i\" and \"?\") */\n",
       "\n",
       "/* Common style for \"i\" and \"?\" */\n",
       "\n",
       ".sk-estimator-doc-link,\n",
       "a:link.sk-estimator-doc-link,\n",
       "a:visited.sk-estimator-doc-link {\n",
       "  float: right;\n",
       "  font-size: smaller;\n",
       "  line-height: 1em;\n",
       "  font-family: monospace;\n",
       "  background-color: var(--sklearn-color-background);\n",
       "  border-radius: 1em;\n",
       "  height: 1em;\n",
       "  width: 1em;\n",
       "  text-decoration: none !important;\n",
       "  margin-left: 0.5em;\n",
       "  text-align: center;\n",
       "  /* unfitted */\n",
       "  border: var(--sklearn-color-unfitted-level-1) 1pt solid;\n",
       "  color: var(--sklearn-color-unfitted-level-1);\n",
       "}\n",
       "\n",
       ".sk-estimator-doc-link.fitted,\n",
       "a:link.sk-estimator-doc-link.fitted,\n",
       "a:visited.sk-estimator-doc-link.fitted {\n",
       "  /* fitted */\n",
       "  border: var(--sklearn-color-fitted-level-1) 1pt solid;\n",
       "  color: var(--sklearn-color-fitted-level-1);\n",
       "}\n",
       "\n",
       "/* On hover */\n",
       "div.sk-estimator:hover .sk-estimator-doc-link:hover,\n",
       ".sk-estimator-doc-link:hover,\n",
       "div.sk-label-container:hover .sk-estimator-doc-link:hover,\n",
       ".sk-estimator-doc-link:hover {\n",
       "  /* unfitted */\n",
       "  background-color: var(--sklearn-color-unfitted-level-3);\n",
       "  color: var(--sklearn-color-background);\n",
       "  text-decoration: none;\n",
       "}\n",
       "\n",
       "div.sk-estimator.fitted:hover .sk-estimator-doc-link.fitted:hover,\n",
       ".sk-estimator-doc-link.fitted:hover,\n",
       "div.sk-label-container:hover .sk-estimator-doc-link.fitted:hover,\n",
       ".sk-estimator-doc-link.fitted:hover {\n",
       "  /* fitted */\n",
       "  background-color: var(--sklearn-color-fitted-level-3);\n",
       "  color: var(--sklearn-color-background);\n",
       "  text-decoration: none;\n",
       "}\n",
       "\n",
       "/* Span, style for the box shown on hovering the info icon */\n",
       ".sk-estimator-doc-link span {\n",
       "  display: none;\n",
       "  z-index: 9999;\n",
       "  position: relative;\n",
       "  font-weight: normal;\n",
       "  right: .2ex;\n",
       "  padding: .5ex;\n",
       "  margin: .5ex;\n",
       "  width: min-content;\n",
       "  min-width: 20ex;\n",
       "  max-width: 50ex;\n",
       "  color: var(--sklearn-color-text);\n",
       "  box-shadow: 2pt 2pt 4pt #999;\n",
       "  /* unfitted */\n",
       "  background: var(--sklearn-color-unfitted-level-0);\n",
       "  border: .5pt solid var(--sklearn-color-unfitted-level-3);\n",
       "}\n",
       "\n",
       ".sk-estimator-doc-link.fitted span {\n",
       "  /* fitted */\n",
       "  background: var(--sklearn-color-fitted-level-0);\n",
       "  border: var(--sklearn-color-fitted-level-3);\n",
       "}\n",
       "\n",
       ".sk-estimator-doc-link:hover span {\n",
       "  display: block;\n",
       "}\n",
       "\n",
       "/* \"?\"-specific style due to the `<a>` HTML tag */\n",
       "\n",
       "#sk-container-id-1 a.estimator_doc_link {\n",
       "  float: right;\n",
       "  font-size: 1rem;\n",
       "  line-height: 1em;\n",
       "  font-family: monospace;\n",
       "  background-color: var(--sklearn-color-background);\n",
       "  border-radius: 1rem;\n",
       "  height: 1rem;\n",
       "  width: 1rem;\n",
       "  text-decoration: none;\n",
       "  /* unfitted */\n",
       "  color: var(--sklearn-color-unfitted-level-1);\n",
       "  border: var(--sklearn-color-unfitted-level-1) 1pt solid;\n",
       "}\n",
       "\n",
       "#sk-container-id-1 a.estimator_doc_link.fitted {\n",
       "  /* fitted */\n",
       "  border: var(--sklearn-color-fitted-level-1) 1pt solid;\n",
       "  color: var(--sklearn-color-fitted-level-1);\n",
       "}\n",
       "\n",
       "/* On hover */\n",
       "#sk-container-id-1 a.estimator_doc_link:hover {\n",
       "  /* unfitted */\n",
       "  background-color: var(--sklearn-color-unfitted-level-3);\n",
       "  color: var(--sklearn-color-background);\n",
       "  text-decoration: none;\n",
       "}\n",
       "\n",
       "#sk-container-id-1 a.estimator_doc_link.fitted:hover {\n",
       "  /* fitted */\n",
       "  background-color: var(--sklearn-color-fitted-level-3);\n",
       "}\n",
       "\n",
       ".estimator-table summary {\n",
       "    padding: .5rem;\n",
       "    font-family: monospace;\n",
       "    cursor: pointer;\n",
       "}\n",
       "\n",
       ".estimator-table details[open] {\n",
       "    padding-left: 0.1rem;\n",
       "    padding-right: 0.1rem;\n",
       "    padding-bottom: 0.3rem;\n",
       "}\n",
       "\n",
       ".estimator-table .parameters-table {\n",
       "    margin-left: auto !important;\n",
       "    margin-right: auto !important;\n",
       "}\n",
       "\n",
       ".estimator-table .parameters-table tr:nth-child(odd) {\n",
       "    background-color: #fff;\n",
       "}\n",
       "\n",
       ".estimator-table .parameters-table tr:nth-child(even) {\n",
       "    background-color: #f6f6f6;\n",
       "}\n",
       "\n",
       ".estimator-table .parameters-table tr:hover {\n",
       "    background-color: #e0e0e0;\n",
       "}\n",
       "\n",
       ".estimator-table table td {\n",
       "    border: 1px solid rgba(106, 105, 104, 0.232);\n",
       "}\n",
       "\n",
       ".user-set td {\n",
       "    color:rgb(255, 94, 0);\n",
       "    text-align: left;\n",
       "}\n",
       "\n",
       ".user-set td.value pre {\n",
       "    color:rgb(255, 94, 0) !important;\n",
       "    background-color: transparent !important;\n",
       "}\n",
       "\n",
       ".default td {\n",
       "    color: black;\n",
       "    text-align: left;\n",
       "}\n",
       "\n",
       ".user-set td i,\n",
       ".default td i {\n",
       "    color: black;\n",
       "}\n",
       "\n",
       ".copy-paste-icon {\n",
       "    background-image: url(data:image/svg+xml;base64,PHN2ZyB4bWxucz0iaHR0cDovL3d3dy53My5vcmcvMjAwMC9zdmciIHZpZXdCb3g9IjAgMCA0NDggNTEyIj48IS0tIUZvbnQgQXdlc29tZSBGcmVlIDYuNy4yIGJ5IEBmb250YXdlc29tZSAtIGh0dHBzOi8vZm9udGF3ZXNvbWUuY29tIExpY2Vuc2UgLSBodHRwczovL2ZvbnRhd2Vzb21lLmNvbS9saWNlbnNlL2ZyZWUgQ29weXJpZ2h0IDIwMjUgRm9udGljb25zLCBJbmMuLS0+PHBhdGggZD0iTTIwOCAwTDMzMi4xIDBjMTIuNyAwIDI0LjkgNS4xIDMzLjkgMTQuMWw2Ny45IDY3LjljOSA5IDE0LjEgMjEuMiAxNC4xIDMzLjlMNDQ4IDMzNmMwIDI2LjUtMjEuNSA0OC00OCA0OGwtMTkyIDBjLTI2LjUgMC00OC0yMS41LTQ4LTQ4bDAtMjg4YzAtMjYuNSAyMS41LTQ4IDQ4LTQ4ek00OCAxMjhsODAgMCAwIDY0LTY0IDAgMCAyNTYgMTkyIDAgMC0zMiA2NCAwIDAgNDhjMCAyNi41LTIxLjUgNDgtNDggNDhMNDggNTEyYy0yNi41IDAtNDgtMjEuNS00OC00OEwwIDE3NmMwLTI2LjUgMjEuNS00OCA0OC00OHoiLz48L3N2Zz4=);\n",
       "    background-repeat: no-repeat;\n",
       "    background-size: 14px 14px;\n",
       "    background-position: 0;\n",
       "    display: inline-block;\n",
       "    width: 14px;\n",
       "    height: 14px;\n",
       "    cursor: pointer;\n",
       "}\n",
       "</style><body><div id=\"sk-container-id-1\" class=\"sk-top-container\"><div class=\"sk-text-repr-fallback\"><pre>LinearRegression()</pre><b>In a Jupyter environment, please rerun this cell to show the HTML representation or trust the notebook. <br />On GitHub, the HTML representation is unable to render, please try loading this page with nbviewer.org.</b></div><div class=\"sk-container\" hidden><div class=\"sk-item\"><div class=\"sk-estimator fitted sk-toggleable\"><input class=\"sk-toggleable__control sk-hidden--visually\" id=\"sk-estimator-id-1\" type=\"checkbox\" checked><label for=\"sk-estimator-id-1\" class=\"sk-toggleable__label fitted sk-toggleable__label-arrow\"><div><div>LinearRegression</div></div><div><a class=\"sk-estimator-doc-link fitted\" rel=\"noreferrer\" target=\"_blank\" href=\"https://scikit-learn.org/1.7/modules/generated/sklearn.linear_model.LinearRegression.html\">?<span>Documentation for LinearRegression</span></a><span class=\"sk-estimator-doc-link fitted\">i<span>Fitted</span></span></div></label><div class=\"sk-toggleable__content fitted\" data-param-prefix=\"\">\n",
       "        <div class=\"estimator-table\">\n",
       "            <details>\n",
       "                <summary>Parameters</summary>\n",
       "                <table class=\"parameters-table\">\n",
       "                  <tbody>\n",
       "                    \n",
       "        <tr class=\"default\">\n",
       "            <td><i class=\"copy-paste-icon\"\n",
       "                 onclick=\"copyToClipboard('fit_intercept',\n",
       "                          this.parentElement.nextElementSibling)\"\n",
       "            ></i></td>\n",
       "            <td class=\"param\">fit_intercept&nbsp;</td>\n",
       "            <td class=\"value\">True</td>\n",
       "        </tr>\n",
       "    \n",
       "\n",
       "        <tr class=\"default\">\n",
       "            <td><i class=\"copy-paste-icon\"\n",
       "                 onclick=\"copyToClipboard('copy_X',\n",
       "                          this.parentElement.nextElementSibling)\"\n",
       "            ></i></td>\n",
       "            <td class=\"param\">copy_X&nbsp;</td>\n",
       "            <td class=\"value\">True</td>\n",
       "        </tr>\n",
       "    \n",
       "\n",
       "        <tr class=\"default\">\n",
       "            <td><i class=\"copy-paste-icon\"\n",
       "                 onclick=\"copyToClipboard('tol',\n",
       "                          this.parentElement.nextElementSibling)\"\n",
       "            ></i></td>\n",
       "            <td class=\"param\">tol&nbsp;</td>\n",
       "            <td class=\"value\">1e-06</td>\n",
       "        </tr>\n",
       "    \n",
       "\n",
       "        <tr class=\"default\">\n",
       "            <td><i class=\"copy-paste-icon\"\n",
       "                 onclick=\"copyToClipboard('n_jobs',\n",
       "                          this.parentElement.nextElementSibling)\"\n",
       "            ></i></td>\n",
       "            <td class=\"param\">n_jobs&nbsp;</td>\n",
       "            <td class=\"value\">None</td>\n",
       "        </tr>\n",
       "    \n",
       "\n",
       "        <tr class=\"default\">\n",
       "            <td><i class=\"copy-paste-icon\"\n",
       "                 onclick=\"copyToClipboard('positive',\n",
       "                          this.parentElement.nextElementSibling)\"\n",
       "            ></i></td>\n",
       "            <td class=\"param\">positive&nbsp;</td>\n",
       "            <td class=\"value\">False</td>\n",
       "        </tr>\n",
       "    \n",
       "                  </tbody>\n",
       "                </table>\n",
       "            </details>\n",
       "        </div>\n",
       "    </div></div></div></div></div><script>function copyToClipboard(text, element) {\n",
       "    // Get the parameter prefix from the closest toggleable content\n",
       "    const toggleableContent = element.closest('.sk-toggleable__content');\n",
       "    const paramPrefix = toggleableContent ? toggleableContent.dataset.paramPrefix : '';\n",
       "    const fullParamName = paramPrefix ? `${paramPrefix}${text}` : text;\n",
       "\n",
       "    const originalStyle = element.style;\n",
       "    const computedStyle = window.getComputedStyle(element);\n",
       "    const originalWidth = computedStyle.width;\n",
       "    const originalHTML = element.innerHTML.replace('Copied!', '');\n",
       "\n",
       "    navigator.clipboard.writeText(fullParamName)\n",
       "        .then(() => {\n",
       "            element.style.width = originalWidth;\n",
       "            element.style.color = 'green';\n",
       "            element.innerHTML = \"Copied!\";\n",
       "\n",
       "            setTimeout(() => {\n",
       "                element.innerHTML = originalHTML;\n",
       "                element.style = originalStyle;\n",
       "            }, 2000);\n",
       "        })\n",
       "        .catch(err => {\n",
       "            console.error('Failed to copy:', err);\n",
       "            element.style.color = 'red';\n",
       "            element.innerHTML = \"Failed!\";\n",
       "            setTimeout(() => {\n",
       "                element.innerHTML = originalHTML;\n",
       "                element.style = originalStyle;\n",
       "            }, 2000);\n",
       "        });\n",
       "    return false;\n",
       "}\n",
       "\n",
       "document.querySelectorAll('.fa-regular.fa-copy').forEach(function(element) {\n",
       "    const toggleableContent = element.closest('.sk-toggleable__content');\n",
       "    const paramPrefix = toggleableContent ? toggleableContent.dataset.paramPrefix : '';\n",
       "    const paramName = element.parentElement.nextElementSibling.textContent.trim();\n",
       "    const fullParamName = paramPrefix ? `${paramPrefix}${paramName}` : paramName;\n",
       "\n",
       "    element.setAttribute('title', fullParamName);\n",
       "});\n",
       "</script></body>"
      ],
      "text/plain": [
       "LinearRegression()"
      ]
     },
     "execution_count": 13,
     "metadata": {},
     "output_type": "execute_result"
    }
   ],
   "source": [
    "model.fit(x_train_polynomial, y_train)"
   ]
  },
  {
   "cell_type": "code",
   "execution_count": 14,
   "id": "dd9335c9-622d-432c-ae8e-c75583d43aa5",
   "metadata": {},
   "outputs": [
    {
     "data": {
      "text/plain": [
       "(array([ 0.00000000e+00,  8.57911517e-02,  4.25967902e-02, -4.12228920e-04,\n",
       "         1.18065128e-03, -4.76647648e-04,  7.11082546e-07, -5.96205229e-07,\n",
       "         6.16207461e-07,  6.54894889e-06]),\n",
       " np.float64(4.217506259895185))"
      ]
     },
     "execution_count": 14,
     "metadata": {},
     "output_type": "execute_result"
    }
   ],
   "source": [
    "model.coef_, model.intercept_"
   ]
  },
  {
   "cell_type": "code",
   "execution_count": 15,
   "id": "e2dd17c2-c204-4338-8841-e0b00b033e95",
   "metadata": {},
   "outputs": [],
   "source": [
    "x_test_polynomial = polynomial.transform(np.array(X_test))"
   ]
  },
  {
   "cell_type": "code",
   "execution_count": 16,
   "id": "2b1183ab-0230-4923-b7ce-4d021a25c159",
   "metadata": {},
   "outputs": [],
   "source": [
    "y_pred = model.predict(x_test_polynomial)"
   ]
  },
  {
   "cell_type": "code",
   "execution_count": 17,
   "id": "7320f04b-48dd-498d-bf15-36b5b12e76c9",
   "metadata": {},
   "outputs": [
    {
     "data": {
      "text/plain": [
       "array([17.09820401, 22.39742366, 21.30426012,  6.93435417, 24.07977302,\n",
       "       12.86675681, 22.45693354,  8.67721778, 11.66366669, 15.50461235,\n",
       "        8.3021258 ,  8.46031859, 11.80763082,  5.88452838, 10.50297127,\n",
       "       12.12900643,  6.03284914, 16.33644972, 11.12211297, 18.70721171,\n",
       "       19.77433654, 12.48786129, 10.10387985, 21.90997812,  9.50316642,\n",
       "        7.94270695, 22.0483836 , 12.86364827, 10.65132257,  6.11970543,\n",
       "       11.23391507, 10.77947956, 23.03359384,  7.93522755, 16.05020802,\n",
       "       20.69706556, 11.78929506, 20.57734016, 12.22792039,  6.3980352 ])"
      ]
     },
     "execution_count": 17,
     "metadata": {},
     "output_type": "execute_result"
    }
   ],
   "source": [
    "y_pred"
   ]
  },
  {
   "cell_type": "code",
   "execution_count": 18,
   "id": "da5ddac9-fd51-417e-ae89-2d869ff9e82c",
   "metadata": {},
   "outputs": [
    {
     "data": {
      "text/plain": [
       "96     0.198204\n",
       "16    -0.002576\n",
       "31    -0.095740\n",
       "159   -0.365646\n",
       "129   -0.620227\n",
       "116    0.266757\n",
       "70     0.156934\n",
       "171    0.277218\n",
       "175    0.163667\n",
       "46     0.604612\n",
       "Name: Sales, dtype: float64"
      ]
     },
     "execution_count": 18,
     "metadata": {},
     "output_type": "execute_result"
    }
   ],
   "source": [
    "(y_pred - y_test)[:10]"
   ]
  },
  {
   "cell_type": "code",
   "execution_count": 19,
   "id": "774dece4-0cd1-4633-b0a9-fc68145f7e26",
   "metadata": {},
   "outputs": [
    {
     "name": "stdout",
     "output_type": "stream",
     "text": [
      "Mean Absolute Persentage Error: 0.03234%\n",
      "Mean Absolute Error: 0.33585\n",
      "Root Mean Squared Error: 0.42274\n"
     ]
    }
   ],
   "source": [
    "MAPE = mean_absolute_percentage_error(y_test, y_pred)\n",
    "MAE = mean_absolute_error(y_test, y_pred)\n",
    "RMSE = np.sqrt(mean_squared_error(y_test, y_pred))\n",
    "\n",
    "print(f\"Mean Absolute Persentage Error: {MAPE:.5f}%\")\n",
    "print(f\"Mean Absolute Error: {MAE:.5f}\")\n",
    "print(f\"Root Mean Squared Error: {RMSE:.5f}\")"
   ]
  },
  {
   "cell_type": "code",
   "execution_count": 20,
   "id": "9c1bf3a9-d9b0-4a49-8d79-dd3b47e0afe1",
   "metadata": {},
   "outputs": [
    {
     "name": "stdout",
     "output_type": "stream",
     "text": [
      "Degree          MAE     MAPE (%)         RMSE\n",
      "     1       1.4443         0.15       1.7714\n",
      "     2       0.4935         0.05       0.6035\n",
      "     3       0.3359         0.03       0.4227\n",
      "     4       0.3570         0.03       0.4381\n",
      "     5       0.3978         0.04       0.4952\n",
      "     6       0.4333         0.04       0.5278\n",
      "     7       0.4378         0.04       0.5089\n",
      "     8       0.6315         0.06       0.8222\n",
      "     9       0.7237         0.08       1.0579\n",
      "    10       0.7859         0.08       1.0689\n",
      "    11       1.1595         0.12       1.5792\n",
      "    12       1.2510         0.14       1.7113\n",
      "    13       1.4518         0.15       1.8465\n",
      "    14       1.5734         0.17       1.9882\n"
     ]
    }
   ],
   "source": [
    "degrees = range(1, 15)\n",
    "\n",
    "print(f\"{'Degree':>6}   {'MAE':>10}   {'MAPE (%)':>10}   {'RMSE':>10}\")\n",
    "\n",
    "for degree in degrees:\n",
    "    polynomial_2 = make_pipeline(PolynomialFeatures(degree))\n",
    "    x_train_poly = polynomial_2.fit_transform(np.array(X_train))\n",
    "    model_2 = LinearRegression()\n",
    "    model_2.fit(x_train_poly, y_train)\n",
    "    x_test_polynomial = polynomial_2.transform(np.array(X_test))\n",
    "    y_pred = model_2.predict(x_test_polynomial)\n",
    "\n",
    "    mae = mean_absolute_error(y_test, y_pred)\n",
    "    mape = mean_absolute_percentage_error(y_test, y_pred)\n",
    "    rmse = np.sqrt(mean_squared_error(y_test, y_pred))\n",
    "\n",
    "    print(f\"{degree:6}   {mae:10.4f}   {mape:10.2f}   {rmse:10.4f}\")"
   ]
  },
  {
   "cell_type": "code",
   "execution_count": 21,
   "id": "36f7ca5c-3711-438f-abfd-45dcf5e30f6f",
   "metadata": {},
   "outputs": [],
   "source": [
    "def static_surface(X_train, y_train, degree):\n",
    "    x0 = np.array(X_train['TV'])\n",
    "    x1 = np.array(X_train['Radio'])\n",
    "    y = np.array(y_train)\n",
    "    X = np.c_[x0, x1]\n",
    "\n",
    "    x0_range = np.linspace(x0.min(), x0.max(), 30)\n",
    "    x1_range = np.linspace(x1.min(), x1.max(), 30)\n",
    "    x0_grid, x1_grid = np.meshgrid(x0_range, x1_range)\n",
    "    X_grid = np.c_[x0_grid.ravel(), x1_grid.ravel()]\n",
    "\n",
    "    model = make_pipeline(PolynomialFeatures(degree), LinearRegression())\n",
    "    model.fit(X, y)\n",
    "    y_pred = model.predict(X_grid).reshape(x0_grid.shape)\n",
    "\n",
    "    fig = go.Figure()\n",
    "    \n",
    "    fig.add_trace(go.Scatter3d(\n",
    "    x = x0, y = x1, z = y, mode = 'markers', marker = dict(size = 4, color = 'red'), name = 'Data Points'\n",
    "    ))\n",
    "    \n",
    "    fig.add_trace(go.Surface(\n",
    "    x = x0_grid, y = x1_grid, z = y_pred, opacity = 0.6, colorscale = 'Viridis', name = 'Polynomial Surface'\n",
    "    ))\n",
    "    \n",
    "    fig.update_layout(\n",
    "    scene = dict(\n",
    "        xaxis_title = 'TV', yaxis_title = 'Radio', zaxis_title = 'Sales'\n",
    "    ),\n",
    "    title = 'Polynomial regression surface',\n",
    "    width = 1000,\n",
    "    height = 700\n",
    "    )\n",
    "    \n",
    "    fig.show()\n"
   ]
  },
  {
   "cell_type": "code",
   "execution_count": 22,
   "id": "e9bb6f28-3945-491a-8c33-5ca63f6cbb92",
   "metadata": {},
   "outputs": [
    {
     "data": {
      "application/vnd.plotly.v1+json": {
       "config": {
        "plotlyServerURL": "https://plot.ly"
       },
       "data": [
        {
         "marker": {
          "color": "red",
          "size": 4
         },
         "mode": "markers",
         "name": "Data Points",
         "type": "scatter3d",
         "x": {
          "bdata": "AAAAAAAAXUAAAAAAACBmQM3MzMzMjEVAZmZmZmYmT0AAAAAAAABsQJqZmZmZGUNAZmZmZmamUUCamZmZmWliQGZmZmZmJlpAMzMzMzMTU0DNzMzMzIxTQM3MzMzMDGVAZmZmZmZmIUAzMzMzMzMfQJqZmZmZGVNAzczMzMwsYECamZmZmVlSQDMzMzMzG3JAmpmZmZmZM0AzMzMzM7NoQM3MzMzMxHFAzczMzMwcZ0CamZmZmTlcQM3MzMzMzDdAMzMzMzMrckBmZmZmZmYzQJqZmZmZWXJAMzMzMzOzMkCamZmZmclgQJqZmZmZmTlAmpmZmZkZWUDNzMzMzAxUQM3MzMzMjGdAAAAAAAAgZkDNzMzMzGxfQDMzMzMzM2pAzczMzMzcYUDNzMzMzBxnQM3MzMzMzGtAZmZmZmY2bkAzMzMzMzMxQAAAAAAAIF5AzczMzMxsVkAzMzMzM+NnQAAAAAAA4FJAZmZmZmYmaEDNzMzMzGxVQGZmZmZmrnBAAAAAAADAQ0DNzMzMzFRwQGZmZmZmZipAZmZmZmY2aEBmZmZmZoZyQJqZmZmZmXBAZmZmZmbWakBmZmZmZrZiQGZmZmZmdmBAAAAAAADATEAzMzMzMwNuQJqZmZmZqWFAmpmZmZmZZkDNzMzMzExYQAAAAAAAkGtAmpmZmZmJYUDNzMzMzOxvQM3MzMzMDFhAZmZmZmaGUECamZmZmeltQGZmZmZm9mVAMzMzMzMDbkBmZmZmZuYxQDMzMzMzw2xAmpmZmZm5cUCamZmZmWllQDMzMzMz42hAZmZmZmbGXkAzMzMzM2NgQJqZmZmZGTlAAAAAAABwZECamZmZmRlvQAAAAAAAUGlAMzMzMzMzKkBmZmZmZmYQQJqZmZmZeVdAZmZmZmZucECamZmZmYlsQJqZmZmZuW9AZmZmZmZmbkCamZmZmfltQAAAAAAAgGxAzczMzMzsakDNzMzMzPxtQJqZmZmZ2VpAmpmZmZl5Z0DNzMzMzNxpQAAAAAAAgEVAAAAAAADwYkDNzMzMzDxhQDMzMzMz02ZAmpmZmZl5a0AzMzMzM5NjQDMzMzMzS3FAAAAAAACgaUCamZmZmblQQJqZmZmZGVNAzczMzMzsV0DNzMzMzAxeQJqZmZmZOWxAmpmZmZmZPECamZmZmRlRQM3MzMzMDG9AAAAAAABQa0AzMzMzM3NbQDMzMzMzMyFAAAAAAABgWEBmZmZmZlZqQAAAAAAAkGRAMzMzMzOTcEBmZmZmZpZxQM3MzMzMzDpAZmZmZmZOcUAzMzMzM3NCQJqZmZmZ2WlAmpmZmZn5cUDNzMzMzKxZQDMzMzMza3BAmpmZmZmZVkCamZmZmfloQM3MzMzMjFdAmpmZmZlZakBmZmZmZmZsQDMzMzMzE1ZAzczMzMysbUBmZmZmZgZhQAAAAAAAkGVAMzMzMzMzMUDNzMzMzMxNQM3MzMzMrFJAmpmZmZm5YkCamZmZmdlkQAAAAAAAQEZAzczMzMwMa0CamZmZmVlGQGZmZmZmZuY/AAAAAABAXkDNzMzMzHxnQGZmZmZm5mBAZmZmZmZmYUDNzMzMzKxbQM3MzMzMrGpAzczMzMzMMkAzMzMzMwNtQM3MzMzMTGtAAAAAAADgcUAzMzMzM3NbQAAAAAAAADlAMzMzMzODaUBmZmZmZjZrQDMzMzMzs2RAMzMzMzODcUA=",
          "dtype": "f8"
         },
         "y": {
          "bdata": "zczMzMzMHkCamZmZmZkiQDMzMzMzszpAMzMzMzMzKUAzMzMzMzMDQJqZmZmZmQ1AAAAAAAAAMEBmZmZmZuY3QM3MzMzMzBZAAAAAAACAO0BmZmZmZmZHQGZmZmZmZhxAMzMzMzNzSEAzMzMzM3NDQJqZmZmZmek/zczMzMzMFkAAAAAAAAAxQGZmZmZmJkVAmpmZmZkZNEAAAAAAAAAMQDMzMzMzMyVAAAAAAAAANUBmZmZmZmYxQM3MzMzMjEFAZmZmZmZmEEAAAAAAAAAwQDMzMzMzsztAMzMzMzMzKECamZmZmZkTQAAAAAAAgENAMzMzMzMzI0AAAAAAAAAAAJqZmZmZGTJAMzMzMzOzQEAzMzMzM3NCQJqZmZmZmTRAzczMzMxMPUAzMzMzM/NFQDMzMzMzMxFAAAAAAAAAQ0AzMzMzM/NGQAAAAAAAgDxAzczMzMzMI0AzMzMzM7M8QJqZmZmZmSVAZmZmZmZmMkBmZmZmZuZBQGZmZmZm5kVAzczMzMyMRECamZmZmVlFQM3MzMzMzC9AMzMzMzOzQUBmZmZmZiZCQAAAAAAAADRAAAAAAAAAOEDNzMzMzMxBQGZmZmZmZjJAZmZmZmZmQEAzMzMzM7MwQM3MzMzMzDpAmpmZmZmZJUAAAAAAAAD4P5qZmZmZmUBAZmZmZmZm/j9mZmZmZuY6QJqZmZmZmS1AMzMzMzMzF0AAAAAAAAAvQM3MzMzMzC5AMzMzMzMzHUDNzMzMzMxCQGZmZmZm5kJAAAAAAAAARUCamZmZmdlDQJqZmZmZmT5AzczMzMxMQUBmZmZmZmZFQDMzMzMzszlAZmZmZmZmQkCamZmZmRk7QM3MzMzMTDZAmpmZmZmZ2T8zMzMzMzMnQAAAAAAAwEVAAAAAAAAADEBmZmZmZuYwQM3MzMzMTDVAAAAAAACASEBmZmZmZmYQQJqZmZmZ2UJAmpmZmZmZN0AAAAAAAMBEQAAAAAAAACxAmpmZmZkZNUDNzMzMzMwgQGZmZmZm5jlAZmZmZmamREAzMzMzMzNHQJqZmZmZGUdAAAAAAADAQEDNzMzMzMwEQGZmZmZmZgJAzczMzMyMRkBmZmZmZmYnQDMzMzMzszpAZmZmZmZm9j+amZmZmZkzQGZmZmZmZiBAAAAAAAAA+D8AAAAAAEBGQDMzMzMzMz5AmpmZmZmZFUBmZmZmZuZHQM3MzMzMzABAZmZmZmZmHkAAAAAAAIA9QGZmZmZm5jRAMzMzMzMzB0DNzMzMzMxDQAAAAAAAgEBAMzMzMzNzSEDNzMzMzExDQM3MzMzMzBRAAAAAAACARUCamZmZmZk9QM3MzMzMzDxAMzMzMzMz0z/NzMzMzMwIQJqZmZmZmRNAzczMzMzMSECamZmZmZkvQAAAAAAAgDlAZmZmZmZmFEAzMzMzMzMzQJqZmZmZGTJAZmZmZmZmEEAAAAAAAAAoQDMzMzMzs0hAzczMzMzM9D8AAAAAAABFQGZmZmZmpkNAmpmZmZnZREDNzMzMzMw5QM3MzMzMzENAzczMzMzMIEAzMzMzMzMxQJqZmZmZ2URAmpmZmZmZLEDNzMzMzExEQJqZmZmZmThAMzMzMzOzNUAzMzMzMzMhQDMzMzMzsztAzczMzMzMK0CamZmZmZksQAAAAAAAACZAMzMzMzNzQEAAAAAAAMBAQAAAAAAAACRAMzMzMzMzJEA=",
          "dtype": "f8"
         },
         "z": {
          "bdata": "AAAAAAAAJkCamZmZmZkpQDMzMzMzMyRAZmZmZmZmI0AzMzMzMzMnQGZmZmZmZh5AAAAAAAAAJUAzMzMzMzMtQM3MzMzMzCRAAAAAAAAAKEAzMzMzMzMtQGZmZmZmZidAzczMzMzMHEBmZmZmZmYaQM3MzMzMzCJAAAAAAAAAJkDNzMzMzMwlQGZmZmZmZjlAZmZmZmZmHkBmZmZmZmYnQAAAAAAAAC5AAAAAAAAAL0DNzMzMzMwnQGZmZmZmZiJAmpmZmZmZKUBmZmZmZmYaQDMzMzMzszRAzczMzMzMGkBmZmZmZmYmQAAAAAAAACNAZmZmZmZmJUCamZmZmZkhQM3MzMzMzC1AmpmZmZkZMUDNzMzMzMwvQM3MzMzMzC9AAAAAAAAALkAzMzMzM7M0QGZmZmZmZidAzczMzMzMNUCamZmZmZkiQGZmZmZmZixAMzMzMzMzJUDNzMzMzEwxQM3MzMzMzCNAZmZmZmZmLkCamZmZmZkqQGZmZmZmZjlAmpmZmZmZJUAzMzMzMzM4QGZmZmZmZhZAMzMzMzMzM0DNzMzMzMw3QGZmZmZmZjFAZmZmZmZmMUDNzMzMzEwxQM3MzMzMzClAmpmZmZmZJ0DNzMzMzMwvQAAAAAAAAC9AzczMzMzMKUAzMzMzMzMjQJqZmZmZGTRAmpmZmZmZJEDNzMzMzMwzQM3MzMzMzCZAMzMzMzMzIUBmZmZmZmYvQDMzMzMzMyxAZmZmZmZmKkAAAAAAAAAgQJqZmZmZGTZAAAAAAACAOUAAAAAAAAAzQM3MzMzMTDJAZmZmZmZmLkAAAAAAAAAyQAAAAAAAACFAAAAAAAAAMkBmZmZmZuYyQJqZmZmZmTBAMzMzMzMzFUCamZmZmZkJQJqZmZmZmS5AAAAAAAAAKEAAAAAAAAAvQJqZmZmZmTFAZmZmZmZmOUCamZmZmZkoQAAAAAAAgDVAmpmZmZkZMUAzMzMzMzM3QAAAAAAAACdAMzMzMzMzL0DNzMzMzMwpQDMzMzMzMyNAAAAAAACAMkAzMzMzMzMzQDMzMzMzMzVAmpmZmZmZM0AAAAAAAAAlQJqZmZmZmSdAmpmZmZmZNkBmZmZmZmYjQJqZmZmZmSdAAAAAAAAAI0BmZmZmZmYqQM3MzMzMzCpAMzMzMzMzHUAzMzMzMzMrQDMzMzMzMzRAZmZmZmZmKEAzMzMzM7MwQDMzMzMzMxNAZmZmZmZmI0BmZmZmZmYyQAAAAAAAAC1AZmZmZmZmKUBmZmZmZmY4QJqZmZmZmSFAAAAAAAAAO0CamZmZmZklQGZmZmZmZihAMzMzMzMzOkAAAAAAAAAsQDMzMzMzMzRAZmZmZmZmIUDNzMzMzMwmQGZmZmZmZiNAzczMzMzMN0CamZmZmZktQM3MzMzMzClAAAAAAAAAKUBmZmZmZmYqQM3MzMzMzCxAmpmZmZmZF0BmZmZmZmYjQGZmZmZmZi1AMzMzMzMzJECamZmZmZkzQM3MzMzMzCRAmpmZmZmZNkAzMzMzMzMkQJqZmZmZmfk/MzMzMzMzJ0BmZmZmZmYtQDMzMzMzMzFAZmZmZmZmKEAAAAAAAAAwQAAAAAAAADFAAAAAAAAAHEDNzMzMzMwqQAAAAAAAADJAzczMzMzML0DNzMzMzMwoQM3MzMzMzBxAAAAAAAAAM0BmZmZmZmYzQDMzMzMzMylAmpmZmZmZLUA=",
          "dtype": "f8"
         }
        },
        {
         "colorscale": [
          [
           0,
           "#440154"
          ],
          [
           0.1111111111111111,
           "#482878"
          ],
          [
           0.2222222222222222,
           "#3e4989"
          ],
          [
           0.3333333333333333,
           "#31688e"
          ],
          [
           0.4444444444444444,
           "#26828e"
          ],
          [
           0.5555555555555556,
           "#1f9e89"
          ],
          [
           0.6666666666666666,
           "#35b779"
          ],
          [
           0.7777777777777778,
           "#6ece58"
          ],
          [
           0.8888888888888888,
           "#b5de2b"
          ],
          [
           1,
           "#fde725"
          ]
         ],
         "name": "Polynomial Surface",
         "opacity": 0.6,
         "type": "surface",
         "x": {
          "bdata": "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",
          "dtype": "f8",
          "shape": "30, 30"
         },
         "y": {
          "bdata": "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",
          "dtype": "f8",
          "shape": "30, 30"
         },
         "z": {
          "bdata": "Teug0QMcEUBmHXa6z2oUQKs+lhvIZhdAHJ+npY4UGkC8jlAJxXgcQIhdN/cMmB5AwS0BEIQ7IEBW7CsaLA0hQIMSb3JPwyFASMgd8T5gIkCmNYtuS+YiQJyCCsPFVyNALNfuxv62I0BUW4tSRwYkQBc3Mz7wRyRAdJI5Ykp+JEBqlfGWpqskQPtnrrRV0iRAKDLDk6j0JEDvG4MM8BQlQFRNQfd8NSVAUu5QLKBYJUDtJgWEqoAlQCUfsdbsryVA+P6n/LfoJUBp7jzOXC0mQHgVwyMsgCZAI5yN1XbjJkBsqu+7jVknQFRoPK/B5CdAXtmkMaxmEUDyVQrjcsoUQApzBXcu2xdAqIA8noCdGkDMzlUJCxYdQHSt92hvSR9AUjbktieeIEAuLjdkpnkhQE3mx5SEOSJAsIbpIBPgIkBYN+/gom8jQEYgLK2E6iNAeGnzXQlTJEDwOpjLgaskQK68bc4+9iRAshbHPpE1JUD7cPf0yWslQIvzUck5myVAZMYplDHGJUCCEdItAu8lQOr8nW78FyZAmLDgLnFDJkCQVO1GsXMmQNAQF48NqyZAVg2x39brJkAncg4RXjgnQENngvvzkidAphRgd+n9J0BUovpcj3soQE04pYQ2DilAUVfZvK2uEUC9NL7ZeCcVQAVkg0MBTRhAKjXPqugjG0Au+EfA0LAdQA/9kzRb+B9A5sks3JT/IEA2hh/+7uQhQHZbddiMriJApnGBQ79eI0DH8JYX1/cjQNgACS0lfCRA3MkqXPrtJEDQc099p08lQLYmymh9oyVAjgru9szrJUBaRw4A5yomQBcFflwcYyZAyGuQ5L2WJkBso5hwHMgmQAbU6diI+SZAkiXX9VMtJ0ASwLOfzmUnQIjL0q5JpSdA8W+H+xXuJ0BO1SRehEIoQKQj/q7lpChA7YJmxooXKUAtG7F8xJwpQGQUMarjNipAr8+N/Dv0EUBNJOEnFYIVQCB8Xwp0vBhAKCevVPqnG0BndXa3SUkeQG7brfGBUiBAxJ2CROVfIUC1qYysH08iQEInHwKCIiNAbD6NHV3cI0A0FyrXAX8kQJfZSAfBDCVAmK08huuHJUA4u1gs0vIlQHYq8NHFTyZAUCNWTxehJkDKzd18F+kmQOJR2jIXKidAm9eeSWdmJ0Dyhn6ZWKAnQOqHzPo72idAgALcRWIWKEC4HgBTHFcoQJEEjPq6nihACdzSFI/vKEAkzSd66UspQOH/3QIbtilAPpxIh3QwKkA9yrrfRr0qQN+xh+TiXitA/awReoo3EkAqj8JWe9oVQOMl6VS6KRlAKsErJekpHED/sDB4qd8eQLEiT3/OpyBAKmeNtDK/IUDsTSY0UrgiQPX+bNZ9lSNAR6K0cwZZJEDiX1DkPAUlQMZfkwBynCVA88nQoPYgJkBqxludG5UmQCx9h84x+yZAOBanDIpVJ0COuQ0wdaYnQC6PDhFE8CdAHL/8h0c1KEBUcStt0HcoQNjN7ZgvuihAqPyW47X+KEDEJXoltEcpQC9x6jZ7lylA5AY78FvwKUDoDr8pp1QqQDuxybutxipA2BWufsBIK0DGZL9KMN0rQALGUPhNhixAwlm0vsx4EkDZ37Hv3jAWQNTLb6wHlRlAtG2UpeipHEB8FcaLI3QfQJaJ1Qct/CBAYNv08JYdIkAeKJRZoCAjQNGXBhqaByRAeVKfCtXUJEAVgLEDooolQKZIkN1RKyZALtSOcDW5JkCrSgCVnTYnQB7UNyPbpSdAiJiI8z4JKEDpv0XeGWMoQEFywru8tShAkNdRZHgDKUDWF0ewnU4pQBVb9Xd9mSlATMmvk2jmKUB8isnbrzcqQKXGlSikjypAxqVnUpbwKkDhT5Ix11wrQPbsaJ631itABKU+cYhgLEAMoGaCmvwsQBAGNKo+rS1AhUDFUza4EkDhgP57c4UWQHnYQpqP/hlAUJc4XywoHUCyBsO9dQMgQFzF6E+3TyFApq9gvit7IkCQ7X3hI4gjQBqnk5HweCRARQT1puJPJUARLfX5Sg8mQH5J52J6uSZAjYEeusFQJ0A+/e3XcdcnQJHkqJTbTyhAiF+iyE+8KEAfli1MHx8pQFuwnfeaeilAOtZFoxPRKUC9L3kn2iQqQOfkilw/eCpAsR3OGpTNKkAiApY6KScrQDi6NZRPhytA8W0AAFjwK0BQRUlWk2QsQFZoY29S5ixAAf+hI+Z3LUBRMVhLnxsuQEon2b7O0y5AzMuTwvr1EkDI3PeEbNgWQFq2saeFZhpAgqhn2+ekHUCgAWBoGkwgQEqLMByHoiFAQJl44QrYIkCEU4uQ9u4jQBLiuwGb6SRA7mxdDUnKJUAYHMOLUZMmQI4XQFUFRydAU4cnQrXnJ0Blk8wqsncoQMVjgudM+ShAdCCcUNZuKUBz8Ww+n9opQMD+R4n4PipAXnCACTOeKkBJbmmXn/oqQIkgVguPVitAF6+ZPVK0K0D1QYcGOhYsQCYBcj6XfixApRStvbrvLEB4pItc9WstQJ3YYPOX9S1AEtl/WvOOLkDZzTtqWDovQPbe5/oX+i9AHmZvlE0yE0AWXu2T/SkXQPzPC14dzRpA0Atxo04gHkDKsGGKGZQgQKOQVDG29CFAdE3kHk40I0A+D2QrMlUkQAD+Ji+zWSVAukGAAiJEJkBuAsN9zxYnQBxoQnkM1CdAw5pRzSl+KEBkwkNSeBcpQAAHbOBIoilAmJAdUOwgKkAoh6t5s5UqQLUSaTXvAitAQFupW/BqK0DDiL/EB9ArQEbD/kiGNCxAxDK6wLyaLEA+/0QE/AQtQLZQ8uuUdS1AKk8VUNjuLUCdIgEJF3MuQBDzCO+hBC9Afuh/2smlL0B0ldzRbywwQCrxgxEakDBAAnqnUmJtE0BSby4yWnoXQOiPoEaKMhtAwyukQJSaHkB0yW/ojNsgQKmK/FNeRiJAgoFLOw+QI0AA1q928LokQCKwfN5SySVA6jcFS4e9JkBWlZyU3pknQGjwlZOpYChAIXFEIDkUKUB/P/sS3rYpQIWDDUTpSipAMWXOi6vSKkCDDJHCdVArQH6hqMCYxitAIExoXmU3LEBqNCN0LKUsQF+CLNo+Ei1A+V3XaO2ALUA+73b4iPMtQCxeXmFibC5AwdLge8rtLkADdVEgEnovQHi2gRPFCTBAQvEktEFeMEDf/jtep7swQFZz8H0eIzFA/XGLhmynE0AAewrptckXQKJgv+r/lhtA4XJQPOwTH0DgADJHjiIhQKAu0EiZlyJAr+pV+2frI0APXRY3SyAlQMCtZNSTOCZAwgSUq5I2J0AUiveUmBwoQLll4mj27ChAsb+n//ypKUD6v5ox/VUqQJWODtdH8ypAhVNWyC2EK0DGNsXd/wosQFxgru8OiixARfhk1qsDLUCDJjxqJ3otQBYTh4PS7y1A++WY+v1mLkA5x8Sn+uEuQMreXWMZYy9AsFS3BavsL0B2KJIzgEAwQMD9+y81kTBANL5C5JzpMEDS/Y+830oxQJ5QDSUmtjFAl7hquZ/gE0Cp69BBRBgYQLCst9Ox+htAsEvFH4qMH0BTDFBrN2khQMoxd9SA6CJAPT6rI3JGJECtWT8xXIUlQBqshtWPpyZAhF3U6F2vJ0DrlXtDF58oQE99z70MeSlAsjsjMI8/KkAU+cly7/QqQHXdFl5+mytA1RBdyow1LEAzu++Pa8UsQJEEIodrTS1A8BRHiN3PLUBOFLJrEk8uQK8qtglbzS5ADoCmOghNL0BwPNbWatAvQOpDTNvpLDBAG0Ug2cl1MEDOtRDR/cMwQAIqRy+uGDFAuDXtXwN1MUDwbCzPJdoxQKhjLuk9STJAVriUdC8ZFEDSK9HFOGYYQJze2IrTXRxAWxApulACIEAQoXEZoq8hQGxJmbsuOSNAcTHzeEehJEAegdIpPeolQHVgiqZgFidAdPdtxwIoKEAdbtBkdCEpQHDsBFcGBSpAbppedgnVKkAVoDCbzpMrQGklzp2mQyxAZlKKVuLmLEAPT7id0n8tQGVDq0vIEC5AZle2OBScLkATsyw9ByQvQG5+YTHyqi9AuvDT9pIZMEAUgimleV8wQEYH249VqDBATRQSI0/1MEArPfjKjkcxQOIVt/M8oDFAbzJ4CYIAMkDVJmV4hmkyQBGHp6xy3DJAwttYQU9RFEADplr+xrMYQOxgcpmYwBxAPS6j4TI+IEBadD4W6PUhQMoq3sK8iSNAjHnVvwH8JECmiHflB08mQBSAFwwghSdA14cIDJugKEDwx529yaMpQF9oKvn8kCpAJZEBl4VqK0BAanZvtDIsQLIb3Fra6yxAfM2FMUiYLUCep8bLTjouQBbS8QE/1C5A6HRarGloL0ASuFOjH/kvQMxhmN9YRDBAuF8ibLiMMEDTaXHj1tYwQBoUr7HcIzFAjvIEQ/J0MUAwmZwDQMsxQP6bn1/uJzJA+o43wyWMMkAkBo6aDvkyQHyVzFHRbzNAX40GqTKJFEDCxLx0IgEZQCSe04g0Ix1AwrT4SgV6IEByO14mIzwiQCSL7a5E2iNA1Mv5vLpWJUCGJdYo1rMmQDrA1crn8ydA7sNLe0AZKUCkWIsSMSYqQF2m52gKHStAGNWzVh0ALEDWDEO0utEsQJZ16FkzlC1AWjf3H9hJLkAiesLe+fQuQO1lnW7ply9AXpHt03saMEBIbGexOmcwQLXX5btZszBApGeSXwEAMUAWsJYIWk4xQApFHCOMnzFAgrpMG8D0MUB9pFFdHk8yQPqWVFXPrzJA/CV/b/sXM0CC5foXy4gzQIpp8bpmAzRAtTftNA3BFECU8kayfk4ZQMsATOLahR1ALVnRuuG1IECgq3gObYIiQL8fb0TgKiRAit0HNYyxJUAEDZa4wRgnQCrWbKfRYihA/WDf2QySKUB/1UAoxKgqQK9b5GpIqStAjBsdeuqVLEAaPT4u+3AtQFboml/LPC5AQkWG5qv7LkDde1Ob7a8vQBTaKqvwLTBAEgvw9+uAMEDo5CIgEdIwQJb77I+IIjFAHuN3s3pzMUB+L+32D8YxQLZ0dsZwGzJAyEY9jsV0MkCzOWu6NtMyQHjhKbfsNzNAFtKi8A+kM0CNn//SyBg0QN7daco/lzRAS0VcbhL5FEACmkhAD5wZQGrzKi+/6B1AwNDU9eHxIEAkejWT38giQOCdCkipeyRA9GOn7I8MJkBh9F5Z5H0nQCh3hGb30ShASRRr7BkLKkDD82XDnCsrQJc9yMPQNSxAxxnlxQYsLUBRsA+ijxAuQDcpmzC85S5AeKzaSd2tL0AKsRDjoTUwQAY54T4gkDBAMYKIJJLnMECKIDAAID0xQBKoAT7ykTFAyKwmSjHnMUCuwsiQBT4yQMJ9EX6XlzJAAnIqfg/1MkB2Mz39lVczQBhWc2dTwDNA6G32KHAwNEDqDvCtFKk0QBrNiWJpKzVApyCj3nUxFUCSJRGoB+oZQIbgv/gUTB5AwNCqwB8uIUBCXDx5lA8jQMi6Z365zCRAUhSAqN9nJkDikNjPV+MnQHdYxMxyQSlAE5OWd4GEKkC0aKKo1K4rQFsBOzi9wixACoWz/ovCLUC+G1/UkbAuQHrtkJEfjy9AIBFOB0MwMEAF8ekRi5MwQG+qxVSQ8jBAXtEKPHtOMUDQ+eIzdKgxQMi3d6ijATJARJ/yBTJbMkBFRH24R7YyQMs6QSwNFDNA1hZozap1M0BmbBsISdwzQHzPhEgQSTRAGNTN+ii9NEA4DiCLuzk1QN8RpWXwvzVAUDQRD2tqFUDK/+9ymzgaQKQyWsgPsB5Abw7737RqIUA8BzWFpVYjQLsrLqwqHiVA6KM5LZXDJkDJl6rgNUkoQFsv1J5dsSlAn5IJQF3+KkCU6Z2chTIsQD1c5IwnUC1AlxIw6ZNZLkClNNSJG1EvQDP1kaOHHDBA7i25/N+JMECCWIk8v/EwQPAILM9NVTFAOdPKILS1MUBcS4+dGhQyQFwFo7GpcTJANJUvyYnPMkDojl5Q4y4zQHeGWbPekDNA4A9KXqT2M0Alv1m9XGE0QEYosjww0jRAQt98SEdKNUAaeONMyso1QM2GD7bhVDZAzOr1iCWkFUAwkzQq/ocaQE1USSfjFB9AET9tGLunIUBZMMd7LJ4jQPylBZYWcCVA/Md7P8ofJ0BavnxQmK8oQBaxW6HRISpAL8hrCsd4K0CnKwBkybYsQH0DbIYp3i1AsncCSjjxLkBGsBaHRvIvQJ7q/YrScTBASIeCZ9LjMEAhwkJFS1AxQCovaJBluDFAZmIctUkdMkDQ74gfIIAyQGxr1zsR4jJAOGkxdkVEM0A2fcA65aczQGQ7rvUYDjRAxDckEwl4NEBVBkz/3eY0QBg7TybAWzVACmpX9NfXNUAwJ47VTVw2QIkGHTZK6jZAoq6g1djeFUBNSi5XY9gaQAiw3J7Ceh9A6hepLkzlIUDYjJohQ+YjQNDelQCXwiVA0DXuo5h8J0DaufbjmBYpQO2SApnokipAC+lkm9jzK0Ay5HDDuTstQGSseencbC5AoWnS5ZKJL0D1IWdIFkowQKAxYGF9xzBAz/f9KSc+MUCFCGoOPK8xQML3zXrkGzJAhFlT20iFMkDNwSOckewyQJ7EaCnnUjNA9PVL73G5M0DT6fZZWiE0QDc0k9XIizRAImlKzuX5NECXHEaw2Ww1QJLir+fM5TVAFU+x4OdlNkAf9nMHU+42QLJrIcg2gDdAWOpgfrgaFkCkjyyD/ikbQFqwY7jh4R9APE5W54EjIkAA0lY7Ay8kQHiLhrDFFSZApqI4HxraJ0CIP8BfUX4pQCGKcEq8BCtAcaqct6tvLEB2yJd/cMEtQDIMtXpb/C5A0s6jwF4RMEBoUtG1c5swQNikDAmVHTFAJlp/JuuYMUBPBlN6ng4yQFQ9sXDXfzJANpPDdb7tMkD0m7P1e1kzQJHrqlw4xDNACBbTFhwvNEBdr1WQT5s0QJBLXDX7CTVAoH4Qckd8NUCM3JuyXPM1QFb5J2NjcDZA/2je74P0NkCGv+jE5oA3QOuQcE60FjhAdQiGDPhXFkC+zX43A30bQOXflv45JSBASpccB3ZiIkARtaONhngkQDhhf2q8aSZAwcMCdmg4KECrBIGI2+YpQPZLTXpmdytApcG6I1rsLEC2jRxdB0guQCnYxf6+jC9AgOSE8GheMEAdxB1uSO0wQOweV2QmdDFA7IhaPyv0MUAgllFrf24yQIbaZVRL5DJAHurAZrdWM0DoWIwO7MYzQOa68bcRNjRAFqQaz1ClNEB5qDDA0RU1QBFcXfe8iDVA2lLK4Dr/NUDYIKHoc3o2QApaC3uQ+zZAbZIyBLmDN0AHXkDwFRQ4QNRQXqvPrThAgHNfCcuWFkAib3T9pNEbQG8kRXtWWiBAWKijUkKiIkBQ6yjd5sIkQFQVKPOUviZAZU70bJ2XKECDvuAiUVAqQLGNQO0A6ytA7ONmpP1pLUA26aYgmM8uQMfiKZ0QDzBAfFDg5PSrMEC3UaBToT8xQHt6k1U+yzFAxl7jVvRPMkCakrnD684yQPapPwhNSTNA3DifkEDAM0BJ0wHJ7jQ0QEENkR2AqDRAwHp2+hwcNUDJr9vL7ZA1QFxA6v0aCDZAdsDL/MyCNkAaxKk0LAI3QEnfrRFhhzdAAqYBAJQTOEBDrM5r7ac4QBGGPsGVRTlAAJY8/mTXFkBW3lxeFygcQA9b5BZgkCBAqzaTjgDjIkAAKo7uPQ4lQBBdKA9pFCdA1/e0yNL3KEBZIofzy7oqQJUE8melXyxAi8ZI/q/oLUA7kN6OPFgvQNNEA/lNWDBAZ+0JgA/6MEDY1axIi5IxQCiSFb/pIjJAVrZtT1OsMkBh1t5l8C8zQEyGkm7prjNAFFqy1WYqNEC75WcHkaM0QEO93G+QGzVAp3Q6e42TNUDsn6qVsAw2QBDTVisiiDZAE6JoqAoHN0D1oAl5koo3QLljYwniEzhAW36fxSGkOEDdhOcZejw5QD8LZXIT3jlAedpsdPkZF0DghYfjjYAcQAg5HJZwxyBAhPeSf8okI0BmJnuGpVolQKztJ4NSaydAWHXsTSJZKUBp5Ru/ZSYrQOJlCa9t1SxAwB4I9opoLkAHOGtsDuIvQNrsQnUkojBA5JVVpMVIMUAhK5cvE+YxQJNAMYM1ezJAOmpNC1UJM0AUPBU0mpEzQCJKsmktFTRAZihOGDeVNEDeahKs3xI1QIylKJFPjzVAbWy6M68LNkCGU/H/Jok2QNPu9mHfCDdAVNL0xQCMN0AMkhSYsxM4QPvBf0QgoThAH/ZfN281OUB4wt7cyNE5QAi7JaFVdzpAdKs/9bteF0BG0EMWPNscQJxzlL2h/yBAJqBK6rlnI0DClZdpN6glQG58zhNrwydALHxCwaW7KUD8vEZKOJMrQN9mLodzTC1A06FMUKjpLkDuSvq+kzYwQHu1PPSg7DBAkyQXNCSYMUA0LLPqRToyQF9gOoQu1DJAFVXWbAZnM0BUnrAQ9vMzQCDQ8tslfDRAdH7GOr4ANUBUPVWZ54I1QL+gyGPKAzZAtTxKBo+ENkA2pQPtXQY3QENuHoRfijdA2ivEN7wROED+cR50nJ04QK7UVqUoLzlA6ueWN4nHOUCyPwiX5mc6QAVw1C9pETtAeHMECuClF0AQKOF/VTgdQBHA9FENOSFA1uVhk+irI0BaLYtcDfclQJq+w4XMHChAmcFe53YfKkBVXq9ZXQEsQM+8CLXQxC1ACAW+0SFsL0CALxHE0HwwQFt5RFjQNzFAGHSiETjoMUCys1RcMI8yQC7MhKThLTNAilFcVnTFM0DG1wTeEFc0QOLyp6ff4zRA4DZvHwltNUC+N4SxtfM1QH6JEMoNeTZAH8A91Tn+NkChbzU/YoQ3QAUsIXSvDDhASYkq4EmYOEBwG3vvWSg5QHl2PA4IvjlAYy6YqHxaOkAu17cq4P46QN4ExQBbrDtACp0KPJnvF0DE966pDZgdQKjT5BfNcyFA132AP3DxI0Bwov0jQUcmQHFpr52QdyhA3frohK+EKkCyfv2x7nAsQPMcQP2ePi5Anv0DPxHwL0BaJM4ny8MwQBoTroO/gzFAEV9LHw45MkA+nM9m3+QyQKBeZMZbiDNAOTozqqskNEAIw2V+97o0QA6NJa9nTDVASyycqCTaNUC/NPPWVmU2QGw6VKYm7zZATNHogrx4N0BmjdrYQAM4QLgCUxTcjzhAPsV7obYfOUD/aH7s+LM5QPmBhGHLTTpAKaS3bFbuOkCRY0F6wpY7QDBUS/Y3SDxAsJKhFBs8GEDpqfwcmPodQKVjDNT6ryFAax1Os2o4JEBGqpaE7JgmQDgyOSDR0yhAPt2IXmnrKkBb09gXBuIsQI48fCT4uS5AbSBjLsg6MEAeBIXMjwsxQFpdzVh70DFAIsBlP7OKMkB4wHfsXzszQFjyLMyp4zNAxemuSrmENEC+OifUth81QEN5v9TKtTVAWDmhuB1INkD3Dvbr19c2QCWO59ohZjdA4Eqf8SP0N0Ao2UacBoM4QPzMB0fyEzlAYLoLXg+oOUBRNXxNhkA6QNDRgoF/3jpA3CNJZiODO0B4v/hnmi88QJ84u/IM5TxA",
          "dtype": "f8",
          "shape": "30, 30"
         }
        }
       ],
       "layout": {
        "height": 700,
        "scene": {
         "xaxis": {
          "title": {
           "text": "TV"
          }
         },
         "yaxis": {
          "title": {
           "text": "Radio"
          }
         },
         "zaxis": {
          "title": {
           "text": "Sales"
          }
         }
        },
        "template": {
         "data": {
          "bar": [
           {
            "error_x": {
             "color": "#2a3f5f"
            },
            "error_y": {
             "color": "#2a3f5f"
            },
            "marker": {
             "line": {
              "color": "#E5ECF6",
              "width": 0.5
             },
             "pattern": {
              "fillmode": "overlay",
              "size": 10,
              "solidity": 0.2
             }
            },
            "type": "bar"
           }
          ],
          "barpolar": [
           {
            "marker": {
             "line": {
              "color": "#E5ECF6",
              "width": 0.5
             },
             "pattern": {
              "fillmode": "overlay",
              "size": 10,
              "solidity": 0.2
             }
            },
            "type": "barpolar"
           }
          ],
          "carpet": [
           {
            "aaxis": {
             "endlinecolor": "#2a3f5f",
             "gridcolor": "white",
             "linecolor": "white",
             "minorgridcolor": "white",
             "startlinecolor": "#2a3f5f"
            },
            "baxis": {
             "endlinecolor": "#2a3f5f",
             "gridcolor": "white",
             "linecolor": "white",
             "minorgridcolor": "white",
             "startlinecolor": "#2a3f5f"
            },
            "type": "carpet"
           }
          ],
          "choropleth": [
           {
            "colorbar": {
             "outlinewidth": 0,
             "ticks": ""
            },
            "type": "choropleth"
           }
          ],
          "contour": [
           {
            "colorbar": {
             "outlinewidth": 0,
             "ticks": ""
            },
            "colorscale": [
             [
              0,
              "#0d0887"
             ],
             [
              0.1111111111111111,
              "#46039f"
             ],
             [
              0.2222222222222222,
              "#7201a8"
             ],
             [
              0.3333333333333333,
              "#9c179e"
             ],
             [
              0.4444444444444444,
              "#bd3786"
             ],
             [
              0.5555555555555556,
              "#d8576b"
             ],
             [
              0.6666666666666666,
              "#ed7953"
             ],
             [
              0.7777777777777778,
              "#fb9f3a"
             ],
             [
              0.8888888888888888,
              "#fdca26"
             ],
             [
              1,
              "#f0f921"
             ]
            ],
            "type": "contour"
           }
          ],
          "contourcarpet": [
           {
            "colorbar": {
             "outlinewidth": 0,
             "ticks": ""
            },
            "type": "contourcarpet"
           }
          ],
          "heatmap": [
           {
            "colorbar": {
             "outlinewidth": 0,
             "ticks": ""
            },
            "colorscale": [
             [
              0,
              "#0d0887"
             ],
             [
              0.1111111111111111,
              "#46039f"
             ],
             [
              0.2222222222222222,
              "#7201a8"
             ],
             [
              0.3333333333333333,
              "#9c179e"
             ],
             [
              0.4444444444444444,
              "#bd3786"
             ],
             [
              0.5555555555555556,
              "#d8576b"
             ],
             [
              0.6666666666666666,
              "#ed7953"
             ],
             [
              0.7777777777777778,
              "#fb9f3a"
             ],
             [
              0.8888888888888888,
              "#fdca26"
             ],
             [
              1,
              "#f0f921"
             ]
            ],
            "type": "heatmap"
           }
          ],
          "histogram": [
           {
            "marker": {
             "pattern": {
              "fillmode": "overlay",
              "size": 10,
              "solidity": 0.2
             }
            },
            "type": "histogram"
           }
          ],
          "histogram2d": [
           {
            "colorbar": {
             "outlinewidth": 0,
             "ticks": ""
            },
            "colorscale": [
             [
              0,
              "#0d0887"
             ],
             [
              0.1111111111111111,
              "#46039f"
             ],
             [
              0.2222222222222222,
              "#7201a8"
             ],
             [
              0.3333333333333333,
              "#9c179e"
             ],
             [
              0.4444444444444444,
              "#bd3786"
             ],
             [
              0.5555555555555556,
              "#d8576b"
             ],
             [
              0.6666666666666666,
              "#ed7953"
             ],
             [
              0.7777777777777778,
              "#fb9f3a"
             ],
             [
              0.8888888888888888,
              "#fdca26"
             ],
             [
              1,
              "#f0f921"
             ]
            ],
            "type": "histogram2d"
           }
          ],
          "histogram2dcontour": [
           {
            "colorbar": {
             "outlinewidth": 0,
             "ticks": ""
            },
            "colorscale": [
             [
              0,
              "#0d0887"
             ],
             [
              0.1111111111111111,
              "#46039f"
             ],
             [
              0.2222222222222222,
              "#7201a8"
             ],
             [
              0.3333333333333333,
              "#9c179e"
             ],
             [
              0.4444444444444444,
              "#bd3786"
             ],
             [
              0.5555555555555556,
              "#d8576b"
             ],
             [
              0.6666666666666666,
              "#ed7953"
             ],
             [
              0.7777777777777778,
              "#fb9f3a"
             ],
             [
              0.8888888888888888,
              "#fdca26"
             ],
             [
              1,
              "#f0f921"
             ]
            ],
            "type": "histogram2dcontour"
           }
          ],
          "mesh3d": [
           {
            "colorbar": {
             "outlinewidth": 0,
             "ticks": ""
            },
            "type": "mesh3d"
           }
          ],
          "parcoords": [
           {
            "line": {
             "colorbar": {
              "outlinewidth": 0,
              "ticks": ""
             }
            },
            "type": "parcoords"
           }
          ],
          "pie": [
           {
            "automargin": true,
            "type": "pie"
           }
          ],
          "scatter": [
           {
            "fillpattern": {
             "fillmode": "overlay",
             "size": 10,
             "solidity": 0.2
            },
            "type": "scatter"
           }
          ],
          "scatter3d": [
           {
            "line": {
             "colorbar": {
              "outlinewidth": 0,
              "ticks": ""
             }
            },
            "marker": {
             "colorbar": {
              "outlinewidth": 0,
              "ticks": ""
             }
            },
            "type": "scatter3d"
           }
          ],
          "scattercarpet": [
           {
            "marker": {
             "colorbar": {
              "outlinewidth": 0,
              "ticks": ""
             }
            },
            "type": "scattercarpet"
           }
          ],
          "scattergeo": [
           {
            "marker": {
             "colorbar": {
              "outlinewidth": 0,
              "ticks": ""
             }
            },
            "type": "scattergeo"
           }
          ],
          "scattergl": [
           {
            "marker": {
             "colorbar": {
              "outlinewidth": 0,
              "ticks": ""
             }
            },
            "type": "scattergl"
           }
          ],
          "scattermap": [
           {
            "marker": {
             "colorbar": {
              "outlinewidth": 0,
              "ticks": ""
             }
            },
            "type": "scattermap"
           }
          ],
          "scattermapbox": [
           {
            "marker": {
             "colorbar": {
              "outlinewidth": 0,
              "ticks": ""
             }
            },
            "type": "scattermapbox"
           }
          ],
          "scatterpolar": [
           {
            "marker": {
             "colorbar": {
              "outlinewidth": 0,
              "ticks": ""
             }
            },
            "type": "scatterpolar"
           }
          ],
          "scatterpolargl": [
           {
            "marker": {
             "colorbar": {
              "outlinewidth": 0,
              "ticks": ""
             }
            },
            "type": "scatterpolargl"
           }
          ],
          "scatterternary": [
           {
            "marker": {
             "colorbar": {
              "outlinewidth": 0,
              "ticks": ""
             }
            },
            "type": "scatterternary"
           }
          ],
          "surface": [
           {
            "colorbar": {
             "outlinewidth": 0,
             "ticks": ""
            },
            "colorscale": [
             [
              0,
              "#0d0887"
             ],
             [
              0.1111111111111111,
              "#46039f"
             ],
             [
              0.2222222222222222,
              "#7201a8"
             ],
             [
              0.3333333333333333,
              "#9c179e"
             ],
             [
              0.4444444444444444,
              "#bd3786"
             ],
             [
              0.5555555555555556,
              "#d8576b"
             ],
             [
              0.6666666666666666,
              "#ed7953"
             ],
             [
              0.7777777777777778,
              "#fb9f3a"
             ],
             [
              0.8888888888888888,
              "#fdca26"
             ],
             [
              1,
              "#f0f921"
             ]
            ],
            "type": "surface"
           }
          ],
          "table": [
           {
            "cells": {
             "fill": {
              "color": "#EBF0F8"
             },
             "line": {
              "color": "white"
             }
            },
            "header": {
             "fill": {
              "color": "#C8D4E3"
             },
             "line": {
              "color": "white"
             }
            },
            "type": "table"
           }
          ]
         },
         "layout": {
          "annotationdefaults": {
           "arrowcolor": "#2a3f5f",
           "arrowhead": 0,
           "arrowwidth": 1
          },
          "autotypenumbers": "strict",
          "coloraxis": {
           "colorbar": {
            "outlinewidth": 0,
            "ticks": ""
           }
          },
          "colorscale": {
           "diverging": [
            [
             0,
             "#8e0152"
            ],
            [
             0.1,
             "#c51b7d"
            ],
            [
             0.2,
             "#de77ae"
            ],
            [
             0.3,
             "#f1b6da"
            ],
            [
             0.4,
             "#fde0ef"
            ],
            [
             0.5,
             "#f7f7f7"
            ],
            [
             0.6,
             "#e6f5d0"
            ],
            [
             0.7,
             "#b8e186"
            ],
            [
             0.8,
             "#7fbc41"
            ],
            [
             0.9,
             "#4d9221"
            ],
            [
             1,
             "#276419"
            ]
           ],
           "sequential": [
            [
             0,
             "#0d0887"
            ],
            [
             0.1111111111111111,
             "#46039f"
            ],
            [
             0.2222222222222222,
             "#7201a8"
            ],
            [
             0.3333333333333333,
             "#9c179e"
            ],
            [
             0.4444444444444444,
             "#bd3786"
            ],
            [
             0.5555555555555556,
             "#d8576b"
            ],
            [
             0.6666666666666666,
             "#ed7953"
            ],
            [
             0.7777777777777778,
             "#fb9f3a"
            ],
            [
             0.8888888888888888,
             "#fdca26"
            ],
            [
             1,
             "#f0f921"
            ]
           ],
           "sequentialminus": [
            [
             0,
             "#0d0887"
            ],
            [
             0.1111111111111111,
             "#46039f"
            ],
            [
             0.2222222222222222,
             "#7201a8"
            ],
            [
             0.3333333333333333,
             "#9c179e"
            ],
            [
             0.4444444444444444,
             "#bd3786"
            ],
            [
             0.5555555555555556,
             "#d8576b"
            ],
            [
             0.6666666666666666,
             "#ed7953"
            ],
            [
             0.7777777777777778,
             "#fb9f3a"
            ],
            [
             0.8888888888888888,
             "#fdca26"
            ],
            [
             1,
             "#f0f921"
            ]
           ]
          },
          "colorway": [
           "#636efa",
           "#EF553B",
           "#00cc96",
           "#ab63fa",
           "#FFA15A",
           "#19d3f3",
           "#FF6692",
           "#B6E880",
           "#FF97FF",
           "#FECB52"
          ],
          "font": {
           "color": "#2a3f5f"
          },
          "geo": {
           "bgcolor": "white",
           "lakecolor": "white",
           "landcolor": "#E5ECF6",
           "showlakes": true,
           "showland": true,
           "subunitcolor": "white"
          },
          "hoverlabel": {
           "align": "left"
          },
          "hovermode": "closest",
          "mapbox": {
           "style": "light"
          },
          "paper_bgcolor": "white",
          "plot_bgcolor": "#E5ECF6",
          "polar": {
           "angularaxis": {
            "gridcolor": "white",
            "linecolor": "white",
            "ticks": ""
           },
           "bgcolor": "#E5ECF6",
           "radialaxis": {
            "gridcolor": "white",
            "linecolor": "white",
            "ticks": ""
           }
          },
          "scene": {
           "xaxis": {
            "backgroundcolor": "#E5ECF6",
            "gridcolor": "white",
            "gridwidth": 2,
            "linecolor": "white",
            "showbackground": true,
            "ticks": "",
            "zerolinecolor": "white"
           },
           "yaxis": {
            "backgroundcolor": "#E5ECF6",
            "gridcolor": "white",
            "gridwidth": 2,
            "linecolor": "white",
            "showbackground": true,
            "ticks": "",
            "zerolinecolor": "white"
           },
           "zaxis": {
            "backgroundcolor": "#E5ECF6",
            "gridcolor": "white",
            "gridwidth": 2,
            "linecolor": "white",
            "showbackground": true,
            "ticks": "",
            "zerolinecolor": "white"
           }
          },
          "shapedefaults": {
           "line": {
            "color": "#2a3f5f"
           }
          },
          "ternary": {
           "aaxis": {
            "gridcolor": "white",
            "linecolor": "white",
            "ticks": ""
           },
           "baxis": {
            "gridcolor": "white",
            "linecolor": "white",
            "ticks": ""
           },
           "bgcolor": "#E5ECF6",
           "caxis": {
            "gridcolor": "white",
            "linecolor": "white",
            "ticks": ""
           }
          },
          "title": {
           "x": 0.05
          },
          "xaxis": {
           "automargin": true,
           "gridcolor": "white",
           "linecolor": "white",
           "ticks": "",
           "title": {
            "standoff": 15
           },
           "zerolinecolor": "white",
           "zerolinewidth": 2
          },
          "yaxis": {
           "automargin": true,
           "gridcolor": "white",
           "linecolor": "white",
           "ticks": "",
           "title": {
            "standoff": 15
           },
           "zerolinecolor": "white",
           "zerolinewidth": 2
          }
         }
        },
        "title": {
         "text": "Polynomial regression surface"
        },
        "width": 1000
       }
      }
     },
     "metadata": {},
     "output_type": "display_data"
    }
   ],
   "source": [
    "static_surface(X_train, y_train, 3)"
   ]
  },
  {
   "cell_type": "code",
   "execution_count": 23,
   "id": "d5bdca42-9795-4086-b476-fc12f663eba8",
   "metadata": {},
   "outputs": [
    {
     "data": {
      "application/vnd.jupyter.widget-view+json": {
       "model_id": "328d52b6d9334a6a99f2fde6db3548a8",
       "version_major": 2,
       "version_minor": 0
      },
      "text/plain": [
       "interactive(children=(IntSlider(value=2, description='degree', max=30, min=1), Output()), _dom_classes=('widge…"
      ]
     },
     "metadata": {},
     "output_type": "display_data"
    },
    {
     "data": {
      "text/plain": [
       "<function __main__.dynamic_surface(degree=2)>"
      ]
     },
     "execution_count": 23,
     "metadata": {},
     "output_type": "execute_result"
    }
   ],
   "source": [
    "x0 = np.array(X_train['TV'])\n",
    "x1 = np.array(X_train['Radio'])\n",
    "y = np.array(y_train)\n",
    "X = np.c_[x0, x1]\n",
    "\n",
    "x0_range = np.linspace(x0.min(), x0.max(), 30)\n",
    "x1_range = np.linspace(x1.min(), x1.max(), 30)\n",
    "x0_grid, x1_grid = np.meshgrid(x0_range, x1_range)\n",
    "X_grid = np.c_[x0_grid.ravel(), x1_grid.ravel()]\n",
    "\n",
    "def dynamic_surface(degree=2):\n",
    "    model = make_pipeline(PolynomialFeatures(degree), LinearRegression())\n",
    "    model.fit(X, y)\n",
    "    \n",
    "    y_pred = model.predict(X_grid)\n",
    "    y_pred_grid = y_pred.reshape(x0_grid.shape)\n",
    "    \n",
    "    fig = go.Figure()\n",
    "    \n",
    "    fig.add_trace(go.Scatter3d(\n",
    "    x = x0, y = x1, z = y, mode = 'markers', marker = dict(size = 4, color = 'red'), name = 'Data Points'\n",
    "    ))\n",
    "\n",
    "    fig.add_trace(go.Surface(\n",
    "    x = x0_grid, y = x1_grid, z = y_pred_grid, opacity = 0.6, colorscale = 'Viridis', name = 'Polynomial Surface'\n",
    "    ))\n",
    "\n",
    "    fig.update_layout(\n",
    "    scene = dict(\n",
    "        xaxis_title = 'TV', yaxis_title = 'Radio', zaxis_title = 'Sales'\n",
    "    ),\n",
    "    title = 'Polynomial regression surface',\n",
    "    width = 1000,\n",
    "    height = 700\n",
    "    )\n",
    "    \n",
    "    fig.show()\n",
    "\n",
    "interact(dynamic_surface, degree = IntSlider(min = 1, max = 30, step = 1, value = 2))"
   ]
  },
  {
   "cell_type": "code",
   "execution_count": 24,
   "id": "1e48bccf-524e-43f7-a8d0-1e5144ecab57",
   "metadata": {},
   "outputs": [],
   "source": [
    "X_final = data_full[['TV', 'Radio', 'Newspaper']]\n",
    "Y_final = data_full['Sales']"
   ]
  },
  {
   "cell_type": "code",
   "execution_count": 25,
   "id": "8a5c03c9-f06f-42a5-a4b8-dc76f9925d9e",
   "metadata": {},
   "outputs": [],
   "source": [
    "polynomial_final = PolynomialFeatures(degree = 3)"
   ]
  },
  {
   "cell_type": "code",
   "execution_count": 26,
   "id": "a9418792-deec-42a3-a20a-ad50fb5c049e",
   "metadata": {},
   "outputs": [],
   "source": [
    "X_poly_final = polynomial_final.fit_transform(X_final)"
   ]
  },
  {
   "cell_type": "code",
   "execution_count": 27,
   "id": "003a80dd-0b24-4e79-9b3b-43b2d16801c0",
   "metadata": {},
   "outputs": [
    {
     "data": {
      "text/plain": [
       "(200, 20)"
      ]
     },
     "execution_count": 27,
     "metadata": {},
     "output_type": "execute_result"
    }
   ],
   "source": [
    "X_poly_final.shape"
   ]
  },
  {
   "cell_type": "code",
   "execution_count": 28,
   "id": "1364947a-4378-4a9b-a07d-4aa24dd59b92",
   "metadata": {},
   "outputs": [],
   "source": [
    "model_final = LinearRegression()"
   ]
  },
  {
   "cell_type": "code",
   "execution_count": 29,
   "id": "f4314da7-7f1b-40c2-ba5c-0cb7acc81bb1",
   "metadata": {},
   "outputs": [
    {
     "data": {
      "text/html": [
       "<style>#sk-container-id-2 {\n",
       "  /* Definition of color scheme common for light and dark mode */\n",
       "  --sklearn-color-text: #000;\n",
       "  --sklearn-color-text-muted: #666;\n",
       "  --sklearn-color-line: gray;\n",
       "  /* Definition of color scheme for unfitted estimators */\n",
       "  --sklearn-color-unfitted-level-0: #fff5e6;\n",
       "  --sklearn-color-unfitted-level-1: #f6e4d2;\n",
       "  --sklearn-color-unfitted-level-2: #ffe0b3;\n",
       "  --sklearn-color-unfitted-level-3: chocolate;\n",
       "  /* Definition of color scheme for fitted estimators */\n",
       "  --sklearn-color-fitted-level-0: #f0f8ff;\n",
       "  --sklearn-color-fitted-level-1: #d4ebff;\n",
       "  --sklearn-color-fitted-level-2: #b3dbfd;\n",
       "  --sklearn-color-fitted-level-3: cornflowerblue;\n",
       "\n",
       "  /* Specific color for light theme */\n",
       "  --sklearn-color-text-on-default-background: var(--sg-text-color, var(--theme-code-foreground, var(--jp-content-font-color1, black)));\n",
       "  --sklearn-color-background: var(--sg-background-color, var(--theme-background, var(--jp-layout-color0, white)));\n",
       "  --sklearn-color-border-box: var(--sg-text-color, var(--theme-code-foreground, var(--jp-content-font-color1, black)));\n",
       "  --sklearn-color-icon: #696969;\n",
       "\n",
       "  @media (prefers-color-scheme: dark) {\n",
       "    /* Redefinition of color scheme for dark theme */\n",
       "    --sklearn-color-text-on-default-background: var(--sg-text-color, var(--theme-code-foreground, var(--jp-content-font-color1, white)));\n",
       "    --sklearn-color-background: var(--sg-background-color, var(--theme-background, var(--jp-layout-color0, #111)));\n",
       "    --sklearn-color-border-box: var(--sg-text-color, var(--theme-code-foreground, var(--jp-content-font-color1, white)));\n",
       "    --sklearn-color-icon: #878787;\n",
       "  }\n",
       "}\n",
       "\n",
       "#sk-container-id-2 {\n",
       "  color: var(--sklearn-color-text);\n",
       "}\n",
       "\n",
       "#sk-container-id-2 pre {\n",
       "  padding: 0;\n",
       "}\n",
       "\n",
       "#sk-container-id-2 input.sk-hidden--visually {\n",
       "  border: 0;\n",
       "  clip: rect(1px 1px 1px 1px);\n",
       "  clip: rect(1px, 1px, 1px, 1px);\n",
       "  height: 1px;\n",
       "  margin: -1px;\n",
       "  overflow: hidden;\n",
       "  padding: 0;\n",
       "  position: absolute;\n",
       "  width: 1px;\n",
       "}\n",
       "\n",
       "#sk-container-id-2 div.sk-dashed-wrapped {\n",
       "  border: 1px dashed var(--sklearn-color-line);\n",
       "  margin: 0 0.4em 0.5em 0.4em;\n",
       "  box-sizing: border-box;\n",
       "  padding-bottom: 0.4em;\n",
       "  background-color: var(--sklearn-color-background);\n",
       "}\n",
       "\n",
       "#sk-container-id-2 div.sk-container {\n",
       "  /* jupyter's `normalize.less` sets `[hidden] { display: none; }`\n",
       "     but bootstrap.min.css set `[hidden] { display: none !important; }`\n",
       "     so we also need the `!important` here to be able to override the\n",
       "     default hidden behavior on the sphinx rendered scikit-learn.org.\n",
       "     See: https://github.com/scikit-learn/scikit-learn/issues/21755 */\n",
       "  display: inline-block !important;\n",
       "  position: relative;\n",
       "}\n",
       "\n",
       "#sk-container-id-2 div.sk-text-repr-fallback {\n",
       "  display: none;\n",
       "}\n",
       "\n",
       "div.sk-parallel-item,\n",
       "div.sk-serial,\n",
       "div.sk-item {\n",
       "  /* draw centered vertical line to link estimators */\n",
       "  background-image: linear-gradient(var(--sklearn-color-text-on-default-background), var(--sklearn-color-text-on-default-background));\n",
       "  background-size: 2px 100%;\n",
       "  background-repeat: no-repeat;\n",
       "  background-position: center center;\n",
       "}\n",
       "\n",
       "/* Parallel-specific style estimator block */\n",
       "\n",
       "#sk-container-id-2 div.sk-parallel-item::after {\n",
       "  content: \"\";\n",
       "  width: 100%;\n",
       "  border-bottom: 2px solid var(--sklearn-color-text-on-default-background);\n",
       "  flex-grow: 1;\n",
       "}\n",
       "\n",
       "#sk-container-id-2 div.sk-parallel {\n",
       "  display: flex;\n",
       "  align-items: stretch;\n",
       "  justify-content: center;\n",
       "  background-color: var(--sklearn-color-background);\n",
       "  position: relative;\n",
       "}\n",
       "\n",
       "#sk-container-id-2 div.sk-parallel-item {\n",
       "  display: flex;\n",
       "  flex-direction: column;\n",
       "}\n",
       "\n",
       "#sk-container-id-2 div.sk-parallel-item:first-child::after {\n",
       "  align-self: flex-end;\n",
       "  width: 50%;\n",
       "}\n",
       "\n",
       "#sk-container-id-2 div.sk-parallel-item:last-child::after {\n",
       "  align-self: flex-start;\n",
       "  width: 50%;\n",
       "}\n",
       "\n",
       "#sk-container-id-2 div.sk-parallel-item:only-child::after {\n",
       "  width: 0;\n",
       "}\n",
       "\n",
       "/* Serial-specific style estimator block */\n",
       "\n",
       "#sk-container-id-2 div.sk-serial {\n",
       "  display: flex;\n",
       "  flex-direction: column;\n",
       "  align-items: center;\n",
       "  background-color: var(--sklearn-color-background);\n",
       "  padding-right: 1em;\n",
       "  padding-left: 1em;\n",
       "}\n",
       "\n",
       "\n",
       "/* Toggleable style: style used for estimator/Pipeline/ColumnTransformer box that is\n",
       "clickable and can be expanded/collapsed.\n",
       "- Pipeline and ColumnTransformer use this feature and define the default style\n",
       "- Estimators will overwrite some part of the style using the `sk-estimator` class\n",
       "*/\n",
       "\n",
       "/* Pipeline and ColumnTransformer style (default) */\n",
       "\n",
       "#sk-container-id-2 div.sk-toggleable {\n",
       "  /* Default theme specific background. It is overwritten whether we have a\n",
       "  specific estimator or a Pipeline/ColumnTransformer */\n",
       "  background-color: var(--sklearn-color-background);\n",
       "}\n",
       "\n",
       "/* Toggleable label */\n",
       "#sk-container-id-2 label.sk-toggleable__label {\n",
       "  cursor: pointer;\n",
       "  display: flex;\n",
       "  width: 100%;\n",
       "  margin-bottom: 0;\n",
       "  padding: 0.5em;\n",
       "  box-sizing: border-box;\n",
       "  text-align: center;\n",
       "  align-items: start;\n",
       "  justify-content: space-between;\n",
       "  gap: 0.5em;\n",
       "}\n",
       "\n",
       "#sk-container-id-2 label.sk-toggleable__label .caption {\n",
       "  font-size: 0.6rem;\n",
       "  font-weight: lighter;\n",
       "  color: var(--sklearn-color-text-muted);\n",
       "}\n",
       "\n",
       "#sk-container-id-2 label.sk-toggleable__label-arrow:before {\n",
       "  /* Arrow on the left of the label */\n",
       "  content: \"▸\";\n",
       "  float: left;\n",
       "  margin-right: 0.25em;\n",
       "  color: var(--sklearn-color-icon);\n",
       "}\n",
       "\n",
       "#sk-container-id-2 label.sk-toggleable__label-arrow:hover:before {\n",
       "  color: var(--sklearn-color-text);\n",
       "}\n",
       "\n",
       "/* Toggleable content - dropdown */\n",
       "\n",
       "#sk-container-id-2 div.sk-toggleable__content {\n",
       "  display: none;\n",
       "  text-align: left;\n",
       "  /* unfitted */\n",
       "  background-color: var(--sklearn-color-unfitted-level-0);\n",
       "}\n",
       "\n",
       "#sk-container-id-2 div.sk-toggleable__content.fitted {\n",
       "  /* fitted */\n",
       "  background-color: var(--sklearn-color-fitted-level-0);\n",
       "}\n",
       "\n",
       "#sk-container-id-2 div.sk-toggleable__content pre {\n",
       "  margin: 0.2em;\n",
       "  border-radius: 0.25em;\n",
       "  color: var(--sklearn-color-text);\n",
       "  /* unfitted */\n",
       "  background-color: var(--sklearn-color-unfitted-level-0);\n",
       "}\n",
       "\n",
       "#sk-container-id-2 div.sk-toggleable__content.fitted pre {\n",
       "  /* unfitted */\n",
       "  background-color: var(--sklearn-color-fitted-level-0);\n",
       "}\n",
       "\n",
       "#sk-container-id-2 input.sk-toggleable__control:checked~div.sk-toggleable__content {\n",
       "  /* Expand drop-down */\n",
       "  display: block;\n",
       "  width: 100%;\n",
       "  overflow: visible;\n",
       "}\n",
       "\n",
       "#sk-container-id-2 input.sk-toggleable__control:checked~label.sk-toggleable__label-arrow:before {\n",
       "  content: \"▾\";\n",
       "}\n",
       "\n",
       "/* Pipeline/ColumnTransformer-specific style */\n",
       "\n",
       "#sk-container-id-2 div.sk-label input.sk-toggleable__control:checked~label.sk-toggleable__label {\n",
       "  color: var(--sklearn-color-text);\n",
       "  background-color: var(--sklearn-color-unfitted-level-2);\n",
       "}\n",
       "\n",
       "#sk-container-id-2 div.sk-label.fitted input.sk-toggleable__control:checked~label.sk-toggleable__label {\n",
       "  background-color: var(--sklearn-color-fitted-level-2);\n",
       "}\n",
       "\n",
       "/* Estimator-specific style */\n",
       "\n",
       "/* Colorize estimator box */\n",
       "#sk-container-id-2 div.sk-estimator input.sk-toggleable__control:checked~label.sk-toggleable__label {\n",
       "  /* unfitted */\n",
       "  background-color: var(--sklearn-color-unfitted-level-2);\n",
       "}\n",
       "\n",
       "#sk-container-id-2 div.sk-estimator.fitted input.sk-toggleable__control:checked~label.sk-toggleable__label {\n",
       "  /* fitted */\n",
       "  background-color: var(--sklearn-color-fitted-level-2);\n",
       "}\n",
       "\n",
       "#sk-container-id-2 div.sk-label label.sk-toggleable__label,\n",
       "#sk-container-id-2 div.sk-label label {\n",
       "  /* The background is the default theme color */\n",
       "  color: var(--sklearn-color-text-on-default-background);\n",
       "}\n",
       "\n",
       "/* On hover, darken the color of the background */\n",
       "#sk-container-id-2 div.sk-label:hover label.sk-toggleable__label {\n",
       "  color: var(--sklearn-color-text);\n",
       "  background-color: var(--sklearn-color-unfitted-level-2);\n",
       "}\n",
       "\n",
       "/* Label box, darken color on hover, fitted */\n",
       "#sk-container-id-2 div.sk-label.fitted:hover label.sk-toggleable__label.fitted {\n",
       "  color: var(--sklearn-color-text);\n",
       "  background-color: var(--sklearn-color-fitted-level-2);\n",
       "}\n",
       "\n",
       "/* Estimator label */\n",
       "\n",
       "#sk-container-id-2 div.sk-label label {\n",
       "  font-family: monospace;\n",
       "  font-weight: bold;\n",
       "  display: inline-block;\n",
       "  line-height: 1.2em;\n",
       "}\n",
       "\n",
       "#sk-container-id-2 div.sk-label-container {\n",
       "  text-align: center;\n",
       "}\n",
       "\n",
       "/* Estimator-specific */\n",
       "#sk-container-id-2 div.sk-estimator {\n",
       "  font-family: monospace;\n",
       "  border: 1px dotted var(--sklearn-color-border-box);\n",
       "  border-radius: 0.25em;\n",
       "  box-sizing: border-box;\n",
       "  margin-bottom: 0.5em;\n",
       "  /* unfitted */\n",
       "  background-color: var(--sklearn-color-unfitted-level-0);\n",
       "}\n",
       "\n",
       "#sk-container-id-2 div.sk-estimator.fitted {\n",
       "  /* fitted */\n",
       "  background-color: var(--sklearn-color-fitted-level-0);\n",
       "}\n",
       "\n",
       "/* on hover */\n",
       "#sk-container-id-2 div.sk-estimator:hover {\n",
       "  /* unfitted */\n",
       "  background-color: var(--sklearn-color-unfitted-level-2);\n",
       "}\n",
       "\n",
       "#sk-container-id-2 div.sk-estimator.fitted:hover {\n",
       "  /* fitted */\n",
       "  background-color: var(--sklearn-color-fitted-level-2);\n",
       "}\n",
       "\n",
       "/* Specification for estimator info (e.g. \"i\" and \"?\") */\n",
       "\n",
       "/* Common style for \"i\" and \"?\" */\n",
       "\n",
       ".sk-estimator-doc-link,\n",
       "a:link.sk-estimator-doc-link,\n",
       "a:visited.sk-estimator-doc-link {\n",
       "  float: right;\n",
       "  font-size: smaller;\n",
       "  line-height: 1em;\n",
       "  font-family: monospace;\n",
       "  background-color: var(--sklearn-color-background);\n",
       "  border-radius: 1em;\n",
       "  height: 1em;\n",
       "  width: 1em;\n",
       "  text-decoration: none !important;\n",
       "  margin-left: 0.5em;\n",
       "  text-align: center;\n",
       "  /* unfitted */\n",
       "  border: var(--sklearn-color-unfitted-level-1) 1pt solid;\n",
       "  color: var(--sklearn-color-unfitted-level-1);\n",
       "}\n",
       "\n",
       ".sk-estimator-doc-link.fitted,\n",
       "a:link.sk-estimator-doc-link.fitted,\n",
       "a:visited.sk-estimator-doc-link.fitted {\n",
       "  /* fitted */\n",
       "  border: var(--sklearn-color-fitted-level-1) 1pt solid;\n",
       "  color: var(--sklearn-color-fitted-level-1);\n",
       "}\n",
       "\n",
       "/* On hover */\n",
       "div.sk-estimator:hover .sk-estimator-doc-link:hover,\n",
       ".sk-estimator-doc-link:hover,\n",
       "div.sk-label-container:hover .sk-estimator-doc-link:hover,\n",
       ".sk-estimator-doc-link:hover {\n",
       "  /* unfitted */\n",
       "  background-color: var(--sklearn-color-unfitted-level-3);\n",
       "  color: var(--sklearn-color-background);\n",
       "  text-decoration: none;\n",
       "}\n",
       "\n",
       "div.sk-estimator.fitted:hover .sk-estimator-doc-link.fitted:hover,\n",
       ".sk-estimator-doc-link.fitted:hover,\n",
       "div.sk-label-container:hover .sk-estimator-doc-link.fitted:hover,\n",
       ".sk-estimator-doc-link.fitted:hover {\n",
       "  /* fitted */\n",
       "  background-color: var(--sklearn-color-fitted-level-3);\n",
       "  color: var(--sklearn-color-background);\n",
       "  text-decoration: none;\n",
       "}\n",
       "\n",
       "/* Span, style for the box shown on hovering the info icon */\n",
       ".sk-estimator-doc-link span {\n",
       "  display: none;\n",
       "  z-index: 9999;\n",
       "  position: relative;\n",
       "  font-weight: normal;\n",
       "  right: .2ex;\n",
       "  padding: .5ex;\n",
       "  margin: .5ex;\n",
       "  width: min-content;\n",
       "  min-width: 20ex;\n",
       "  max-width: 50ex;\n",
       "  color: var(--sklearn-color-text);\n",
       "  box-shadow: 2pt 2pt 4pt #999;\n",
       "  /* unfitted */\n",
       "  background: var(--sklearn-color-unfitted-level-0);\n",
       "  border: .5pt solid var(--sklearn-color-unfitted-level-3);\n",
       "}\n",
       "\n",
       ".sk-estimator-doc-link.fitted span {\n",
       "  /* fitted */\n",
       "  background: var(--sklearn-color-fitted-level-0);\n",
       "  border: var(--sklearn-color-fitted-level-3);\n",
       "}\n",
       "\n",
       ".sk-estimator-doc-link:hover span {\n",
       "  display: block;\n",
       "}\n",
       "\n",
       "/* \"?\"-specific style due to the `<a>` HTML tag */\n",
       "\n",
       "#sk-container-id-2 a.estimator_doc_link {\n",
       "  float: right;\n",
       "  font-size: 1rem;\n",
       "  line-height: 1em;\n",
       "  font-family: monospace;\n",
       "  background-color: var(--sklearn-color-background);\n",
       "  border-radius: 1rem;\n",
       "  height: 1rem;\n",
       "  width: 1rem;\n",
       "  text-decoration: none;\n",
       "  /* unfitted */\n",
       "  color: var(--sklearn-color-unfitted-level-1);\n",
       "  border: var(--sklearn-color-unfitted-level-1) 1pt solid;\n",
       "}\n",
       "\n",
       "#sk-container-id-2 a.estimator_doc_link.fitted {\n",
       "  /* fitted */\n",
       "  border: var(--sklearn-color-fitted-level-1) 1pt solid;\n",
       "  color: var(--sklearn-color-fitted-level-1);\n",
       "}\n",
       "\n",
       "/* On hover */\n",
       "#sk-container-id-2 a.estimator_doc_link:hover {\n",
       "  /* unfitted */\n",
       "  background-color: var(--sklearn-color-unfitted-level-3);\n",
       "  color: var(--sklearn-color-background);\n",
       "  text-decoration: none;\n",
       "}\n",
       "\n",
       "#sk-container-id-2 a.estimator_doc_link.fitted:hover {\n",
       "  /* fitted */\n",
       "  background-color: var(--sklearn-color-fitted-level-3);\n",
       "}\n",
       "\n",
       ".estimator-table summary {\n",
       "    padding: .5rem;\n",
       "    font-family: monospace;\n",
       "    cursor: pointer;\n",
       "}\n",
       "\n",
       ".estimator-table details[open] {\n",
       "    padding-left: 0.1rem;\n",
       "    padding-right: 0.1rem;\n",
       "    padding-bottom: 0.3rem;\n",
       "}\n",
       "\n",
       ".estimator-table .parameters-table {\n",
       "    margin-left: auto !important;\n",
       "    margin-right: auto !important;\n",
       "}\n",
       "\n",
       ".estimator-table .parameters-table tr:nth-child(odd) {\n",
       "    background-color: #fff;\n",
       "}\n",
       "\n",
       ".estimator-table .parameters-table tr:nth-child(even) {\n",
       "    background-color: #f6f6f6;\n",
       "}\n",
       "\n",
       ".estimator-table .parameters-table tr:hover {\n",
       "    background-color: #e0e0e0;\n",
       "}\n",
       "\n",
       ".estimator-table table td {\n",
       "    border: 1px solid rgba(106, 105, 104, 0.232);\n",
       "}\n",
       "\n",
       ".user-set td {\n",
       "    color:rgb(255, 94, 0);\n",
       "    text-align: left;\n",
       "}\n",
       "\n",
       ".user-set td.value pre {\n",
       "    color:rgb(255, 94, 0) !important;\n",
       "    background-color: transparent !important;\n",
       "}\n",
       "\n",
       ".default td {\n",
       "    color: black;\n",
       "    text-align: left;\n",
       "}\n",
       "\n",
       ".user-set td i,\n",
       ".default td i {\n",
       "    color: black;\n",
       "}\n",
       "\n",
       ".copy-paste-icon {\n",
       "    background-image: url(data:image/svg+xml;base64,PHN2ZyB4bWxucz0iaHR0cDovL3d3dy53My5vcmcvMjAwMC9zdmciIHZpZXdCb3g9IjAgMCA0NDggNTEyIj48IS0tIUZvbnQgQXdlc29tZSBGcmVlIDYuNy4yIGJ5IEBmb250YXdlc29tZSAtIGh0dHBzOi8vZm9udGF3ZXNvbWUuY29tIExpY2Vuc2UgLSBodHRwczovL2ZvbnRhd2Vzb21lLmNvbS9saWNlbnNlL2ZyZWUgQ29weXJpZ2h0IDIwMjUgRm9udGljb25zLCBJbmMuLS0+PHBhdGggZD0iTTIwOCAwTDMzMi4xIDBjMTIuNyAwIDI0LjkgNS4xIDMzLjkgMTQuMWw2Ny45IDY3LjljOSA5IDE0LjEgMjEuMiAxNC4xIDMzLjlMNDQ4IDMzNmMwIDI2LjUtMjEuNSA0OC00OCA0OGwtMTkyIDBjLTI2LjUgMC00OC0yMS41LTQ4LTQ4bDAtMjg4YzAtMjYuNSAyMS41LTQ4IDQ4LTQ4ek00OCAxMjhsODAgMCAwIDY0LTY0IDAgMCAyNTYgMTkyIDAgMC0zMiA2NCAwIDAgNDhjMCAyNi41LTIxLjUgNDgtNDggNDhMNDggNTEyYy0yNi41IDAtNDgtMjEuNS00OC00OEwwIDE3NmMwLTI2LjUgMjEuNS00OCA0OC00OHoiLz48L3N2Zz4=);\n",
       "    background-repeat: no-repeat;\n",
       "    background-size: 14px 14px;\n",
       "    background-position: 0;\n",
       "    display: inline-block;\n",
       "    width: 14px;\n",
       "    height: 14px;\n",
       "    cursor: pointer;\n",
       "}\n",
       "</style><body><div id=\"sk-container-id-2\" class=\"sk-top-container\"><div class=\"sk-text-repr-fallback\"><pre>LinearRegression()</pre><b>In a Jupyter environment, please rerun this cell to show the HTML representation or trust the notebook. <br />On GitHub, the HTML representation is unable to render, please try loading this page with nbviewer.org.</b></div><div class=\"sk-container\" hidden><div class=\"sk-item\"><div class=\"sk-estimator fitted sk-toggleable\"><input class=\"sk-toggleable__control sk-hidden--visually\" id=\"sk-estimator-id-2\" type=\"checkbox\" checked><label for=\"sk-estimator-id-2\" class=\"sk-toggleable__label fitted sk-toggleable__label-arrow\"><div><div>LinearRegression</div></div><div><a class=\"sk-estimator-doc-link fitted\" rel=\"noreferrer\" target=\"_blank\" href=\"https://scikit-learn.org/1.7/modules/generated/sklearn.linear_model.LinearRegression.html\">?<span>Documentation for LinearRegression</span></a><span class=\"sk-estimator-doc-link fitted\">i<span>Fitted</span></span></div></label><div class=\"sk-toggleable__content fitted\" data-param-prefix=\"\">\n",
       "        <div class=\"estimator-table\">\n",
       "            <details>\n",
       "                <summary>Parameters</summary>\n",
       "                <table class=\"parameters-table\">\n",
       "                  <tbody>\n",
       "                    \n",
       "        <tr class=\"default\">\n",
       "            <td><i class=\"copy-paste-icon\"\n",
       "                 onclick=\"copyToClipboard('fit_intercept',\n",
       "                          this.parentElement.nextElementSibling)\"\n",
       "            ></i></td>\n",
       "            <td class=\"param\">fit_intercept&nbsp;</td>\n",
       "            <td class=\"value\">True</td>\n",
       "        </tr>\n",
       "    \n",
       "\n",
       "        <tr class=\"default\">\n",
       "            <td><i class=\"copy-paste-icon\"\n",
       "                 onclick=\"copyToClipboard('copy_X',\n",
       "                          this.parentElement.nextElementSibling)\"\n",
       "            ></i></td>\n",
       "            <td class=\"param\">copy_X&nbsp;</td>\n",
       "            <td class=\"value\">True</td>\n",
       "        </tr>\n",
       "    \n",
       "\n",
       "        <tr class=\"default\">\n",
       "            <td><i class=\"copy-paste-icon\"\n",
       "                 onclick=\"copyToClipboard('tol',\n",
       "                          this.parentElement.nextElementSibling)\"\n",
       "            ></i></td>\n",
       "            <td class=\"param\">tol&nbsp;</td>\n",
       "            <td class=\"value\">1e-06</td>\n",
       "        </tr>\n",
       "    \n",
       "\n",
       "        <tr class=\"default\">\n",
       "            <td><i class=\"copy-paste-icon\"\n",
       "                 onclick=\"copyToClipboard('n_jobs',\n",
       "                          this.parentElement.nextElementSibling)\"\n",
       "            ></i></td>\n",
       "            <td class=\"param\">n_jobs&nbsp;</td>\n",
       "            <td class=\"value\">None</td>\n",
       "        </tr>\n",
       "    \n",
       "\n",
       "        <tr class=\"default\">\n",
       "            <td><i class=\"copy-paste-icon\"\n",
       "                 onclick=\"copyToClipboard('positive',\n",
       "                          this.parentElement.nextElementSibling)\"\n",
       "            ></i></td>\n",
       "            <td class=\"param\">positive&nbsp;</td>\n",
       "            <td class=\"value\">False</td>\n",
       "        </tr>\n",
       "    \n",
       "                  </tbody>\n",
       "                </table>\n",
       "            </details>\n",
       "        </div>\n",
       "    </div></div></div></div></div><script>function copyToClipboard(text, element) {\n",
       "    // Get the parameter prefix from the closest toggleable content\n",
       "    const toggleableContent = element.closest('.sk-toggleable__content');\n",
       "    const paramPrefix = toggleableContent ? toggleableContent.dataset.paramPrefix : '';\n",
       "    const fullParamName = paramPrefix ? `${paramPrefix}${text}` : text;\n",
       "\n",
       "    const originalStyle = element.style;\n",
       "    const computedStyle = window.getComputedStyle(element);\n",
       "    const originalWidth = computedStyle.width;\n",
       "    const originalHTML = element.innerHTML.replace('Copied!', '');\n",
       "\n",
       "    navigator.clipboard.writeText(fullParamName)\n",
       "        .then(() => {\n",
       "            element.style.width = originalWidth;\n",
       "            element.style.color = 'green';\n",
       "            element.innerHTML = \"Copied!\";\n",
       "\n",
       "            setTimeout(() => {\n",
       "                element.innerHTML = originalHTML;\n",
       "                element.style = originalStyle;\n",
       "            }, 2000);\n",
       "        })\n",
       "        .catch(err => {\n",
       "            console.error('Failed to copy:', err);\n",
       "            element.style.color = 'red';\n",
       "            element.innerHTML = \"Failed!\";\n",
       "            setTimeout(() => {\n",
       "                element.innerHTML = originalHTML;\n",
       "                element.style = originalStyle;\n",
       "            }, 2000);\n",
       "        });\n",
       "    return false;\n",
       "}\n",
       "\n",
       "document.querySelectorAll('.fa-regular.fa-copy').forEach(function(element) {\n",
       "    const toggleableContent = element.closest('.sk-toggleable__content');\n",
       "    const paramPrefix = toggleableContent ? toggleableContent.dataset.paramPrefix : '';\n",
       "    const paramName = element.parentElement.nextElementSibling.textContent.trim();\n",
       "    const fullParamName = paramPrefix ? `${paramPrefix}${paramName}` : paramName;\n",
       "\n",
       "    element.setAttribute('title', fullParamName);\n",
       "});\n",
       "</script></body>"
      ],
      "text/plain": [
       "LinearRegression()"
      ]
     },
     "execution_count": 29,
     "metadata": {},
     "output_type": "execute_result"
    }
   ],
   "source": [
    "model_final.fit(X_poly_final, Y_final)"
   ]
  },
  {
   "cell_type": "code",
   "execution_count": 30,
   "id": "5819018d-ea83-4d3e-aa40-fb99f37b503c",
   "metadata": {},
   "outputs": [
    {
     "data": {
      "text/plain": [
       "(array([ 0.00000000e+00,  8.96744296e-02,  3.87306507e-02,  1.40116785e-02,\n",
       "        -4.39852532e-04,  1.38525353e-03, -2.11551525e-04, -5.78622015e-04,\n",
       "        -3.39038010e-04,  2.30693237e-04,  7.62775843e-07, -1.21636828e-06,\n",
       "         7.24494002e-07,  1.79932497e-06, -1.51021227e-06, -1.14841391e-07,\n",
       "         3.32749144e-06,  4.93904244e-06,  2.67349509e-06, -2.30514930e-06]),\n",
       " np.float64(3.9435738173464454))"
      ]
     },
     "execution_count": 30,
     "metadata": {},
     "output_type": "execute_result"
    }
   ],
   "source": [
    "model_final.coef_, model_final.intercept_"
   ]
  }
 ],
 "metadata": {
  "kernelspec": {
   "display_name": "Python [conda env:miniconda3]",
   "language": "python",
   "name": "conda-env-miniconda3-py"
  },
  "language_info": {
   "codemirror_mode": {
    "name": "ipython",
    "version": 3
   },
   "file_extension": ".py",
   "mimetype": "text/x-python",
   "name": "python",
   "nbconvert_exporter": "python",
   "pygments_lexer": "ipython3",
   "version": "3.12.7"
  }
 },
 "nbformat": 4,
 "nbformat_minor": 5
}
