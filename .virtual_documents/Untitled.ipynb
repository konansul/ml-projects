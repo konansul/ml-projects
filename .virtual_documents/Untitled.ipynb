import numpy as np
import pandas as pd
import matplotlib.pyplot as plt
import matplotlib
import plotly.graph_objects as go
import seaborn as sns
from sklearn.linear_model import LinearRegression
from sklearn.model_selection import train_test_split
from sklearn.metrics import mean_squared_error
from sklearn.metrics import mean_absolute_error
from sklearn.metrics import mean_absolute_percentage_error

%matplotlib inline
%config InlineBackend.figure_format = 'retina'


data = pd.read_csv('/Users/konansul/Downloads/Advertising.csv', index_col = 0)


data


data.corr()


features = ['TV', 'Radio', 'Newspaper']
plt.figure(figsize=(18, 5))

for i, feature in enumerate(features):
    plt.subplot(1, 3, i + 1) 
    plt.scatter(data[feature], data['Sales'])
    plt.xlabel(feature)
    plt.title(f'{feature} vs Sales')
plt.show()


data = data.drop('Newspaper', axis = 1)


data


X = np.column_stack((np.ones(200),np.array(data[['TV', 'Radio']])))


Y = np.array(data['Sales'])


X_train, X_test, y_train, y_test = train_test_split(X, Y, test_size = 0.2, random_state = 42)


A = np.linalg.inv(X_train.T @ X_train) @ (X_train.T @ y_train)


A


model = LinearRegression()


model.fit(X_train, y_train)


model.coef_, model.intercept_


y_pred = model.predict(X_test)


y_pred


errors = y_pred - y_test


errors


MAPE = mean_absolute_percentage_error(y_test, y_pred)
print(f"MAPE: {MAPE:.5f}%")


MAE = mean_absolute_error(y_test, y_pred)
MAE


RMSE = np.sqrt(mean_squared_error(y_test, y_pred))
RMSE



x0 = data['TV'].values
x1 = data['Radio'].values
y = data['Sales'].values

# Коэффициенты регрессии (пример)
w0 = 0.0447283
w1 = 0.19066726
b = 3.028255250783303  # если есть свободный член, укажи его здесь

# Создаём сетку для плоскости
x0_grid, x1_grid = np.meshgrid(
    np.linspace(x0.min(), x0.max(), 30),
    np.linspace(x1.min(), x1.max(), 30)
)
y_grid = w0 * x0_grid + w1 * x1_grid + b

# Создаём фигуру
fig = go.Figure()

# Добавляем точки данных
fig.add_trace(go.Scatter3d(
    x=x0, y=x1, z=y,
    mode='markers',
    marker=dict(size=5, color='red'),
    name='Данные'
))

# Добавляем плоскость регрессии
fig.add_trace(go.Surface(
    x=x0_grid, y=x1_grid, z=y_grid,
    opacity=0.5,
    colorscale='Viridis',
    name='Плоскость регрессии'
))

# Настраиваем подписи осей и заголовок
fig.update_layout(
    scene=dict(
        xaxis_title='TV',
        yaxis_title='Radio',
        zaxis_title='Sales'
    ),
    title='3D график: точки данных и плоскость регрессии',
    width=1000,
    height=700
)

fig.show()


import plotly.graph_objects as go
import numpy as np
from sklearn.linear_model import LinearRegression
from sklearn.model_selection import train_test_split

# Данные
X = np.array(data[['TV', 'Radio']])
y = np.array(data['Sales'])

# Разделение
X_train, X_test, y_train, y_test = train_test_split(X, y, test_size=0.2, random_state=42)

# Обучение модели
model = LinearRegression()
model.fit(X_train, y_train)
y_pred = model.predict(X_test)

# Сетка для поверхности
x0_range = np.linspace(X[:, 0].min(), X[:, 0].max(), 30)
x1_range = np.linspace(X[:, 1].min(), X[:, 1].max(), 30)
x0_grid, x1_grid = np.meshgrid(x0_range, x1_range)
xy_grid = np.c_[x0_grid.ravel(), x1_grid.ravel()]
y_grid = model.predict(xy_grid).reshape(x0_grid.shape)

# Создаём фигуру
fig = go.Figure()

# Обучающие точки
fig.add_trace(go.Scatter3d(
    x=X_train[:, 0], y=X_train[:, 1], z=y_train,
    mode='markers',
    marker=dict(size=5, color='blue'),
    name='Train Data'
))

# Тестовые точки
fig.add_trace(go.Scatter3d(
    x=X_test[:, 0], y=X_test[:, 1], z=y_test,
    mode='markers',
    marker=dict(size=5, color='green'),
    name='Test Data'
))

# Предсказания модели
fig.add_trace(go.Scatter3d(
    x=X_test[:, 0], y=X_test[:, 1], z=y_pred,
    mode='markers',
    marker=dict(size=7, color='red', symbol='x'),
    name='Predicted Test'
))

# Плоскость линейной регрессии
fig.add_trace(go.Surface(
    x=x0_grid, y=x1_grid, z=y_grid,
    colorscale='Viridis',
    opacity=0.5,
    name='Regression Plane',
    showscale=False
))

# Настройки осей
fig.update_layout(
    scene=dict(
        xaxis_title='TV',
        yaxis_title='Radio',
        zaxis_title='Sales'
    ),
    title='3D Linear Regression in Plotly',
    width=1000,
    height=700
)

fig.show()



