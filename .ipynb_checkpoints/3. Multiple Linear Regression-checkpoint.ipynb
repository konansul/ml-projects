{
 "cells": [
  {
   "cell_type": "code",
   "execution_count": 1,
   "id": "e3d3bfc4-6ba2-4b14-baf2-8204636e3607",
   "metadata": {},
   "outputs": [],
   "source": [
    "import numpy as np\n",
    "import pandas as pd\n",
    "import matplotlib.pyplot as plt\n",
    "import matplotlib\n",
    "import seaborn as sns\n",
    "import plotly.graph_objects as go\n",
    "from sklearn.linear_model import LinearRegression\n",
    "from sklearn.model_selection import train_test_split\n",
    "from sklearn.metrics import mean_squared_error\n",
    "from sklearn.metrics import mean_absolute_error\n",
    "from sklearn.metrics import mean_absolute_percentage_error\n",
    "\n",
    "%matplotlib inline\n",
    "%config InlineBackend.figure_format = 'retina'"
   ]
  },
  {
   "cell_type": "code",
   "execution_count": 2,
   "id": "155d10ed-ce96-4b9f-8953-9536cb9759be",
   "metadata": {},
   "outputs": [],
   "source": [
    "data_full = pd.read_csv('/Users/konansul/Downloads/Advertising.csv', index_col = 0)"
   ]
  },
  {
   "cell_type": "code",
   "execution_count": 3,
   "id": "38464b52-f63b-4367-b289-072cf71e33ff",
   "metadata": {},
   "outputs": [
    {
     "data": {
      "text/html": [
       "<div>\n",
       "<style scoped>\n",
       "    .dataframe tbody tr th:only-of-type {\n",
       "        vertical-align: middle;\n",
       "    }\n",
       "\n",
       "    .dataframe tbody tr th {\n",
       "        vertical-align: top;\n",
       "    }\n",
       "\n",
       "    .dataframe thead th {\n",
       "        text-align: right;\n",
       "    }\n",
       "</style>\n",
       "<table border=\"1\" class=\"dataframe\">\n",
       "  <thead>\n",
       "    <tr style=\"text-align: right;\">\n",
       "      <th></th>\n",
       "      <th>TV</th>\n",
       "      <th>Radio</th>\n",
       "      <th>Newspaper</th>\n",
       "      <th>Sales</th>\n",
       "    </tr>\n",
       "  </thead>\n",
       "  <tbody>\n",
       "    <tr>\n",
       "      <th>1</th>\n",
       "      <td>230.1</td>\n",
       "      <td>37.8</td>\n",
       "      <td>69.2</td>\n",
       "      <td>22.1</td>\n",
       "    </tr>\n",
       "    <tr>\n",
       "      <th>2</th>\n",
       "      <td>44.5</td>\n",
       "      <td>39.3</td>\n",
       "      <td>45.1</td>\n",
       "      <td>10.4</td>\n",
       "    </tr>\n",
       "    <tr>\n",
       "      <th>3</th>\n",
       "      <td>17.2</td>\n",
       "      <td>45.9</td>\n",
       "      <td>69.3</td>\n",
       "      <td>9.3</td>\n",
       "    </tr>\n",
       "    <tr>\n",
       "      <th>4</th>\n",
       "      <td>151.5</td>\n",
       "      <td>41.3</td>\n",
       "      <td>58.5</td>\n",
       "      <td>18.5</td>\n",
       "    </tr>\n",
       "    <tr>\n",
       "      <th>5</th>\n",
       "      <td>180.8</td>\n",
       "      <td>10.8</td>\n",
       "      <td>58.4</td>\n",
       "      <td>12.9</td>\n",
       "    </tr>\n",
       "    <tr>\n",
       "      <th>...</th>\n",
       "      <td>...</td>\n",
       "      <td>...</td>\n",
       "      <td>...</td>\n",
       "      <td>...</td>\n",
       "    </tr>\n",
       "    <tr>\n",
       "      <th>196</th>\n",
       "      <td>38.2</td>\n",
       "      <td>3.7</td>\n",
       "      <td>13.8</td>\n",
       "      <td>7.6</td>\n",
       "    </tr>\n",
       "    <tr>\n",
       "      <th>197</th>\n",
       "      <td>94.2</td>\n",
       "      <td>4.9</td>\n",
       "      <td>8.1</td>\n",
       "      <td>9.7</td>\n",
       "    </tr>\n",
       "    <tr>\n",
       "      <th>198</th>\n",
       "      <td>177.0</td>\n",
       "      <td>9.3</td>\n",
       "      <td>6.4</td>\n",
       "      <td>12.8</td>\n",
       "    </tr>\n",
       "    <tr>\n",
       "      <th>199</th>\n",
       "      <td>283.6</td>\n",
       "      <td>42.0</td>\n",
       "      <td>66.2</td>\n",
       "      <td>25.5</td>\n",
       "    </tr>\n",
       "    <tr>\n",
       "      <th>200</th>\n",
       "      <td>232.1</td>\n",
       "      <td>8.6</td>\n",
       "      <td>8.7</td>\n",
       "      <td>13.4</td>\n",
       "    </tr>\n",
       "  </tbody>\n",
       "</table>\n",
       "<p>200 rows × 4 columns</p>\n",
       "</div>"
      ],
      "text/plain": [
       "        TV  Radio  Newspaper  Sales\n",
       "1    230.1   37.8       69.2   22.1\n",
       "2     44.5   39.3       45.1   10.4\n",
       "3     17.2   45.9       69.3    9.3\n",
       "4    151.5   41.3       58.5   18.5\n",
       "5    180.8   10.8       58.4   12.9\n",
       "..     ...    ...        ...    ...\n",
       "196   38.2    3.7       13.8    7.6\n",
       "197   94.2    4.9        8.1    9.7\n",
       "198  177.0    9.3        6.4   12.8\n",
       "199  283.6   42.0       66.2   25.5\n",
       "200  232.1    8.6        8.7   13.4\n",
       "\n",
       "[200 rows x 4 columns]"
      ]
     },
     "execution_count": 3,
     "metadata": {},
     "output_type": "execute_result"
    }
   ],
   "source": [
    "data_full"
   ]
  },
  {
   "cell_type": "code",
   "execution_count": 4,
   "id": "becafba8-c67d-4f13-a3a2-5ce83a024d30",
   "metadata": {},
   "outputs": [
    {
     "data": {
      "text/html": [
       "<div>\n",
       "<style scoped>\n",
       "    .dataframe tbody tr th:only-of-type {\n",
       "        vertical-align: middle;\n",
       "    }\n",
       "\n",
       "    .dataframe tbody tr th {\n",
       "        vertical-align: top;\n",
       "    }\n",
       "\n",
       "    .dataframe thead th {\n",
       "        text-align: right;\n",
       "    }\n",
       "</style>\n",
       "<table border=\"1\" class=\"dataframe\">\n",
       "  <thead>\n",
       "    <tr style=\"text-align: right;\">\n",
       "      <th></th>\n",
       "      <th>TV</th>\n",
       "      <th>Radio</th>\n",
       "      <th>Newspaper</th>\n",
       "      <th>Sales</th>\n",
       "    </tr>\n",
       "  </thead>\n",
       "  <tbody>\n",
       "    <tr>\n",
       "      <th>count</th>\n",
       "      <td>200.000000</td>\n",
       "      <td>200.000000</td>\n",
       "      <td>200.000000</td>\n",
       "      <td>200.000000</td>\n",
       "    </tr>\n",
       "    <tr>\n",
       "      <th>mean</th>\n",
       "      <td>147.042500</td>\n",
       "      <td>23.264000</td>\n",
       "      <td>30.554000</td>\n",
       "      <td>14.022500</td>\n",
       "    </tr>\n",
       "    <tr>\n",
       "      <th>std</th>\n",
       "      <td>85.854236</td>\n",
       "      <td>14.846809</td>\n",
       "      <td>21.778621</td>\n",
       "      <td>5.217457</td>\n",
       "    </tr>\n",
       "    <tr>\n",
       "      <th>min</th>\n",
       "      <td>0.700000</td>\n",
       "      <td>0.000000</td>\n",
       "      <td>0.300000</td>\n",
       "      <td>1.600000</td>\n",
       "    </tr>\n",
       "    <tr>\n",
       "      <th>25%</th>\n",
       "      <td>74.375000</td>\n",
       "      <td>9.975000</td>\n",
       "      <td>12.750000</td>\n",
       "      <td>10.375000</td>\n",
       "    </tr>\n",
       "    <tr>\n",
       "      <th>50%</th>\n",
       "      <td>149.750000</td>\n",
       "      <td>22.900000</td>\n",
       "      <td>25.750000</td>\n",
       "      <td>12.900000</td>\n",
       "    </tr>\n",
       "    <tr>\n",
       "      <th>75%</th>\n",
       "      <td>218.825000</td>\n",
       "      <td>36.525000</td>\n",
       "      <td>45.100000</td>\n",
       "      <td>17.400000</td>\n",
       "    </tr>\n",
       "    <tr>\n",
       "      <th>max</th>\n",
       "      <td>296.400000</td>\n",
       "      <td>49.600000</td>\n",
       "      <td>114.000000</td>\n",
       "      <td>27.000000</td>\n",
       "    </tr>\n",
       "  </tbody>\n",
       "</table>\n",
       "</div>"
      ],
      "text/plain": [
       "               TV       Radio   Newspaper       Sales\n",
       "count  200.000000  200.000000  200.000000  200.000000\n",
       "mean   147.042500   23.264000   30.554000   14.022500\n",
       "std     85.854236   14.846809   21.778621    5.217457\n",
       "min      0.700000    0.000000    0.300000    1.600000\n",
       "25%     74.375000    9.975000   12.750000   10.375000\n",
       "50%    149.750000   22.900000   25.750000   12.900000\n",
       "75%    218.825000   36.525000   45.100000   17.400000\n",
       "max    296.400000   49.600000  114.000000   27.000000"
      ]
     },
     "execution_count": 4,
     "metadata": {},
     "output_type": "execute_result"
    }
   ],
   "source": [
    "data_full.describe()"
   ]
  },
  {
   "cell_type": "code",
   "execution_count": 5,
   "id": "f36ea71a-23cc-4fb4-8508-5f72c3cb9a84",
   "metadata": {},
   "outputs": [
    {
     "data": {
      "text/html": [
       "<div>\n",
       "<style scoped>\n",
       "    .dataframe tbody tr th:only-of-type {\n",
       "        vertical-align: middle;\n",
       "    }\n",
       "\n",
       "    .dataframe tbody tr th {\n",
       "        vertical-align: top;\n",
       "    }\n",
       "\n",
       "    .dataframe thead th {\n",
       "        text-align: right;\n",
       "    }\n",
       "</style>\n",
       "<table border=\"1\" class=\"dataframe\">\n",
       "  <thead>\n",
       "    <tr style=\"text-align: right;\">\n",
       "      <th></th>\n",
       "      <th>TV</th>\n",
       "      <th>Radio</th>\n",
       "      <th>Newspaper</th>\n",
       "      <th>Sales</th>\n",
       "    </tr>\n",
       "  </thead>\n",
       "  <tbody>\n",
       "    <tr>\n",
       "      <th>TV</th>\n",
       "      <td>1.000000</td>\n",
       "      <td>0.054809</td>\n",
       "      <td>0.056648</td>\n",
       "      <td>0.782224</td>\n",
       "    </tr>\n",
       "    <tr>\n",
       "      <th>Radio</th>\n",
       "      <td>0.054809</td>\n",
       "      <td>1.000000</td>\n",
       "      <td>0.354104</td>\n",
       "      <td>0.576223</td>\n",
       "    </tr>\n",
       "    <tr>\n",
       "      <th>Newspaper</th>\n",
       "      <td>0.056648</td>\n",
       "      <td>0.354104</td>\n",
       "      <td>1.000000</td>\n",
       "      <td>0.228299</td>\n",
       "    </tr>\n",
       "    <tr>\n",
       "      <th>Sales</th>\n",
       "      <td>0.782224</td>\n",
       "      <td>0.576223</td>\n",
       "      <td>0.228299</td>\n",
       "      <td>1.000000</td>\n",
       "    </tr>\n",
       "  </tbody>\n",
       "</table>\n",
       "</div>"
      ],
      "text/plain": [
       "                 TV     Radio  Newspaper     Sales\n",
       "TV         1.000000  0.054809   0.056648  0.782224\n",
       "Radio      0.054809  1.000000   0.354104  0.576223\n",
       "Newspaper  0.056648  0.354104   1.000000  0.228299\n",
       "Sales      0.782224  0.576223   0.228299  1.000000"
      ]
     },
     "execution_count": 5,
     "metadata": {},
     "output_type": "execute_result"
    }
   ],
   "source": [
    "data_full.corr()"
   ]
  },
  {
   "cell_type": "code",
   "execution_count": 6,
   "id": "0d01c9f9-aa61-4247-bbd4-171bb92a1fae",
   "metadata": {},
   "outputs": [
    {
     "data": {
      "image/png": "[encoded data removed]",
      "text/plain": [
       "<Figure size 1800x500 with 3 Axes>"
      ]
     },
     "metadata": {
      "image/png": {
       "height": 469,
       "width": 1442
      }
     },
     "output_type": "display_data"
    }
   ],
   "source": [
    "features = ['TV', 'Radio', 'Newspaper']\n",
    "plt.figure(figsize=(18, 5))\n",
    "\n",
    "for i, feature in enumerate(features):\n",
    "    plt.subplot(1, 3, i + 1) \n",
    "    plt.scatter(data_full[feature], data_full['Sales'])\n",
    "    plt.xlabel(feature)\n",
    "    plt.title(f'{feature} vs Sales')\n",
    "plt.show()"
   ]
  },
  {
   "cell_type": "code",
   "execution_count": 7,
   "id": "f25f681f-03b0-4135-a27e-627619905e61",
   "metadata": {},
   "outputs": [],
   "source": [
    "data = data_full.drop('Newspaper', axis = 1)"
   ]
  },
  {
   "cell_type": "code",
   "execution_count": 8,
   "id": "8c78d8a4-92ce-415d-8e4f-7d1a0c57e8bc",
   "metadata": {},
   "outputs": [
    {
     "data": {
      "text/html": [
       "<div>\n",
       "<style scoped>\n",
       "    .dataframe tbody tr th:only-of-type {\n",
       "        vertical-align: middle;\n",
       "    }\n",
       "\n",
       "    .dataframe tbody tr th {\n",
       "        vertical-align: top;\n",
       "    }\n",
       "\n",
       "    .dataframe thead th {\n",
       "        text-align: right;\n",
       "    }\n",
       "</style>\n",
       "<table border=\"1\" class=\"dataframe\">\n",
       "  <thead>\n",
       "    <tr style=\"text-align: right;\">\n",
       "      <th></th>\n",
       "      <th>TV</th>\n",
       "      <th>Radio</th>\n",
       "      <th>Sales</th>\n",
       "    </tr>\n",
       "  </thead>\n",
       "  <tbody>\n",
       "    <tr>\n",
       "      <th>1</th>\n",
       "      <td>230.1</td>\n",
       "      <td>37.8</td>\n",
       "      <td>22.1</td>\n",
       "    </tr>\n",
       "    <tr>\n",
       "      <th>2</th>\n",
       "      <td>44.5</td>\n",
       "      <td>39.3</td>\n",
       "      <td>10.4</td>\n",
       "    </tr>\n",
       "    <tr>\n",
       "      <th>3</th>\n",
       "      <td>17.2</td>\n",
       "      <td>45.9</td>\n",
       "      <td>9.3</td>\n",
       "    </tr>\n",
       "    <tr>\n",
       "      <th>4</th>\n",
       "      <td>151.5</td>\n",
       "      <td>41.3</td>\n",
       "      <td>18.5</td>\n",
       "    </tr>\n",
       "    <tr>\n",
       "      <th>5</th>\n",
       "      <td>180.8</td>\n",
       "      <td>10.8</td>\n",
       "      <td>12.9</td>\n",
       "    </tr>\n",
       "    <tr>\n",
       "      <th>...</th>\n",
       "      <td>...</td>\n",
       "      <td>...</td>\n",
       "      <td>...</td>\n",
       "    </tr>\n",
       "    <tr>\n",
       "      <th>196</th>\n",
       "      <td>38.2</td>\n",
       "      <td>3.7</td>\n",
       "      <td>7.6</td>\n",
       "    </tr>\n",
       "    <tr>\n",
       "      <th>197</th>\n",
       "      <td>94.2</td>\n",
       "      <td>4.9</td>\n",
       "      <td>9.7</td>\n",
       "    </tr>\n",
       "    <tr>\n",
       "      <th>198</th>\n",
       "      <td>177.0</td>\n",
       "      <td>9.3</td>\n",
       "      <td>12.8</td>\n",
       "    </tr>\n",
       "    <tr>\n",
       "      <th>199</th>\n",
       "      <td>283.6</td>\n",
       "      <td>42.0</td>\n",
       "      <td>25.5</td>\n",
       "    </tr>\n",
       "    <tr>\n",
       "      <th>200</th>\n",
       "      <td>232.1</td>\n",
       "      <td>8.6</td>\n",
       "      <td>13.4</td>\n",
       "    </tr>\n",
       "  </tbody>\n",
       "</table>\n",
       "<p>200 rows × 3 columns</p>\n",
       "</div>"
      ],
      "text/plain": [
       "        TV  Radio  Sales\n",
       "1    230.1   37.8   22.1\n",
       "2     44.5   39.3   10.4\n",
       "3     17.2   45.9    9.3\n",
       "4    151.5   41.3   18.5\n",
       "5    180.8   10.8   12.9\n",
       "..     ...    ...    ...\n",
       "196   38.2    3.7    7.6\n",
       "197   94.2    4.9    9.7\n",
       "198  177.0    9.3   12.8\n",
       "199  283.6   42.0   25.5\n",
       "200  232.1    8.6   13.4\n",
       "\n",
       "[200 rows x 3 columns]"
      ]
     },
     "execution_count": 8,
     "metadata": {},
     "output_type": "execute_result"
    }
   ],
   "source": [
    "data"
   ]
  },
  {
   "cell_type": "code",
   "execution_count": 9,
   "id": "fac80a82-4cdb-4c6c-920f-6e3287e12f69",
   "metadata": {},
   "outputs": [],
   "source": [
    "X = np.array(data[['TV', 'Radio']])"
   ]
  },
  {
   "cell_type": "code",
   "execution_count": 10,
   "id": "731ad2f8-d3b9-4ac3-839a-22603c3e3be8",
   "metadata": {},
   "outputs": [],
   "source": [
    "Y = np.array(data['Sales'])"
   ]
  },
  {
   "cell_type": "code",
   "execution_count": 11,
   "id": "b47ff06f-d4a4-4d50-95ed-7b26a4141ea6",
   "metadata": {},
   "outputs": [],
   "source": [
    "X_train, X_test, y_train, y_test = train_test_split(X, Y, test_size = 0.2, random_state = 42)"
   ]
  },
  {
   "cell_type": "code",
   "execution_count": 12,
   "id": "f6a57006-67ab-4b26-bfdc-cf951e72e5bf",
   "metadata": {},
   "outputs": [],
   "source": [
    "X_train_ones = np.column_stack((np.ones(len(X_train)),np.array(X_train)))"
   ]
  },
  {
   "cell_type": "code",
   "execution_count": 13,
   "id": "82b9bfcf-8baf-4b6f-b342-7091e926c6fc",
   "metadata": {},
   "outputs": [],
   "source": [
    "A = np.linalg.inv(X_train_ones.T @ X_train_ones) @ (X_train_ones.T @ y_train)"
   ]
  },
  {
   "cell_type": "code",
   "execution_count": 14,
   "id": "3d3a90a0-f10d-4291-a85b-033bac8028ae",
   "metadata": {},
   "outputs": [
    {
     "data": {
      "text/plain": [
       "array([3.02825525, 0.0447283 , 0.19066726])"
      ]
     },
     "execution_count": 14,
     "metadata": {},
     "output_type": "execute_result"
    }
   ],
   "source": [
    "A"
   ]
  },
  {
   "cell_type": "code",
   "execution_count": 15,
   "id": "088e9792-3d88-49a7-ba61-3c39e67558eb",
   "metadata": {},
   "outputs": [],
   "source": [
    "model = LinearRegression()"
   ]
  },
  {
   "cell_type": "code",
   "execution_count": 16,
   "id": "0a4ac443-89de-46cf-831c-4040516ad55d",
   "metadata": {},
   "outputs": [
    {
     "data": {
      "text/html": [
       "<style>#sk-container-id-1 {\n",
       "  /* Definition of color scheme common for light and dark mode */\n",
       "  --sklearn-color-text: #000;\n",
       "  --sklearn-color-text-muted: #666;\n",
       "  --sklearn-color-line: gray;\n",
       "  /* Definition of color scheme for unfitted estimators */\n",
       "  --sklearn-color-unfitted-level-0: #fff5e6;\n",
       "  --sklearn-color-unfitted-level-1: #f6e4d2;\n",
       "  --sklearn-color-unfitted-level-2: #ffe0b3;\n",
       "  --sklearn-color-unfitted-level-3: chocolate;\n",
       "  /* Definition of color scheme for fitted estimators */\n",
       "  --sklearn-color-fitted-level-0: #f0f8ff;\n",
       "  --sklearn-color-fitted-level-1: #d4ebff;\n",
       "  --sklearn-color-fitted-level-2: #b3dbfd;\n",
       "  --sklearn-color-fitted-level-3: cornflowerblue;\n",
       "\n",
       "  /* Specific color for light theme */\n",
       "  --sklearn-color-text-on-default-background: var(--sg-text-color, var(--theme-code-foreground, var(--jp-content-font-color1, black)));\n",
       "  --sklearn-color-background: var(--sg-background-color, var(--theme-background, var(--jp-layout-color0, white)));\n",
       "  --sklearn-color-border-box: var(--sg-text-color, var(--theme-code-foreground, var(--jp-content-font-color1, black)));\n",
       "  --sklearn-color-icon: #696969;\n",
       "\n",
       "  @media (prefers-color-scheme: dark) {\n",
       "    /* Redefinition of color scheme for dark theme */\n",
       "    --sklearn-color-text-on-default-background: var(--sg-text-color, var(--theme-code-foreground, var(--jp-content-font-color1, white)));\n",
       "    --sklearn-color-background: var(--sg-background-color, var(--theme-background, var(--jp-layout-color0, #111)));\n",
       "    --sklearn-color-border-box: var(--sg-text-color, var(--theme-code-foreground, var(--jp-content-font-color1, white)));\n",
       "    --sklearn-color-icon: #878787;\n",
       "  }\n",
       "}\n",
       "\n",
       "#sk-container-id-1 {\n",
       "  color: var(--sklearn-color-text);\n",
       "}\n",
       "\n",
       "#sk-container-id-1 pre {\n",
       "  padding: 0;\n",
       "}\n",
       "\n",
       "#sk-container-id-1 input.sk-hidden--visually {\n",
       "  border: 0;\n",
       "  clip: rect(1px 1px 1px 1px);\n",
       "  clip: rect(1px, 1px, 1px, 1px);\n",
       "  height: 1px;\n",
       "  margin: -1px;\n",
       "  overflow: hidden;\n",
       "  padding: 0;\n",
       "  position: absolute;\n",
       "  width: 1px;\n",
       "}\n",
       "\n",
       "#sk-container-id-1 div.sk-dashed-wrapped {\n",
       "  border: 1px dashed var(--sklearn-color-line);\n",
       "  margin: 0 0.4em 0.5em 0.4em;\n",
       "  box-sizing: border-box;\n",
       "  padding-bottom: 0.4em;\n",
       "  background-color: var(--sklearn-color-background);\n",
       "}\n",
       "\n",
       "#sk-container-id-1 div.sk-container {\n",
       "  /* jupyter's `normalize.less` sets `[hidden] { display: none; }`\n",
       "     but bootstrap.min.css set `[hidden] { display: none !important; }`\n",
       "     so we also need the `!important` here to be able to override the\n",
       "     default hidden behavior on the sphinx rendered scikit-learn.org.\n",
       "     See: https://github.com/scikit-learn/scikit-learn/issues/21755 */\n",
       "  display: inline-block !important;\n",
       "  position: relative;\n",
       "}\n",
       "\n",
       "#sk-container-id-1 div.sk-text-repr-fallback {\n",
       "  display: none;\n",
       "}\n",
       "\n",
       "div.sk-parallel-item,\n",
       "div.sk-serial,\n",
       "div.sk-item {\n",
       "  /* draw centered vertical line to link estimators */\n",
       "  background-image: linear-gradient(var(--sklearn-color-text-on-default-background), var(--sklearn-color-text-on-default-background));\n",
       "  background-size: 2px 100%;\n",
       "  background-repeat: no-repeat;\n",
       "  background-position: center center;\n",
       "}\n",
       "\n",
       "/* Parallel-specific style estimator block */\n",
       "\n",
       "#sk-container-id-1 div.sk-parallel-item::after {\n",
       "  content: \"\";\n",
       "  width: 100%;\n",
       "  border-bottom: 2px solid var(--sklearn-color-text-on-default-background);\n",
       "  flex-grow: 1;\n",
       "}\n",
       "\n",
       "#sk-container-id-1 div.sk-parallel {\n",
       "  display: flex;\n",
       "  align-items: stretch;\n",
       "  justify-content: center;\n",
       "  background-color: var(--sklearn-color-background);\n",
       "  position: relative;\n",
       "}\n",
       "\n",
       "#sk-container-id-1 div.sk-parallel-item {\n",
       "  display: flex;\n",
       "  flex-direction: column;\n",
       "}\n",
       "\n",
       "#sk-container-id-1 div.sk-parallel-item:first-child::after {\n",
       "  align-self: flex-end;\n",
       "  width: 50%;\n",
       "}\n",
       "\n",
       "#sk-container-id-1 div.sk-parallel-item:last-child::after {\n",
       "  align-self: flex-start;\n",
       "  width: 50%;\n",
       "}\n",
       "\n",
       "#sk-container-id-1 div.sk-parallel-item:only-child::after {\n",
       "  width: 0;\n",
       "}\n",
       "\n",
       "/* Serial-specific style estimator block */\n",
       "\n",
       "#sk-container-id-1 div.sk-serial {\n",
       "  display: flex;\n",
       "  flex-direction: column;\n",
       "  align-items: center;\n",
       "  background-color: var(--sklearn-color-background);\n",
       "  padding-right: 1em;\n",
       "  padding-left: 1em;\n",
       "}\n",
       "\n",
       "\n",
       "/* Toggleable style: style used for estimator/Pipeline/ColumnTransformer box that is\n",
       "clickable and can be expanded/collapsed.\n",
       "- Pipeline and ColumnTransformer use this feature and define the default style\n",
       "- Estimators will overwrite some part of the style using the `sk-estimator` class\n",
       "*/\n",
       "\n",
       "/* Pipeline and ColumnTransformer style (default) */\n",
       "\n",
       "#sk-container-id-1 div.sk-toggleable {\n",
       "  /* Default theme specific background. It is overwritten whether we have a\n",
       "  specific estimator or a Pipeline/ColumnTransformer */\n",
       "  background-color: var(--sklearn-color-background);\n",
       "}\n",
       "\n",
       "/* Toggleable label */\n",
       "#sk-container-id-1 label.sk-toggleable__label {\n",
       "  cursor: pointer;\n",
       "  display: flex;\n",
       "  width: 100%;\n",
       "  margin-bottom: 0;\n",
       "  padding: 0.5em;\n",
       "  box-sizing: border-box;\n",
       "  text-align: center;\n",
       "  align-items: start;\n",
       "  justify-content: space-between;\n",
       "  gap: 0.5em;\n",
       "}\n",
       "\n",
       "#sk-container-id-1 label.sk-toggleable__label .caption {\n",
       "  font-size: 0.6rem;\n",
       "  font-weight: lighter;\n",
       "  color: var(--sklearn-color-text-muted);\n",
       "}\n",
       "\n",
       "#sk-container-id-1 label.sk-toggleable__label-arrow:before {\n",
       "  /* Arrow on the left of the label */\n",
       "  content: \"▸\";\n",
       "  float: left;\n",
       "  margin-right: 0.25em;\n",
       "  color: var(--sklearn-color-icon);\n",
       "}\n",
       "\n",
       "#sk-container-id-1 label.sk-toggleable__label-arrow:hover:before {\n",
       "  color: var(--sklearn-color-text);\n",
       "}\n",
       "\n",
       "/* Toggleable content - dropdown */\n",
       "\n",
       "#sk-container-id-1 div.sk-toggleable__content {\n",
       "  display: none;\n",
       "  text-align: left;\n",
       "  /* unfitted */\n",
       "  background-color: var(--sklearn-color-unfitted-level-0);\n",
       "}\n",
       "\n",
       "#sk-container-id-1 div.sk-toggleable__content.fitted {\n",
       "  /* fitted */\n",
       "  background-color: var(--sklearn-color-fitted-level-0);\n",
       "}\n",
       "\n",
       "#sk-container-id-1 div.sk-toggleable__content pre {\n",
       "  margin: 0.2em;\n",
       "  border-radius: 0.25em;\n",
       "  color: var(--sklearn-color-text);\n",
       "  /* unfitted */\n",
       "  background-color: var(--sklearn-color-unfitted-level-0);\n",
       "}\n",
       "\n",
       "#sk-container-id-1 div.sk-toggleable__content.fitted pre {\n",
       "  /* unfitted */\n",
       "  background-color: var(--sklearn-color-fitted-level-0);\n",
       "}\n",
       "\n",
       "#sk-container-id-1 input.sk-toggleable__control:checked~div.sk-toggleable__content {\n",
       "  /* Expand drop-down */\n",
       "  display: block;\n",
       "  width: 100%;\n",
       "  overflow: visible;\n",
       "}\n",
       "\n",
       "#sk-container-id-1 input.sk-toggleable__control:checked~label.sk-toggleable__label-arrow:before {\n",
       "  content: \"▾\";\n",
       "}\n",
       "\n",
       "/* Pipeline/ColumnTransformer-specific style */\n",
       "\n",
       "#sk-container-id-1 div.sk-label input.sk-toggleable__control:checked~label.sk-toggleable__label {\n",
       "  color: var(--sklearn-color-text);\n",
       "  background-color: var(--sklearn-color-unfitted-level-2);\n",
       "}\n",
       "\n",
       "#sk-container-id-1 div.sk-label.fitted input.sk-toggleable__control:checked~label.sk-toggleable__label {\n",
       "  background-color: var(--sklearn-color-fitted-level-2);\n",
       "}\n",
       "\n",
       "/* Estimator-specific style */\n",
       "\n",
       "/* Colorize estimator box */\n",
       "#sk-container-id-1 div.sk-estimator input.sk-toggleable__control:checked~label.sk-toggleable__label {\n",
       "  /* unfitted */\n",
       "  background-color: var(--sklearn-color-unfitted-level-2);\n",
       "}\n",
       "\n",
       "#sk-container-id-1 div.sk-estimator.fitted input.sk-toggleable__control:checked~label.sk-toggleable__label {\n",
       "  /* fitted */\n",
       "  background-color: var(--sklearn-color-fitted-level-2);\n",
       "}\n",
       "\n",
       "#sk-container-id-1 div.sk-label label.sk-toggleable__label,\n",
       "#sk-container-id-1 div.sk-label label {\n",
       "  /* The background is the default theme color */\n",
       "  color: var(--sklearn-color-text-on-default-background);\n",
       "}\n",
       "\n",
       "/* On hover, darken the color of the background */\n",
       "#sk-container-id-1 div.sk-label:hover label.sk-toggleable__label {\n",
       "  color: var(--sklearn-color-text);\n",
       "  background-color: var(--sklearn-color-unfitted-level-2);\n",
       "}\n",
       "\n",
       "/* Label box, darken color on hover, fitted */\n",
       "#sk-container-id-1 div.sk-label.fitted:hover label.sk-toggleable__label.fitted {\n",
       "  color: var(--sklearn-color-text);\n",
       "  background-color: var(--sklearn-color-fitted-level-2);\n",
       "}\n",
       "\n",
       "/* Estimator label */\n",
       "\n",
       "#sk-container-id-1 div.sk-label label {\n",
       "  font-family: monospace;\n",
       "  font-weight: bold;\n",
       "  display: inline-block;\n",
       "  line-height: 1.2em;\n",
       "}\n",
       "\n",
       "#sk-container-id-1 div.sk-label-container {\n",
       "  text-align: center;\n",
       "}\n",
       "\n",
       "/* Estimator-specific */\n",
       "#sk-container-id-1 div.sk-estimator {\n",
       "  font-family: monospace;\n",
       "  border: 1px dotted var(--sklearn-color-border-box);\n",
       "  border-radius: 0.25em;\n",
       "  box-sizing: border-box;\n",
       "  margin-bottom: 0.5em;\n",
       "  /* unfitted */\n",
       "  background-color: var(--sklearn-color-unfitted-level-0);\n",
       "}\n",
       "\n",
       "#sk-container-id-1 div.sk-estimator.fitted {\n",
       "  /* fitted */\n",
       "  background-color: var(--sklearn-color-fitted-level-0);\n",
       "}\n",
       "\n",
       "/* on hover */\n",
       "#sk-container-id-1 div.sk-estimator:hover {\n",
       "  /* unfitted */\n",
       "  background-color: var(--sklearn-color-unfitted-level-2);\n",
       "}\n",
       "\n",
       "#sk-container-id-1 div.sk-estimator.fitted:hover {\n",
       "  /* fitted */\n",
       "  background-color: var(--sklearn-color-fitted-level-2);\n",
       "}\n",
       "\n",
       "/* Specification for estimator info (e.g. \"i\" and \"?\") */\n",
       "\n",
       "/* Common style for \"i\" and \"?\" */\n",
       "\n",
       ".sk-estimator-doc-link,\n",
       "a:link.sk-estimator-doc-link,\n",
       "a:visited.sk-estimator-doc-link {\n",
       "  float: right;\n",
       "  font-size: smaller;\n",
       "  line-height: 1em;\n",
       "  font-family: monospace;\n",
       "  background-color: var(--sklearn-color-background);\n",
       "  border-radius: 1em;\n",
       "  height: 1em;\n",
       "  width: 1em;\n",
       "  text-decoration: none !important;\n",
       "  margin-left: 0.5em;\n",
       "  text-align: center;\n",
       "  /* unfitted */\n",
       "  border: var(--sklearn-color-unfitted-level-1) 1pt solid;\n",
       "  color: var(--sklearn-color-unfitted-level-1);\n",
       "}\n",
       "\n",
       ".sk-estimator-doc-link.fitted,\n",
       "a:link.sk-estimator-doc-link.fitted,\n",
       "a:visited.sk-estimator-doc-link.fitted {\n",
       "  /* fitted */\n",
       "  border: var(--sklearn-color-fitted-level-1) 1pt solid;\n",
       "  color: var(--sklearn-color-fitted-level-1);\n",
       "}\n",
       "\n",
       "/* On hover */\n",
       "div.sk-estimator:hover .sk-estimator-doc-link:hover,\n",
       ".sk-estimator-doc-link:hover,\n",
       "div.sk-label-container:hover .sk-estimator-doc-link:hover,\n",
       ".sk-estimator-doc-link:hover {\n",
       "  /* unfitted */\n",
       "  background-color: var(--sklearn-color-unfitted-level-3);\n",
       "  color: var(--sklearn-color-background);\n",
       "  text-decoration: none;\n",
       "}\n",
       "\n",
       "div.sk-estimator.fitted:hover .sk-estimator-doc-link.fitted:hover,\n",
       ".sk-estimator-doc-link.fitted:hover,\n",
       "div.sk-label-container:hover .sk-estimator-doc-link.fitted:hover,\n",
       ".sk-estimator-doc-link.fitted:hover {\n",
       "  /* fitted */\n",
       "  background-color: var(--sklearn-color-fitted-level-3);\n",
       "  color: var(--sklearn-color-background);\n",
       "  text-decoration: none;\n",
       "}\n",
       "\n",
       "/* Span, style for the box shown on hovering the info icon */\n",
       ".sk-estimator-doc-link span {\n",
       "  display: none;\n",
       "  z-index: 9999;\n",
       "  position: relative;\n",
       "  font-weight: normal;\n",
       "  right: .2ex;\n",
       "  padding: .5ex;\n",
       "  margin: .5ex;\n",
       "  width: min-content;\n",
       "  min-width: 20ex;\n",
       "  max-width: 50ex;\n",
       "  color: var(--sklearn-color-text);\n",
       "  box-shadow: 2pt 2pt 4pt #999;\n",
       "  /* unfitted */\n",
       "  background: var(--sklearn-color-unfitted-level-0);\n",
       "  border: .5pt solid var(--sklearn-color-unfitted-level-3);\n",
       "}\n",
       "\n",
       ".sk-estimator-doc-link.fitted span {\n",
       "  /* fitted */\n",
       "  background: var(--sklearn-color-fitted-level-0);\n",
       "  border: var(--sklearn-color-fitted-level-3);\n",
       "}\n",
       "\n",
       ".sk-estimator-doc-link:hover span {\n",
       "  display: block;\n",
       "}\n",
       "\n",
       "/* \"?\"-specific style due to the `<a>` HTML tag */\n",
       "\n",
       "#sk-container-id-1 a.estimator_doc_link {\n",
       "  float: right;\n",
       "  font-size: 1rem;\n",
       "  line-height: 1em;\n",
       "  font-family: monospace;\n",
       "  background-color: var(--sklearn-color-background);\n",
       "  border-radius: 1rem;\n",
       "  height: 1rem;\n",
       "  width: 1rem;\n",
       "  text-decoration: none;\n",
       "  /* unfitted */\n",
       "  color: var(--sklearn-color-unfitted-level-1);\n",
       "  border: var(--sklearn-color-unfitted-level-1) 1pt solid;\n",
       "}\n",
       "\n",
       "#sk-container-id-1 a.estimator_doc_link.fitted {\n",
       "  /* fitted */\n",
       "  border: var(--sklearn-color-fitted-level-1) 1pt solid;\n",
       "  color: var(--sklearn-color-fitted-level-1);\n",
       "}\n",
       "\n",
       "/* On hover */\n",
       "#sk-container-id-1 a.estimator_doc_link:hover {\n",
       "  /* unfitted */\n",
       "  background-color: var(--sklearn-color-unfitted-level-3);\n",
       "  color: var(--sklearn-color-background);\n",
       "  text-decoration: none;\n",
       "}\n",
       "\n",
       "#sk-container-id-1 a.estimator_doc_link.fitted:hover {\n",
       "  /* fitted */\n",
       "  background-color: var(--sklearn-color-fitted-level-3);\n",
       "}\n",
       "\n",
       ".estimator-table summary {\n",
       "    padding: .5rem;\n",
       "    font-family: monospace;\n",
       "    cursor: pointer;\n",
       "}\n",
       "\n",
       ".estimator-table details[open] {\n",
       "    padding-left: 0.1rem;\n",
       "    padding-right: 0.1rem;\n",
       "    padding-bottom: 0.3rem;\n",
       "}\n",
       "\n",
       ".estimator-table .parameters-table {\n",
       "    margin-left: auto !important;\n",
       "    margin-right: auto !important;\n",
       "}\n",
       "\n",
       ".estimator-table .parameters-table tr:nth-child(odd) {\n",
       "    background-color: #fff;\n",
       "}\n",
       "\n",
       ".estimator-table .parameters-table tr:nth-child(even) {\n",
       "    background-color: #f6f6f6;\n",
       "}\n",
       "\n",
       ".estimator-table .parameters-table tr:hover {\n",
       "    background-color: #e0e0e0;\n",
       "}\n",
       "\n",
       ".estimator-table table td {\n",
       "    border: 1px solid rgba(106, 105, 104, 0.232);\n",
       "}\n",
       "\n",
       ".user-set td {\n",
       "    color:rgb(255, 94, 0);\n",
       "    text-align: left;\n",
       "}\n",
       "\n",
       ".user-set td.value pre {\n",
       "    color:rgb(255, 94, 0) !important;\n",
       "    background-color: transparent !important;\n",
       "}\n",
       "\n",
       ".default td {\n",
       "    color: black;\n",
       "    text-align: left;\n",
       "}\n",
       "\n",
       ".user-set td i,\n",
       ".default td i {\n",
       "    color: black;\n",
       "}\n",
       "\n",
       ".copy-paste-icon {\n",
       "    background-image: url(data:image/svg+xml;base64,PHN2ZyB4bWxucz0iaHR0cDovL3d3dy53My5vcmcvMjAwMC9zdmciIHZpZXdCb3g9IjAgMCA0NDggNTEyIj48IS0tIUZvbnQgQXdlc29tZSBGcmVlIDYuNy4yIGJ5IEBmb250YXdlc29tZSAtIGh0dHBzOi8vZm9udGF3ZXNvbWUuY29tIExpY2Vuc2UgLSBodHRwczovL2ZvbnRhd2Vzb21lLmNvbS9saWNlbnNlL2ZyZWUgQ29weXJpZ2h0IDIwMjUgRm9udGljb25zLCBJbmMuLS0+PHBhdGggZD0iTTIwOCAwTDMzMi4xIDBjMTIuNyAwIDI0LjkgNS4xIDMzLjkgMTQuMWw2Ny45IDY3LjljOSA5IDE0LjEgMjEuMiAxNC4xIDMzLjlMNDQ4IDMzNmMwIDI2LjUtMjEuNSA0OC00OCA0OGwtMTkyIDBjLTI2LjUgMC00OC0yMS41LTQ4LTQ4bDAtMjg4YzAtMjYuNSAyMS41LTQ4IDQ4LTQ4ek00OCAxMjhsODAgMCAwIDY0LTY0IDAgMCAyNTYgMTkyIDAgMC0zMiA2NCAwIDAgNDhjMCAyNi41LTIxLjUgNDgtNDggNDhMNDggNTEyYy0yNi41IDAtNDgtMjEuNS00OC00OEwwIDE3NmMwLTI2LjUgMjEuNS00OCA0OC00OHoiLz48L3N2Zz4=);\n",
       "    background-repeat: no-repeat;\n",
       "    background-size: 14px 14px;\n",
       "    background-position: 0;\n",
       "    display: inline-block;\n",
       "    width: 14px;\n",
       "    height: 14px;\n",
       "    cursor: pointer;\n",
       "}\n",
       "</style><body><div id=\"sk-container-id-1\" class=\"sk-top-container\"><div class=\"sk-text-repr-fallback\"><pre>LinearRegression()</pre><b>In a Jupyter environment, please rerun this cell to show the HTML representation or trust the notebook. <br />On GitHub, the HTML representation is unable to render, please try loading this page with nbviewer.org.</b></div><div class=\"sk-container\" hidden><div class=\"sk-item\"><div class=\"sk-estimator fitted sk-toggleable\"><input class=\"sk-toggleable__control sk-hidden--visually\" id=\"sk-estimator-id-1\" type=\"checkbox\" checked><label for=\"sk-estimator-id-1\" class=\"sk-toggleable__label fitted sk-toggleable__label-arrow\"><div><div>LinearRegression</div></div><div><a class=\"sk-estimator-doc-link fitted\" rel=\"noreferrer\" target=\"_blank\" href=\"https://scikit-learn.org/1.7/modules/generated/sklearn.linear_model.LinearRegression.html\">?<span>Documentation for LinearRegression</span></a><span class=\"sk-estimator-doc-link fitted\">i<span>Fitted</span></span></div></label><div class=\"sk-toggleable__content fitted\" data-param-prefix=\"\">\n",
       "        <div class=\"estimator-table\">\n",
       "            <details>\n",
       "                <summary>Parameters</summary>\n",
       "                <table class=\"parameters-table\">\n",
       "                  <tbody>\n",
       "                    \n",
       "        <tr class=\"default\">\n",
       "            <td><i class=\"copy-paste-icon\"\n",
       "                 onclick=\"copyToClipboard('fit_intercept',\n",
       "                          this.parentElement.nextElementSibling)\"\n",
       "            ></i></td>\n",
       "            <td class=\"param\">fit_intercept&nbsp;</td>\n",
       "            <td class=\"value\">True</td>\n",
       "        </tr>\n",
       "    \n",
       "\n",
       "        <tr class=\"default\">\n",
       "            <td><i class=\"copy-paste-icon\"\n",
       "                 onclick=\"copyToClipboard('copy_X',\n",
       "                          this.parentElement.nextElementSibling)\"\n",
       "            ></i></td>\n",
       "            <td class=\"param\">copy_X&nbsp;</td>\n",
       "            <td class=\"value\">True</td>\n",
       "        </tr>\n",
       "    \n",
       "\n",
       "        <tr class=\"default\">\n",
       "            <td><i class=\"copy-paste-icon\"\n",
       "                 onclick=\"copyToClipboard('tol',\n",
       "                          this.parentElement.nextElementSibling)\"\n",
       "            ></i></td>\n",
       "            <td class=\"param\">tol&nbsp;</td>\n",
       "            <td class=\"value\">1e-06</td>\n",
       "        </tr>\n",
       "    \n",
       "\n",
       "        <tr class=\"default\">\n",
       "            <td><i class=\"copy-paste-icon\"\n",
       "                 onclick=\"copyToClipboard('n_jobs',\n",
       "                          this.parentElement.nextElementSibling)\"\n",
       "            ></i></td>\n",
       "            <td class=\"param\">n_jobs&nbsp;</td>\n",
       "            <td class=\"value\">None</td>\n",
       "        </tr>\n",
       "    \n",
       "\n",
       "        <tr class=\"default\">\n",
       "            <td><i class=\"copy-paste-icon\"\n",
       "                 onclick=\"copyToClipboard('positive',\n",
       "                          this.parentElement.nextElementSibling)\"\n",
       "            ></i></td>\n",
       "            <td class=\"param\">positive&nbsp;</td>\n",
       "            <td class=\"value\">False</td>\n",
       "        </tr>\n",
       "    \n",
       "                  </tbody>\n",
       "                </table>\n",
       "            </details>\n",
       "        </div>\n",
       "    </div></div></div></div></div><script>function copyToClipboard(text, element) {\n",
       "    // Get the parameter prefix from the closest toggleable content\n",
       "    const toggleableContent = element.closest('.sk-toggleable__content');\n",
       "    const paramPrefix = toggleableContent ? toggleableContent.dataset.paramPrefix : '';\n",
       "    const fullParamName = paramPrefix ? `${paramPrefix}${text}` : text;\n",
       "\n",
       "    const originalStyle = element.style;\n",
       "    const computedStyle = window.getComputedStyle(element);\n",
       "    const originalWidth = computedStyle.width;\n",
       "    const originalHTML = element.innerHTML.replace('Copied!', '');\n",
       "\n",
       "    navigator.clipboard.writeText(fullParamName)\n",
       "        .then(() => {\n",
       "            element.style.width = originalWidth;\n",
       "            element.style.color = 'green';\n",
       "            element.innerHTML = \"Copied!\";\n",
       "\n",
       "            setTimeout(() => {\n",
       "                element.innerHTML = originalHTML;\n",
       "                element.style = originalStyle;\n",
       "            }, 2000);\n",
       "        })\n",
       "        .catch(err => {\n",
       "            console.error('Failed to copy:', err);\n",
       "            element.style.color = 'red';\n",
       "            element.innerHTML = \"Failed!\";\n",
       "            setTimeout(() => {\n",
       "                element.innerHTML = originalHTML;\n",
       "                element.style = originalStyle;\n",
       "            }, 2000);\n",
       "        });\n",
       "    return false;\n",
       "}\n",
       "\n",
       "document.querySelectorAll('.fa-regular.fa-copy').forEach(function(element) {\n",
       "    const toggleableContent = element.closest('.sk-toggleable__content');\n",
       "    const paramPrefix = toggleableContent ? toggleableContent.dataset.paramPrefix : '';\n",
       "    const paramName = element.parentElement.nextElementSibling.textContent.trim();\n",
       "    const fullParamName = paramPrefix ? `${paramPrefix}${paramName}` : paramName;\n",
       "\n",
       "    element.setAttribute('title', fullParamName);\n",
       "});\n",
       "</script></body>"
      ],
      "text/plain": [
       "LinearRegression()"
      ]
     },
     "execution_count": 16,
     "metadata": {},
     "output_type": "execute_result"
    }
   ],
   "source": [
    "model.fit(X_train, y_train)"
   ]
  },
  {
   "cell_type": "code",
   "execution_count": 17,
   "id": "e190b185-30a1-4d1f-b1cb-f1016036958c",
   "metadata": {},
   "outputs": [
    {
     "data": {
      "text/plain": [
       "(array([0.0447283 , 0.19066726]), np.float64(3.0282552507833067))"
      ]
     },
     "execution_count": 17,
     "metadata": {},
     "output_type": "execute_result"
    }
   ],
   "source": [
    "model.coef_, model.intercept_"
   ]
  },
  {
   "cell_type": "code",
   "execution_count": 18,
   "id": "a0646c6a-8e8a-4abe-ba79-89c77802ed33",
   "metadata": {},
   "outputs": [],
   "source": [
    "y_pred = model.predict(X_test)"
   ]
  },
  {
   "cell_type": "code",
   "execution_count": 19,
   "id": "cf02753c-8fc5-43c1-b162-abe1f1b42d34",
   "metadata": {},
   "outputs": [
    {
     "data": {
      "text/plain": [
       "array([16.35747252, 20.86299397, 21.52505848, 10.58719845, 22.22459614,\n",
       "       13.06070499, 21.09564403,  7.47641062, 13.62409831, 15.15019438,\n",
       "        9.12761147,  6.62878923, 14.16531076,  8.97073929,  9.66825463,\n",
       "       12.12821691,  8.71252199, 16.30911498, 10.26684186, 18.89010391,\n",
       "       19.4519532 , 13.03925601, 12.41182149, 21.20994137,  7.88771365,\n",
       "        5.80255394, 20.7764401 , 12.02358305,  9.1784369 ,  8.59012258,\n",
       "       12.46070487, 10.03213267, 21.34367738, 12.11632301, 18.23376459,\n",
       "       20.22242395, 14.14999367, 20.78067544, 11.07322103,  4.56335118])"
      ]
     },
     "execution_count": 19,
     "metadata": {},
     "output_type": "execute_result"
    }
   ],
   "source": [
    "y_pred"
   ]
  },
  {
   "cell_type": "code",
   "execution_count": 20,
   "id": "c9863a70-a305-4064-9555-67f82c3adc54",
   "metadata": {},
   "outputs": [],
   "source": [
    "errors = y_pred - y_test"
   ]
  },
  {
   "cell_type": "code",
   "execution_count": 21,
   "id": "6f0d4602-e732-4dc2-9714-cde238bdc0b0",
   "metadata": {},
   "outputs": [
    {
     "data": {
      "text/plain": [
       "array([-0.54252748, -1.53700603,  0.12505848,  3.28719845, -2.47540386,\n",
       "        0.46070499, -1.20435597, -0.92358938,  2.12409831,  0.25019438,\n",
       "       -0.37238853, -2.07121077,  2.26531076,  3.67073929, -0.63174537,\n",
       "        0.42821691,  3.21252199, -0.29088502, -1.03315814, -0.00989609,\n",
       "       -0.2480468 ,  0.53925601,  1.51182149, -0.99005863, -1.41228635,\n",
       "       -2.29744606, -0.9235599 , -1.37641695, -1.4215631 ,  2.89012258,\n",
       "        1.86070487, -1.26786733, -2.35632262,  3.41632301,  2.13376459,\n",
       "       -0.47757605,  2.54999367, -0.01932456, -0.82677897, -2.33664882])"
      ]
     },
     "execution_count": 21,
     "metadata": {},
     "output_type": "execute_result"
    }
   ],
   "source": [
    "errors"
   ]
  },
  {
   "cell_type": "code",
   "execution_count": 22,
   "id": "fd7fb50a-0dd2-426f-a1e4-7ef21ef325a9",
   "metadata": {},
   "outputs": [
    {
     "name": "stdout",
     "output_type": "stream",
     "text": [
      "Mean Absolute Persentage Error: 0.15090%\n",
      "Mean Absolute Error: 1.44430\n",
      "Root Mean Squared Error: 1.77143\n"
     ]
    }
   ],
   "source": [
    "MAPE = mean_absolute_percentage_error(y_test, y_pred)\n",
    "MAE = mean_absolute_error(y_test, y_pred)\n",
    "RMSE = np.sqrt(mean_squared_error(y_test, y_pred))\n",
    "\n",
    "print(f\"Mean Absolute Persentage Error: {MAPE:.5f}%\")\n",
    "print(f\"Mean Absolute Error: {MAE:.5f}\")\n",
    "print(f\"Root Mean Squared Error: {RMSE:.5f}\")"
   ]
  },
  {
   "cell_type": "code",
   "execution_count": 23,
   "id": "9fec9b0d-37b9-46f4-b5e4-f5ec970fbbee",
   "metadata": {},
   "outputs": [
    {
     "data": {
      "text/plain": [
       "np.float64(0.04472830196637739)"
      ]
     },
     "execution_count": 23,
     "metadata": {},
     "output_type": "execute_result"
    }
   ],
   "source": [
    "model.coef_[0]"
   ]
  },
  {
   "cell_type": "code",
   "execution_count": 24,
   "id": "c280a504-93d4-42e6-8d97-b83c203a748e",
   "metadata": {},
   "outputs": [
    {
     "data": {
      "application/vnd.plotly.v1+json": {
       "config": {
        "plotlyServerURL": "https://plot.ly"
       },
       "data": [
        {
         "marker": {
          "color": "red",
          "size": 3
         },
         "mode": "markers",
         "name": "Data Points",
         "type": "scatter3d",
         "x": {
          "bdata": "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",
          "dtype": "f8"
         },
         "y": {
          "bdata": "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",
          "dtype": "f8"
         },
         "z": {
          "bdata": "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",
          "dtype": "f8"
         }
        },
        {
         "colorscale": [
          [
           0,
           "#440154"
          ],
          [
           0.1111111111111111,
           "#482878"
          ],
          [
           0.2222222222222222,
           "#3e4989"
          ],
          [
           0.3333333333333333,
           "#31688e"
          ],
          [
           0.4444444444444444,
           "#26828e"
          ],
          [
           0.5555555555555556,
           "#1f9e89"
          ],
          [
           0.6666666666666666,
           "#35b779"
          ],
          [
           0.7777777777777778,
           "#6ece58"
          ],
          [
           0.8888888888888888,
           "#b5de2b"
          ],
          [
           1,
           "#fde725"
          ]
         ],
         "name": "Regression Plane",
         "opacity": 0.5,
         "type": "surface",
         "x": {
          "bdata": "ZmZmZmZm5j+NsNzTCMslQFp9qaDVFzVAbaJk1yZKP0DB4w8HPL5EQEt2baJk10lA1AjLPY3wTkCvTZTs2gRSQPQWQzpvkVRAOeDxhwMeV0B+qaDVl6pZQMNyTyMsN1xABzz+cMDDXkCmglZfKqhgQEjnLYZ07mFA60sFrb40Y0CNsNzTCHtkQC8VtPpSwWVA0nmLIZ0HZ0B03mJI501oQBdDOm8xlGlAuacRlnvaakBcDOm8xSBsQP5wwOMPZ21AoNWXClqtbkBDOm8xpPNvQHNPIyz3nHBAxAGPPxxAcUAVtPpSQeNxQGZmZmZmhnJAZmZmZmZm5j+NsNzTCMslQFp9qaDVFzVAbaJk1yZKP0DB4w8HPL5EQEt2baJk10lA1AjLPY3wTkCvTZTs2gRSQPQWQzpvkVRAOeDxhwMeV0B+qaDVl6pZQMNyTyMsN1xABzz+cMDDXkCmglZfKqhgQEjnLYZ07mFA60sFrb40Y0CNsNzTCHtkQC8VtPpSwWVA0nmLIZ0HZ0B03mJI501oQBdDOm8xlGlAuacRlnvaakBcDOm8xSBsQP5wwOMPZ21AoNWXClqtbkBDOm8xpPNvQHNPIyz3nHBAxAGPPxxAcUAVtPpSQeNxQGZmZmZmhnJAZmZmZmZm5j+NsNzTCMslQFp9qaDVFzVAbaJk1yZKP0DB4w8HPL5EQEt2baJk10lA1AjLPY3wTkCvTZTs2gRSQPQWQzpvkVRAOeDxhwMeV0B+qaDVl6pZQMNyTyMsN1xABzz+cMDDXkCmglZfKqhgQEjnLYZ07mFA60sFrb40Y0CNsNzTCHtkQC8VtPpSwWVA0nmLIZ0HZ0B03mJI501oQBdDOm8xlGlAuacRlnvaakBcDOm8xSBsQP5wwOMPZ21AoNWXClqtbkBDOm8xpPNvQHNPIyz3nHBAxAGPPxxAcUAVtPpSQeNxQGZmZmZmhnJAZmZmZmZm5j+NsNzTCMslQFp9qaDVFzVAbaJk1yZKP0DB4w8HPL5EQEt2baJk10lA1AjLPY3wTkCvTZTs2gRSQPQWQzpvkVRAOeDxhwMeV0B+qaDVl6pZQMNyTyMsN1xABzz+cMDDXkCmglZfKqhgQEjnLYZ07mFA60sFrb40Y0CNsNzTCHtkQC8VtPpSwWVA0nmLIZ0HZ0B03mJI501oQBdDOm8xlGlAuacRlnvaakBcDOm8xSBsQP5wwOMPZ21AoNWXClqtbkBDOm8xpPNvQHNPIyz3nHBAxAGPPxxAcUAVtPpSQeNxQGZmZmZmhnJAZmZmZmZm5j+NsNzTCMslQFp9qaDVFzVAbaJk1yZKP0DB4w8HPL5EQEt2baJk10lA1AjLPY3wTkCvTZTs2gRSQPQWQzpvkVRAOeDxhwMeV0B+qaDVl6pZQMNyTyMsN1xABzz+cMDDXkCmglZfKqhgQEjnLYZ07mFA60sFrb40Y0CNsNzTCHtkQC8VtPpSwWVA0nmLIZ0HZ0B03mJI501oQBdDOm8xlGlAuacRlnvaakBcDOm8xSBsQP5wwOMPZ21AoNWXClqtbkBDOm8xpPNvQHNPIyz3nHBAxAGPPxxAcUAVtPpSQeNxQGZmZmZmhnJAZmZmZmZm5j+NsNzTCMslQFp9qaDVFzVAbaJk1yZKP0DB4w8HPL5EQEt2baJk10lA1AjLPY3wTkCvTZTs2gRSQPQWQzpvkVRAOeDxhwMeV0B+qaDVl6pZQMNyTyMsN1xABzz+cMDDXkCmglZfKqhgQEjnLYZ07mFA60sFrb40Y0CNsNzTCHtkQC8VtPpSwWVA0nmLIZ0HZ0B03mJI501oQBdDOm8xlGlAuacRlnvaakBcDOm8xSBsQP5wwOMPZ21AoNWXClqtbkBDOm8xpPNvQHNPIyz3nHBAxAGPPxxAcUAVtPpSQeNxQGZmZmZmhnJAZmZmZmZm5j+NsNzTCMslQFp9qaDVFzVAbaJk1yZKP0DB4w8HPL5EQEt2baJk10lA1AjLPY3wTkCvTZTs2gRSQPQWQzpvkVRAOeDxhwMeV0B+qaDVl6pZQMNyTyMsN1xABzz+cMDDXkCmglZfKqhgQEjnLYZ07mFA60sFrb40Y0CNsNzTCHtkQC8VtPpSwWVA0nmLIZ0HZ0B03mJI501oQBdDOm8xlGlAuacRlnvaakBcDOm8xSBsQP5wwOMPZ21AoNWXClqtbkBDOm8xpPNvQHNPIyz3nHBAxAGPPxxAcUAVtPpSQeNxQGZmZmZmhnJAZmZmZmZm5j+NsNzTCMslQFp9qaDVFzVAbaJk1yZKP0DB4w8HPL5EQEt2baJk10lA1AjLPY3wTkCvTZTs2gRSQPQWQzpvkVRAOeDxhwMeV0B+qaDVl6pZQMNyTyMsN1xABzz+cMDDXkCmglZfKqhgQEjnLYZ07mFA60sFrb40Y0CNsNzTCHtkQC8VtPpSwWVA0nmLIZ0HZ0B03mJI501oQBdDOm8xlGlAuacRlnvaakBcDOm8xSBsQP5wwOMPZ21AoNWXClqtbkBDOm8xpPNvQHNPIyz3nHBAxAGPPxxAcUAVtPpSQeNxQGZmZmZmhnJAZmZmZmZm5j+NsNzTCMslQFp9qaDVFzVAbaJk1yZKP0DB4w8HPL5EQEt2baJk10lA1AjLPY3wTkCvTZTs2gRSQPQWQzpvkVRAOeDxhwMeV0B+qaDVl6pZQMNyTyMsN1xABzz+cMDDXkCmglZfKqhgQEjnLYZ07mFA60sFrb40Y0CNsNzTCHtkQC8VtPpSwWVA0nmLIZ0HZ0B03mJI501oQBdDOm8xlGlAuacRlnvaakBcDOm8xSBsQP5wwOMPZ21AoNWXClqtbkBDOm8xpPNvQHNPIyz3nHBAxAGPPxxAcUAVtPpSQeNxQGZmZmZmhnJAZmZmZmZm5j+NsNzTCMslQFp9qaDVFzVAbaJk1yZKP0DB4w8HPL5EQEt2baJk10lA1AjLPY3wTkCvTZTs2gRSQPQWQzpvkVRAOeDxhwMeV0B+qaDVl6pZQMNyTyMsN1xABzz+cMDDXkCmglZfKqhgQEjnLYZ07mFA60sFrb40Y0CNsNzTCHtkQC8VtPpSwWVA0nmLIZ0HZ0B03mJI501oQBdDOm8xlGlAuacRlnvaakBcDOm8xSBsQP5wwOMPZ21AoNWXClqtbkBDOm8xpPNvQHNPIyz3nHBAxAGPPxxAcUAVtPpSQeNxQGZmZmZmhnJAZmZmZmZm5j+NsNzTCMslQFp9qaDVFzVAbaJk1yZKP0DB4w8HPL5EQEt2baJk10lA1AjLPY3wTkCvTZTs2gRSQPQWQzpvkVRAOeDxhwMeV0B+qaDVl6pZQMNyTyMsN1xABzz+cMDDXkCmglZfKqhgQEjnLYZ07mFA60sFrb40Y0CNsNzTCHtkQC8VtPpSwWVA0nmLIZ0HZ0B03mJI501oQBdDOm8xlGlAuacRlnvaakBcDOm8xSBsQP5wwOMPZ21AoNWXClqtbkBDOm8xpPNvQHNPIyz3nHBAxAGPPxxAcUAVtPpSQeNxQGZmZmZmhnJAZmZmZmZm5j+NsNzTCMslQFp9qaDVFzVAbaJk1yZKP0DB4w8HPL5EQEt2baJk10lA1AjLPY3wTkCvTZTs2gRSQPQWQzpvkVRAOeDxhwMeV0B+qaDVl6pZQMNyTyMsN1xABzz+cMDDXkCmglZfKqhgQEjnLYZ07mFA60sFrb40Y0CNsNzTCHtkQC8VtPpSwWVA0nmLIZ0HZ0B03mJI501oQBdDOm8xlGlAuacRlnvaakBcDOm8xSBsQP5wwOMPZ21AoNWXClqtbkBDOm8xpPNvQHNPIyz3nHBAxAGPPxxAcUAVtPpSQeNxQGZmZmZmhnJAZmZmZmZm5j+NsNzTCMslQFp9qaDVFzVAbaJk1yZKP0DB4w8HPL5EQEt2baJk10lA1AjLPY3wTkCvTZTs2gRSQPQWQzpvkVRAOeDxhwMeV0B+qaDVl6pZQMNyTyMsN1xABzz+cMDDXkCmglZfKqhgQEjnLYZ07mFA60sFrb40Y0CNsNzTCHtkQC8VtPpSwWVA0nmLIZ0HZ0B03mJI501oQBdDOm8xlGlAuacRlnvaakBcDOm8xSBsQP5wwOMPZ21AoNWXClqtbkBDOm8xpPNvQHNPIyz3nHBAxAGPPxxAcUAVtPpSQeNxQGZmZmZmhnJAZmZmZmZm5j+NsNzTCMslQFp9qaDVFzVAbaJk1yZKP0DB4w8HPL5EQEt2baJk10lA1AjLPY3wTkCvTZTs2gRSQPQWQzpvkVRAOeDxhwMeV0B+qaDVl6pZQMNyTyMsN1xABzz+cMDDXkCmglZfKqhgQEjnLYZ07mFA60sFrb40Y0CNsNzTCHtkQC8VtPpSwWVA0nmLIZ0HZ0B03mJI501oQBdDOm8xlGlAuacRlnvaakBcDOm8xSBsQP5wwOMPZ21AoNWXClqtbkBDOm8xpPNvQHNPIyz3nHBAxAGPPxxAcUAVtPpSQeNxQGZmZmZmhnJAZmZmZmZm5j+NsNzTCMslQFp9qaDVFzVAbaJk1yZKP0DB4w8HPL5EQEt2baJk10lA1AjLPY3wTkCvTZTs2gRSQPQWQzpvkVRAOeDxhwMeV0B+qaDVl6pZQMNyTyMsN1xABzz+cMDDXkCmglZfKqhgQEjnLYZ07mFA60sFrb40Y0CNsNzTCHtkQC8VtPpSwWVA0nmLIZ0HZ0B03mJI501oQBdDOm8xlGlAuacRlnvaakBcDOm8xSBsQP5wwOMPZ21AoNWXClqtbkBDOm8xpPNvQHNPIyz3nHBAxAGPPxxAcUAVtPpSQeNxQGZmZmZmhnJAZmZmZmZm5j+NsNzTCMslQFp9qaDVFzVAbaJk1yZKP0DB4w8HPL5EQEt2baJk10lA1AjLPY3wTkCvTZTs2gRSQPQWQzpvkVRAOeDxhwMeV0B+qaDVl6pZQMNyTyMsN1xABzz+cMDDXkCmglZfKqhgQEjnLYZ07mFA60sFrb40Y0CNsNzTCHtkQC8VtPpSwWVA0nmLIZ0HZ0B03mJI501oQBdDOm8xlGlAuacRlnvaakBcDOm8xSBsQP5wwOMPZ21AoNWXClqtbkBDOm8xpPNvQHNPIyz3nHBAxAGPPxxAcUAVtPpSQeNxQGZmZmZmhnJAZmZmZmZm5j+NsNzTCMslQFp9qaDVFzVAbaJk1yZKP0DB4w8HPL5EQEt2baJk10lA1AjLPY3wTkCvTZTs2gRSQPQWQzpvkVRAOeDxhwMeV0B+qaDVl6pZQMNyTyMsN1xABzz+cMDDXkCmglZfKqhgQEjnLYZ07mFA60sFrb40Y0CNsNzTCHtkQC8VtPpSwWVA0nmLIZ0HZ0B03mJI501oQBdDOm8xlGlAuacRlnvaakBcDOm8xSBsQP5wwOMPZ21AoNWXClqtbkBDOm8xpPNvQHNPIyz3nHBAxAGPPxxAcUAVtPpSQeNxQGZmZmZmhnJAZmZmZmZm5j+NsNzTCMslQFp9qaDVFzVAbaJk1yZKP0DB4w8HPL5EQEt2baJk10lA1AjLPY3wTkCvTZTs2gRSQPQWQzpvkVRAOeDxhwMeV0B+qaDVl6pZQMNyTyMsN1xABzz+cMDDXkCmglZfKqhgQEjnLYZ07mFA60sFrb40Y0CNsNzTCHtkQC8VtPpSwWVA0nmLIZ0HZ0B03mJI501oQBdDOm8xlGlAuacRlnvaakBcDOm8xSBsQP5wwOMPZ21AoNWXClqtbkBDOm8xpPNvQHNPIyz3nHBAxAGPPxxAcUAVtPpSQeNxQGZmZmZmhnJAZmZmZmZm5j+NsNzTCMslQFp9qaDVFzVAbaJk1yZKP0DB4w8HPL5EQEt2baJk10lA1AjLPY3wTkCvTZTs2gRSQPQWQzpvkVRAOeDxhwMeV0B+qaDVl6pZQMNyTyMsN1xABzz+cMDDXkCmglZfKqhgQEjnLYZ07mFA60sFrb40Y0CNsNzTCHtkQC8VtPpSwWVA0nmLIZ0HZ0B03mJI501oQBdDOm8xlGlAuacRlnvaakBcDOm8xSBsQP5wwOMPZ21AoNWXClqtbkBDOm8xpPNvQHNPIyz3nHBAxAGPPxxAcUAVtPpSQeNxQGZmZmZmhnJAZmZmZmZm5j+NsNzTCMslQFp9qaDVFzVAbaJk1yZKP0DB4w8HPL5EQEt2baJk10lA1AjLPY3wTkCvTZTs2gRSQPQWQzpvkVRAOeDxhwMeV0B+qaDVl6pZQMNyTyMsN1xABzz+cMDDXkCmglZfKqhgQEjnLYZ07mFA60sFrb40Y0CNsNzTCHtkQC8VtPpSwWVA0nmLIZ0HZ0B03mJI501oQBdDOm8xlGlAuacRlnvaakBcDOm8xSBsQP5wwOMPZ21AoNWXClqtbkBDOm8xpPNvQHNPIyz3nHBAxAGPPxxAcUAVtPpSQeNxQGZmZmZmhnJAZmZmZmZm5j+NsNzTCMslQFp9qaDVFzVAbaJk1yZKP0DB4w8HPL5EQEt2baJk10lA1AjLPY3wTkCvTZTs2gRSQPQWQzpvkVRAOeDxhwMeV0B+qaDVl6pZQMNyTyMsN1xABzz+cMDDXkCmglZfKqhgQEjnLYZ07mFA60sFrb40Y0CNsNzTCHtkQC8VtPpSwWVA0nmLIZ0HZ0B03mJI501oQBdDOm8xlGlAuacRlnvaakBcDOm8xSBsQP5wwOMPZ21AoNWXClqtbkBDOm8xpPNvQHNPIyz3nHBAxAGPPxxAcUAVtPpSQeNxQGZmZmZmhnJAZmZmZmZm5j+NsNzTCMslQFp9qaDVFzVAbaJk1yZKP0DB4w8HPL5EQEt2baJk10lA1AjLPY3wTkCvTZTs2gRSQPQWQzpvkVRAOeDxhwMeV0B+qaDVl6pZQMNyTyMsN1xABzz+cMDDXkCmglZfKqhgQEjnLYZ07mFA60sFrb40Y0CNsNzTCHtkQC8VtPpSwWVA0nmLIZ0HZ0B03mJI501oQBdDOm8xlGlAuacRlnvaakBcDOm8xSBsQP5wwOMPZ21AoNWXClqtbkBDOm8xpPNvQHNPIyz3nHBAxAGPPxxAcUAVtPpSQeNxQGZmZmZmhnJAZmZmZmZm5j+NsNzTCMslQFp9qaDVFzVAbaJk1yZKP0DB4w8HPL5EQEt2baJk10lA1AjLPY3wTkCvTZTs2gRSQPQWQzpvkVRAOeDxhwMeV0B+qaDVl6pZQMNyTyMsN1xABzz+cMDDXkCmglZfKqhgQEjnLYZ07mFA60sFrb40Y0CNsNzTCHtkQC8VtPpSwWVA0nmLIZ0HZ0B03mJI501oQBdDOm8xlGlAuacRlnvaakBcDOm8xSBsQP5wwOMPZ21AoNWXClqtbkBDOm8xpPNvQHNPIyz3nHBAxAGPPxxAcUAVtPpSQeNxQGZmZmZmhnJAZmZmZmZm5j+NsNzTCMslQFp9qaDVFzVAbaJk1yZKP0DB4w8HPL5EQEt2baJk10lA1AjLPY3wTkCvTZTs2gRSQPQWQzpvkVRAOeDxhwMeV0B+qaDVl6pZQMNyTyMsN1xABzz+cMDDXkCmglZfKqhgQEjnLYZ07mFA60sFrb40Y0CNsNzTCHtkQC8VtPpSwWVA0nmLIZ0HZ0B03mJI501oQBdDOm8xlGlAuacRlnvaakBcDOm8xSBsQP5wwOMPZ21AoNWXClqtbkBDOm8xpPNvQHNPIyz3nHBAxAGPPxxAcUAVtPpSQeNxQGZmZmZmhnJAZmZmZmZm5j+NsNzTCMslQFp9qaDVFzVAbaJk1yZKP0DB4w8HPL5EQEt2baJk10lA1AjLPY3wTkCvTZTs2gRSQPQWQzpvkVRAOeDxhwMeV0B+qaDVl6pZQMNyTyMsN1xABzz+cMDDXkCmglZfKqhgQEjnLYZ07mFA60sFrb40Y0CNsNzTCHtkQC8VtPpSwWVA0nmLIZ0HZ0B03mJI501oQBdDOm8xlGlAuacRlnvaakBcDOm8xSBsQP5wwOMPZ21AoNWXClqtbkBDOm8xpPNvQHNPIyz3nHBAxAGPPxxAcUAVtPpSQeNxQGZmZmZmhnJAZmZmZmZm5j+NsNzTCMslQFp9qaDVFzVAbaJk1yZKP0DB4w8HPL5EQEt2baJk10lA1AjLPY3wTkCvTZTs2gRSQPQWQzpvkVRAOeDxhwMeV0B+qaDVl6pZQMNyTyMsN1xABzz+cMDDXkCmglZfKqhgQEjnLYZ07mFA60sFrb40Y0CNsNzTCHtkQC8VtPpSwWVA0nmLIZ0HZ0B03mJI501oQBdDOm8xlGlAuacRlnvaakBcDOm8xSBsQP5wwOMPZ21AoNWXClqtbkBDOm8xpPNvQHNPIyz3nHBAxAGPPxxAcUAVtPpSQeNxQGZmZmZmhnJAZmZmZmZm5j+NsNzTCMslQFp9qaDVFzVAbaJk1yZKP0DB4w8HPL5EQEt2baJk10lA1AjLPY3wTkCvTZTs2gRSQPQWQzpvkVRAOeDxhwMeV0B+qaDVl6pZQMNyTyMsN1xABzz+cMDDXkCmglZfKqhgQEjnLYZ07mFA60sFrb40Y0CNsNzTCHtkQC8VtPpSwWVA0nmLIZ0HZ0B03mJI501oQBdDOm8xlGlAuacRlnvaakBcDOm8xSBsQP5wwOMPZ21AoNWXClqtbkBDOm8xpPNvQHNPIyz3nHBAxAGPPxxAcUAVtPpSQeNxQGZmZmZmhnJAZmZmZmZm5j+NsNzTCMslQFp9qaDVFzVAbaJk1yZKP0DB4w8HPL5EQEt2baJk10lA1AjLPY3wTkCvTZTs2gRSQPQWQzpvkVRAOeDxhwMeV0B+qaDVl6pZQMNyTyMsN1xABzz+cMDDXkCmglZfKqhgQEjnLYZ07mFA60sFrb40Y0CNsNzTCHtkQC8VtPpSwWVA0nmLIZ0HZ0B03mJI501oQBdDOm8xlGlAuacRlnvaakBcDOm8xSBsQP5wwOMPZ21AoNWXClqtbkBDOm8xpPNvQHNPIyz3nHBAxAGPPxxAcUAVtPpSQeNxQGZmZmZmhnJAZmZmZmZm5j+NsNzTCMslQFp9qaDVFzVAbaJk1yZKP0DB4w8HPL5EQEt2baJk10lA1AjLPY3wTkCvTZTs2gRSQPQWQzpvkVRAOeDxhwMeV0B+qaDVl6pZQMNyTyMsN1xABzz+cMDDXkCmglZfKqhgQEjnLYZ07mFA60sFrb40Y0CNsNzTCHtkQC8VtPpSwWVA0nmLIZ0HZ0B03mJI501oQBdDOm8xlGlAuacRlnvaakBcDOm8xSBsQP5wwOMPZ21AoNWXClqtbkBDOm8xpPNvQHNPIyz3nHBAxAGPPxxAcUAVtPpSQeNxQGZmZmZmhnJAZmZmZmZm5j+NsNzTCMslQFp9qaDVFzVAbaJk1yZKP0DB4w8HPL5EQEt2baJk10lA1AjLPY3wTkCvTZTs2gRSQPQWQzpvkVRAOeDxhwMeV0B+qaDVl6pZQMNyTyMsN1xABzz+cMDDXkCmglZfKqhgQEjnLYZ07mFA60sFrb40Y0CNsNzTCHtkQC8VtPpSwWVA0nmLIZ0HZ0B03mJI501oQBdDOm8xlGlAuacRlnvaakBcDOm8xSBsQP5wwOMPZ21AoNWXClqtbkBDOm8xpPNvQHNPIyz3nHBAxAGPPxxAcUAVtPpSQeNxQGZmZmZmhnJA",
          "dtype": "f8",
          "shape": "30, 30"
         },
         "y": {
          "bdata": "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",
          "dtype": "f8",
          "shape": "30, 30"
         },
         "z": {
          "bdata": "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",
          "dtype": "f8",
          "shape": "30, 30"
         }
        }
       ],
       "layout": {
        "height": 700,
        "scene": {
         "xaxis": {
          "title": {
           "text": "TV"
          }
         },
         "yaxis": {
          "title": {
           "text": "Radio"
          }
         },
         "zaxis": {
          "title": {
           "text": "Sales"
          }
         }
        },
        "template": {
         "data": {
          "bar": [
           {
            "error_x": {
             "color": "#2a3f5f"
            },
            "error_y": {
             "color": "#2a3f5f"
            },
            "marker": {
             "line": {
              "color": "#E5ECF6",
              "width": 0.5
             },
             "pattern": {
              "fillmode": "overlay",
              "size": 10,
              "solidity": 0.2
             }
            },
            "type": "bar"
           }
          ],
          "barpolar": [
           {
            "marker": {
             "line": {
              "color": "#E5ECF6",
              "width": 0.5
             },
             "pattern": {
              "fillmode": "overlay",
              "size": 10,
              "solidity": 0.2
             }
            },
            "type": "barpolar"
           }
          ],
          "carpet": [
           {
            "aaxis": {
             "endlinecolor": "#2a3f5f",
             "gridcolor": "white",
             "linecolor": "white",
             "minorgridcolor": "white",
             "startlinecolor": "#2a3f5f"
            },
            "baxis": {
             "endlinecolor": "#2a3f5f",
             "gridcolor": "white",
             "linecolor": "white",
             "minorgridcolor": "white",
             "startlinecolor": "#2a3f5f"
            },
            "type": "carpet"
           }
          ],
          "choropleth": [
           {
            "colorbar": {
             "outlinewidth": 0,
             "ticks": ""
            },
            "type": "choropleth"
           }
          ],
          "contour": [
           {
            "colorbar": {
             "outlinewidth": 0,
             "ticks": ""
            },
            "colorscale": [
             [
              0,
              "#0d0887"
             ],
             [
              0.1111111111111111,
              "#46039f"
             ],
             [
              0.2222222222222222,
              "#7201a8"
             ],
             [
              0.3333333333333333,
              "#9c179e"
             ],
             [
              0.4444444444444444,
              "#bd3786"
             ],
             [
              0.5555555555555556,
              "#d8576b"
             ],
             [
              0.6666666666666666,
              "#ed7953"
             ],
             [
              0.7777777777777778,
              "#fb9f3a"
             ],
             [
              0.8888888888888888,
              "#fdca26"
             ],
             [
              1,
              "#f0f921"
             ]
            ],
            "type": "contour"
           }
          ],
          "contourcarpet": [
           {
            "colorbar": {
             "outlinewidth": 0,
             "ticks": ""
            },
            "type": "contourcarpet"
           }
          ],
          "heatmap": [
           {
            "colorbar": {
             "outlinewidth": 0,
             "ticks": ""
            },
            "colorscale": [
             [
              0,
              "#0d0887"
             ],
             [
              0.1111111111111111,
              "#46039f"
             ],
             [
              0.2222222222222222,
              "#7201a8"
             ],
             [
              0.3333333333333333,
              "#9c179e"
             ],
             [
              0.4444444444444444,
              "#bd3786"
             ],
             [
              0.5555555555555556,
              "#d8576b"
             ],
             [
              0.6666666666666666,
              "#ed7953"
             ],
             [
              0.7777777777777778,
              "#fb9f3a"
             ],
             [
              0.8888888888888888,
              "#fdca26"
             ],
             [
              1,
              "#f0f921"
             ]
            ],
            "type": "heatmap"
           }
          ],
          "histogram": [
           {
            "marker": {
             "pattern": {
              "fillmode": "overlay",
              "size": 10,
              "solidity": 0.2
             }
            },
            "type": "histogram"
           }
          ],
          "histogram2d": [
           {
            "colorbar": {
             "outlinewidth": 0,
             "ticks": ""
            },
            "colorscale": [
             [
              0,
              "#0d0887"
             ],
             [
              0.1111111111111111,
              "#46039f"
             ],
             [
              0.2222222222222222,
              "#7201a8"
             ],
             [
              0.3333333333333333,
              "#9c179e"
             ],
             [
              0.4444444444444444,
              "#bd3786"
             ],
             [
              0.5555555555555556,
              "#d8576b"
             ],
             [
              0.6666666666666666,
              "#ed7953"
             ],
             [
              0.7777777777777778,
              "#fb9f3a"
             ],
             [
              0.8888888888888888,
              "#fdca26"
             ],
             [
              1,
              "#f0f921"
             ]
            ],
            "type": "histogram2d"
           }
          ],
          "histogram2dcontour": [
           {
            "colorbar": {
             "outlinewidth": 0,
             "ticks": ""
            },
            "colorscale": [
             [
              0,
              "#0d0887"
             ],
             [
              0.1111111111111111,
              "#46039f"
             ],
             [
              0.2222222222222222,
              "#7201a8"
             ],
             [
              0.3333333333333333,
              "#9c179e"
             ],
             [
              0.4444444444444444,
              "#bd3786"
             ],
             [
              0.5555555555555556,
              "#d8576b"
             ],
             [
              0.6666666666666666,
              "#ed7953"
             ],
             [
              0.7777777777777778,
              "#fb9f3a"
             ],
             [
              0.8888888888888888,
              "#fdca26"
             ],
             [
              1,
              "#f0f921"
             ]
            ],
            "type": "histogram2dcontour"
           }
          ],
          "mesh3d": [
           {
            "colorbar": {
             "outlinewidth": 0,
             "ticks": ""
            },
            "type": "mesh3d"
           }
          ],
          "parcoords": [
           {
            "line": {
             "colorbar": {
              "outlinewidth": 0,
              "ticks": ""
             }
            },
            "type": "parcoords"
           }
          ],
          "pie": [
           {
            "automargin": true,
            "type": "pie"
           }
          ],
          "scatter": [
           {
            "fillpattern": {
             "fillmode": "overlay",
             "size": 10,
             "solidity": 0.2
            },
            "type": "scatter"
           }
          ],
          "scatter3d": [
           {
            "line": {
             "colorbar": {
              "outlinewidth": 0,
              "ticks": ""
             }
            },
            "marker": {
             "colorbar": {
              "outlinewidth": 0,
              "ticks": ""
             }
            },
            "type": "scatter3d"
           }
          ],
          "scattercarpet": [
           {
            "marker": {
             "colorbar": {
              "outlinewidth": 0,
              "ticks": ""
             }
            },
            "type": "scattercarpet"
           }
          ],
          "scattergeo": [
           {
            "marker": {
             "colorbar": {
              "outlinewidth": 0,
              "ticks": ""
             }
            },
            "type": "scattergeo"
           }
          ],
          "scattergl": [
           {
            "marker": {
             "colorbar": {
              "outlinewidth": 0,
              "ticks": ""
             }
            },
            "type": "scattergl"
           }
          ],
          "scattermap": [
           {
            "marker": {
             "colorbar": {
              "outlinewidth": 0,
              "ticks": ""
             }
            },
            "type": "scattermap"
           }
          ],
          "scattermapbox": [
           {
            "marker": {
             "colorbar": {
              "outlinewidth": 0,
              "ticks": ""
             }
            },
            "type": "scattermapbox"
           }
          ],
          "scatterpolar": [
           {
            "marker": {
             "colorbar": {
              "outlinewidth": 0,
              "ticks": ""
             }
            },
            "type": "scatterpolar"
           }
          ],
          "scatterpolargl": [
           {
            "marker": {
             "colorbar": {
              "outlinewidth": 0,
              "ticks": ""
             }
            },
            "type": "scatterpolargl"
           }
          ],
          "scatterternary": [
           {
            "marker": {
             "colorbar": {
              "outlinewidth": 0,
              "ticks": ""
             }
            },
            "type": "scatterternary"
           }
          ],
          "surface": [
           {
            "colorbar": {
             "outlinewidth": 0,
             "ticks": ""
            },
            "colorscale": [
             [
              0,
              "#0d0887"
             ],
             [
              0.1111111111111111,
              "#46039f"
             ],
             [
              0.2222222222222222,
              "#7201a8"
             ],
             [
              0.3333333333333333,
              "#9c179e"
             ],
             [
              0.4444444444444444,
              "#bd3786"
             ],
             [
              0.5555555555555556,
              "#d8576b"
             ],
             [
              0.6666666666666666,
              "#ed7953"
             ],
             [
              0.7777777777777778,
              "#fb9f3a"
             ],
             [
              0.8888888888888888,
              "#fdca26"
             ],
             [
              1,
              "#f0f921"
             ]
            ],
            "type": "surface"
           }
          ],
          "table": [
           {
            "cells": {
             "fill": {
              "color": "#EBF0F8"
             },
             "line": {
              "color": "white"
             }
            },
            "header": {
             "fill": {
              "color": "#C8D4E3"
             },
             "line": {
              "color": "white"
             }
            },
            "type": "table"
           }
          ]
         },
         "layout": {
          "annotationdefaults": {
           "arrowcolor": "#2a3f5f",
           "arrowhead": 0,
           "arrowwidth": 1
          },
          "autotypenumbers": "strict",
          "coloraxis": {
           "colorbar": {
            "outlinewidth": 0,
            "ticks": ""
           }
          },
          "colorscale": {
           "diverging": [
            [
             0,
             "#8e0152"
            ],
            [
             0.1,
             "#c51b7d"
            ],
            [
             0.2,
             "#de77ae"
            ],
            [
             0.3,
             "#f1b6da"
            ],
            [
             0.4,
             "#fde0ef"
            ],
            [
             0.5,
             "#f7f7f7"
            ],
            [
             0.6,
             "#e6f5d0"
            ],
            [
             0.7,
             "#b8e186"
            ],
            [
             0.8,
             "#7fbc41"
            ],
            [
             0.9,
             "#4d9221"
            ],
            [
             1,
             "#276419"
            ]
           ],
           "sequential": [
            [
             0,
             "#0d0887"
            ],
            [
             0.1111111111111111,
             "#46039f"
            ],
            [
             0.2222222222222222,
             "#7201a8"
            ],
            [
             0.3333333333333333,
             "#9c179e"
            ],
            [
             0.4444444444444444,
             "#bd3786"
            ],
            [
             0.5555555555555556,
             "#d8576b"
            ],
            [
             0.6666666666666666,
             "#ed7953"
            ],
            [
             0.7777777777777778,
             "#fb9f3a"
            ],
            [
             0.8888888888888888,
             "#fdca26"
            ],
            [
             1,
             "#f0f921"
            ]
           ],
           "sequentialminus": [
            [
             0,
             "#0d0887"
            ],
            [
             0.1111111111111111,
             "#46039f"
            ],
            [
             0.2222222222222222,
             "#7201a8"
            ],
            [
             0.3333333333333333,
             "#9c179e"
            ],
            [
             0.4444444444444444,
             "#bd3786"
            ],
            [
             0.5555555555555556,
             "#d8576b"
            ],
            [
             0.6666666666666666,
             "#ed7953"
            ],
            [
             0.7777777777777778,
             "#fb9f3a"
            ],
            [
             0.8888888888888888,
             "#fdca26"
            ],
            [
             1,
             "#f0f921"
            ]
           ]
          },
          "colorway": [
           "#636efa",
           "#EF553B",
           "#00cc96",
           "#ab63fa",
           "#FFA15A",
           "#19d3f3",
           "#FF6692",
           "#B6E880",
           "#FF97FF",
           "#FECB52"
          ],
          "font": {
           "color": "#2a3f5f"
          },
          "geo": {
           "bgcolor": "white",
           "lakecolor": "white",
           "landcolor": "#E5ECF6",
           "showlakes": true,
           "showland": true,
           "subunitcolor": "white"
          },
          "hoverlabel": {
           "align": "left"
          },
          "hovermode": "closest",
          "mapbox": {
           "style": "light"
          },
          "paper_bgcolor": "white",
          "plot_bgcolor": "#E5ECF6",
          "polar": {
           "angularaxis": {
            "gridcolor": "white",
            "linecolor": "white",
            "ticks": ""
           },
           "bgcolor": "#E5ECF6",
           "radialaxis": {
            "gridcolor": "white",
            "linecolor": "white",
            "ticks": ""
           }
          },
          "scene": {
           "xaxis": {
            "backgroundcolor": "#E5ECF6",
            "gridcolor": "white",
            "gridwidth": 2,
            "linecolor": "white",
            "showbackground": true,
            "ticks": "",
            "zerolinecolor": "white"
           },
           "yaxis": {
            "backgroundcolor": "#E5ECF6",
            "gridcolor": "white",
            "gridwidth": 2,
            "linecolor": "white",
            "showbackground": true,
            "ticks": "",
            "zerolinecolor": "white"
           },
           "zaxis": {
            "backgroundcolor": "#E5ECF6",
            "gridcolor": "white",
            "gridwidth": 2,
            "linecolor": "white",
            "showbackground": true,
            "ticks": "",
            "zerolinecolor": "white"
           }
          },
          "shapedefaults": {
           "line": {
            "color": "#2a3f5f"
           }
          },
          "ternary": {
           "aaxis": {
            "gridcolor": "white",
            "linecolor": "white",
            "ticks": ""
           },
           "baxis": {
            "gridcolor": "white",
            "linecolor": "white",
            "ticks": ""
           },
           "bgcolor": "#E5ECF6",
           "caxis": {
            "gridcolor": "white",
            "linecolor": "white",
            "ticks": ""
           }
          },
          "title": {
           "x": 0.05
          },
          "xaxis": {
           "automargin": true,
           "gridcolor": "white",
           "linecolor": "white",
           "ticks": "",
           "title": {
            "standoff": 15
           },
           "zerolinecolor": "white",
           "zerolinewidth": 2
          },
          "yaxis": {
           "automargin": true,
           "gridcolor": "white",
           "linecolor": "white",
           "ticks": "",
           "title": {
            "standoff": 15
           },
           "zerolinecolor": "white",
           "zerolinewidth": 2
          }
         }
        },
        "title": {
         "text": "Fitting a plane to data points"
        },
        "width": 1000
       }
      }
     },
     "metadata": {},
     "output_type": "display_data"
    }
   ],
   "source": [
    "x0 = np.array(data['TV'])\n",
    "x1 = np.array(data['Radio'])\n",
    "y = np.array(data['Sales'])\n",
    "\n",
    "a2 = model.coef_[1]\n",
    "a1 = model.coef_[0]\n",
    "a0 = model.intercept_\n",
    " \n",
    "x0_grid, x1_grid = np.meshgrid(\n",
    "    np.linspace(x0.min(), x0.max(), 30),\n",
    "    np.linspace(x1.min(), x1.max(), 30)\n",
    ")\n",
    "y_grid = a0 + a1 * x0_grid + a2 * x1_grid \n",
    "\n",
    "fig = go.Figure()\n",
    "\n",
    "# Data points\n",
    "fig.add_trace(go.Scatter3d(\n",
    "    x = x0, y = x1, z = y, marker = dict(size = 3, color = 'red'),mode = 'markers', name = 'Data Points'\n",
    "))\n",
    "\n",
    "# Regression plane\n",
    "fig.add_trace(go.Surface( \n",
    "    x = x0_grid, y = x1_grid, z = y_grid, opacity = 0.5, colorscale = 'Viridis', name = 'Regression Plane'\n",
    "))\n",
    "\n",
    "fig.update_layout(scene = dict(xaxis_title = 'TV', yaxis_title = 'Radio', zaxis_title = 'Sales'),\n",
    "    title = 'Fitting a plane to data points',\n",
    "    width = 1000,\n",
    "    height = 700\n",
    ")\n",
    "fig.show()"
   ]
  },
  {
   "cell_type": "code",
   "execution_count": 25,
   "id": "1b6e3e8f-2267-4537-a0eb-4afae083c2f8",
   "metadata": {},
   "outputs": [
    {
     "data": {
      "application/vnd.plotly.v1+json": {
       "config": {
        "plotlyServerURL": "https://plot.ly"
       },
       "data": [
        {
         "marker": {
          "color": "green",
          "size": 5
         },
         "mode": "markers",
         "name": "Test Points",
         "type": "scatter3d",
         "x": {
          "bdata": "mpmZmZlpZEDNzMzMzGxoQGZmZmZmTnJAZmZmZmZmJ0CamZmZmYlrQGZmZmZmxlJAmpmZmZkZa0AAAAAAAABJQM3MzMzMzGtAMzMzMzPjZUAAAAAAAIA/QJqZmZmZGUxAAAAAAABQbUCamZmZmZkVQAAAAAAAcGFAZmZmZmZGZUAzMzMzMzMdQDMzMzMzs2hAMzMzMzPTUkDNzMzMzKxtQAAAAAAAsGxAMzMzMzPzUEAAAAAAAABDQM3MzMzMXG9AAAAAAABAUUAAAAAAAMBKQAAAAAAAsGpAmpmZmZlpYUDNzMzMzMxVQM3MzMzMzCBAmpmZmZn5aEDNzMzMzExRQM3MzMzM3GhAZmZmZmbmMEAzMzMzM4txQGZmZmZmxm1AZmZmZmYmSEAzMzMzMxtxQM3MzMzMTF1AAAAAAACAO0A=",
          "dtype": "f8"
         },
         "y": {
          "bdata": "mpmZmZmZP0CamZmZmdlHQM3MzMzMTDxAMzMzMzNzQkAAAAAAAIBIQAAAAAAAgEFAMzMzMzPzRUAzMzMzMzMnQDMzMzMzMwtAAAAAAACANkCamZmZmZk4QM3MzMzMzBZAMzMzMzMzC0BmZmZmZuY9QM3MzMzMzABAMzMzMzMzH0CamZmZmRk8QM3MzMzMTDdAzczMzMxMNEAAAAAAAIA7QGZmZmZmJkBAzczMzMxMQkBmZmZmZiZEQAAAAAAAQEJAmpmZmZmZIkAAAAAAAAAAQAAAAAAAgEVAAAAAAAAALUCamZmZmZknQDMzMzMzMztAzczMzMzMBEAAAAAAAIA0QDMzMzMzs0hAmpmZmZnZRUDNzMzMzMwrQGZmZmZmJkFAAAAAAACAR0BmZmZmZuY8QGZmZmZmZi1AmpmZmZmZ+T8=",
          "dtype": "f8"
         },
         "z": {
          "bdata": "ZmZmZmbmMEBmZmZmZmY2QGZmZmZmZjVAMzMzMzMzHUAzMzMzM7M4QDMzMzMzMylAzczMzMxMNkDNzMzMzMwgQAAAAAAAACdAzczMzMzMLUAAAAAAAAAjQGZmZmZmZiFAzczMzMzMJ0AzMzMzMzMVQJqZmZmZmSRAZmZmZmZmJ0AAAAAAAAAWQJqZmZmZmTBAmpmZmZmZJkBmZmZmZuYyQDMzMzMzszNAAAAAAAAAKUDNzMzMzMwlQDMzMzMzMzZAmpmZmZmZIkAzMzMzMzMgQDMzMzMzszVAzczMzMzMKkAzMzMzMzMlQM3MzMzMzBZAMzMzMzMzJUCamZmZmZkmQDMzMzMzszdAZmZmZmZmIUCamZmZmRkwQDMzMzMzszRAMzMzMzMzJ0DNzMzMzMw0QM3MzMzMzCdAmpmZmZmZG0A=",
          "dtype": "f8"
         }
        },
        {
         "marker": {
          "color": "red",
          "size": 5
         },
         "mode": "markers",
         "name": "Predicted Test Points",
         "type": "scatter3d",
         "x": {
          "bdata": "mpmZmZlpZEDNzMzMzGxoQGZmZmZmTnJAZmZmZmZmJ0CamZmZmYlrQGZmZmZmxlJAmpmZmZkZa0AAAAAAAABJQM3MzMzMzGtAMzMzMzPjZUAAAAAAAIA/QJqZmZmZGUxAAAAAAABQbUCamZmZmZkVQAAAAAAAcGFAZmZmZmZGZUAzMzMzMzMdQDMzMzMzs2hAMzMzMzPTUkDNzMzMzKxtQAAAAAAAsGxAMzMzMzPzUEAAAAAAAABDQM3MzMzMXG9AAAAAAABAUUAAAAAAAMBKQAAAAAAAsGpAmpmZmZlpYUDNzMzMzMxVQM3MzMzMzCBAmpmZmZn5aEDNzMzMzExRQM3MzMzM3GhAZmZmZmbmMEAzMzMzM4txQGZmZmZmxm1AZmZmZmYmSEAzMzMzMxtxQM3MzMzMTF1AAAAAAACAO0A=",
          "dtype": "f8"
         },
         "y": {
          "bdata": "mpmZmZmZP0CamZmZmdlHQM3MzMzMTDxAMzMzMzNzQkAAAAAAAIBIQAAAAAAAgEFAMzMzMzPzRUAzMzMzMzMnQDMzMzMzMwtAAAAAAACANkCamZmZmZk4QM3MzMzMzBZAMzMzMzMzC0BmZmZmZuY9QM3MzMzMzABAMzMzMzMzH0CamZmZmRk8QM3MzMzMTDdAzczMzMxMNEAAAAAAAIA7QGZmZmZmJkBAzczMzMxMQkBmZmZmZiZEQAAAAAAAQEJAmpmZmZmZIkAAAAAAAAAAQAAAAAAAgEVAAAAAAAAALUCamZmZmZknQDMzMzMzMztAzczMzMzMBEAAAAAAAIA0QDMzMzMzs0hAmpmZmZnZRUDNzMzMzMwrQGZmZmZmJkFAAAAAAACAR0BmZmZmZuY8QGZmZmZmZi1AmpmZmZmZ+T8=",
          "dtype": "f8"
         },
         "z": {
          "bdata": "bIu0UYNbMECYSE0s7dw0QHD+lTtqhjVAwARORqUsJUBu9OQhfzk2QMwIX7kUHypANsOOIHwYNUCQPFsv2OcdQCfIONCJPytAF8UER+ZMLkAuJmhKVkEiQLCM3VLhgxpAsD2znKNULEDPB4m9BPEhQFjmj3glViNAodqMpaVBKECEkp6uz2whQH5I1ygiTzBA9nUDf5+IJEAgG5rZ3eMyQNZJZzSzczNAVWn+XBkUKkDalhBE2tIoQKO6tbe+NTVAqwVjzgSNH0CaieGy0DUXQGEBM8fExjRA1J7dExMMKEBGt/QUXFsiQK+WE4wkLiFAtSdIguHrKEBuEH2xcxAkQPxdpD37VzVAOqCtsI47KEASawT/1zsyQPGks8bwODRAMmpf+MtMLEC1qY1Y2sc0QKNiEjp9JSZA7dGYId9AEkA=",
          "dtype": "f8"
         }
        },
        {
         "colorscale": [
          [
           0,
           "#440154"
          ],
          [
           0.1111111111111111,
           "#482878"
          ],
          [
           0.2222222222222222,
           "#3e4989"
          ],
          [
           0.3333333333333333,
           "#31688e"
          ],
          [
           0.4444444444444444,
           "#26828e"
          ],
          [
           0.5555555555555556,
           "#1f9e89"
          ],
          [
           0.6666666666666666,
           "#35b779"
          ],
          [
           0.7777777777777778,
           "#6ece58"
          ],
          [
           0.8888888888888888,
           "#b5de2b"
          ],
          [
           1,
           "#fde725"
          ]
         ],
         "name": "Regression Plane",
         "opacity": 0.6,
         "showscale": false,
         "type": "surface",
         "x": {
          "bdata": "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",
          "dtype": "f8",
          "shape": "30, 30"
         },
         "y": {
          "bdata": "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",
          "dtype": "f8",
          "shape": "30, 30"
         },
         "z": {
          "bdata": "8q5PP/15CEBMKw6bByAMQKanzPYRxg9AAJJFKQ62EUAu0CRXE4kTQFoOBIUYXBVAiEzjsh0vF0C0isLgIgIZQOLIoQ4o1RpADweBPC2oHEA8RWBqMnseQLTBH8wbJyBAy2APY54QIUDi//75IPohQPie7pCj4yJADj7eJybNI0Al3c2+qLYkQDt8vVUroCVAUhut7K2JJkBoupyDMHMnQH9ZjBqzXChAlfh7sTVGKUCsl2tIuC8qQMM2W986GStA2dVKdr0CLEDwdDoNQOwsQAcUKqTC1S1AHbMZO0W/LkAzUgnSx6gvQKR4fDQlSTBArIMGHdsVC0AGAMV45bsOQDC+Qer3MBFAXfwgGP0DE0CKOgBGAtcUQLh433MHqhZA5La+oQx9GEAS9Z3PEVAaQD8zff0WIxxAbHFcKxz2HUCZrztZIckfQON2jUMTziBA+hV92pW3IUAQtWxxGKEiQCZUXAibiiNAPfNLnx10JEBUkjs2oF0lQGoxK80iRyZAgdAaZKUwJ0CXbwr7JxooQK4O+pGqAylAxK3pKC3tKUDbTNm/r9YqQPLryFYywCtACIu47bSpLEAfKqiEN5MtQDbJlxu6fC5ATGiHsjxmL0Cxg7uk3ycwQDxTM/CgnDBAZli9+rixDUBg6j2r4asQQI0oHdnmfhJAumb8BuxRFEDopNs08SQWQBTjumL29xdAQiGakPvKGUBuX3m+AJ4bQJydWOwFcR1Ayds3GgtEH0D7jAskiIsgQBIs+7oKdSFAKMvqUY1eIkA+atroD0gjQFQJyn+SMSRAbKi5FhUbJUCCR6mtlwQmQJjmmEQa7iZAr4WI25zXJ0DFJHhyH8EoQNzDZwmiqilA8mJXoCSUKkAJAkc3p30rQCChNs4pZyxANkAmZaxQLUBN3xX8LjouQGR+BZOxIy9AvY76FJoGMEBIXnJgW3swQNMt6qsc8DBAkBY6bMsmEEC9VBma0PkRQOqS+MfVzBNAGNHX9dqfFUBED7cj4HIXQHJNllHlRRlAnot1f+oYG0DMyVSt7+scQPkHNNv0vh5AE6OJBP1IIEAqQnmbfzIhQEDhaDICHCJAVoBYyYQFI0BtH0hgB+8jQIO+N/eJ2CRAml0njgzCJUCx/BYlj6smQMebBrwRlSdA3jr2UpR+KED02eXpFmgpQAt51YCZUSpAIRjFFxw7K0A4t7SuniQsQE9WpEUhDi1AZfWT3KP3LUB8lINzJuEuQJMzcwqpyi9AVGmx0BVaMEDgOCkc184wQGoIoWeYQzFA7YAVW7p0EUAav/SIv0cTQEj907bEGhVAdDuz5MntFkCieZISz8AYQM63cUDUkxpA/PVQbtlmHEApNDCc3jkeQCu5B+VxBiBAQlj3e/TvIEBY9+YSd9khQG6W1qn5wiJAhTXGQHysI0Cc1LXX/pUkQLJzpW6BfyVAyRKVBQRpJkDfsYSchlInQPVQdDMJPChADPBjyoslKUAij1NhDg8qQDkuQ/iQ+CpAT80yjxPiK0BmbCImlsssQH0LEr0YtS1Ak6oBVJueLkCqSfHqHYgvQGB08EDQODBA7ENojJGtMEB2E+DXUiIxQALjVyMUlzFASuvwSanCEkB4KdB3rpUUQKRnr6WzaBZA0qWO07g7GED+420Bvg4aQCwiTS/D4RtAWWAsXci0HUCGnguLzYcfQFpudVxprSBAcA1l8+uWIUCGrFSKboAiQJ1LRCHxaSNAtOozuHNTJEDKiSNP9jwlQOAoE+Z4JiZA98cCffsPJ0AOZ/ITfvknQCQG4qoA4yhAO6XRQYPMKUBRRMHYBbYqQGjjsG+InytAfoKgBguJLECVIZCdjXItQKzAfzQQXC5Awl9vy5JFL0Bsfy+xihcwQPhOp/xLjDBAgx4fSA0BMUAO7paTznUxQJm9Dt+P6jFAp1XMOJgQFEDUk6tmneMVQALSipSithdALhBqwqeJGUBcTknwrFwbQImMKB6yLx1AtsoHTLcCH0ByhPM83mogQIgj49NgVCFAnsLSauM9IkC1YcIBZicjQMwAspjoECRA4p+hL2v6JED4PpHG7eMlQA/egF1wzSZAJn1w9PK2J0A8HGCLdaAoQFK7TyL4iSlAaVo/uXpzKkB/+S5Q/VwrQJaYHud/RixArDcOfgIwLUDD1v0UhRkuQNp17asHAy9A8BTdQorsL0AEWuZsBmswQI8pXrjH3zBAGvnVA4lUMUClyE1PSskxQDCYxZoLPjJABMCnJ4deFUAy/oZVjDEXQF48ZoORBBlAjHpFsZbXGkC5uCTfm6ocQOb2Aw2hfR5AippxHVMoIECgOWG01REhQLbYUEtY+yFAzXdA4trkIkDkFjB5Xc4jQPq1HxDgtyRAEFUPp2KhJUAn9P495YomQD2T7tRndCdAVDLea+pdKEBr0c0CbUcpQIFwvZnvMCpAmA+tMHIaK0CurpzH9AMsQMVNjF537SxA2+x79fnWLUDyi2uMfMAuQAkrWyP/qS9AEGUl3cBJMECbNJ0ogr4wQCYEFXRDMzFAstOMvwSoMUA8owQLxhwyQMhyfFaHkTJAYiqDFnasFkCOaGJEe38YQLymQXKAUhpA6OQgoIUlHEAWIwDOivgdQENh3/uPyx9AuE/flErPIEDO7s4rzbghQOWNvsJPoiJA/CyuWdKLI0ASzJ3wVHUkQChrjYfXXiVAPwp9HlpIJkBWqWy13DEnQGxIXExfGyhAg+dL4+EEKUCZhjt6ZO4pQK8lKxHn1ypAxsQaqGnBK0DcYwo/7KosQPMC+tVulC1ACaLpbPF9LkAgQdkDdGcvQBxwZE17KDBApj/cmDydMEAyD1Tk/RExQL7eyy+/hjFASK5De4D7MUDUfbvGQXAyQF5NMxID5TJAvpReBWX6F0Ds0j0zas0ZQBgRHWFvoBtARU/8jnRzHUBzjdu8eUYfQNBlXXW/jCBA5gRNDEJ2IUD9ozyjxF8iQBRDLDpHSSNAKuIb0ckyJEBAgQtoTBwlQFcg+/7OBSZAbr/qlVHvJkCEXtos1NgnQJr9ycNWwihAsZy5WtmrKUDIO6nxW5UqQN7amIjefitA9XmIH2FoLEALGXi241EtQCK4Z01mOy5AOFdX5OgkL0Aoe6O9NQcwQLNKGwn3ezBAPhqTVLjwMEDK6QqgeWUxQFW5gus62jFA4Ij6NvxOMkBrWHKCvcMyQPYn6s1+ODNAHP859FNIGUBIPRkiWRsbQHZ7+E9e7hxAo7nXfWPBHkDoe9tVNEogQP4ay+y2MyFAFbq6gzkdIkAsWaoavAYjQEL4mbE+8CNAWJeJSMHZJEBvNnnfQ8MlQIbVaHbGrCZAnHRYDUmWJ0CzE0iky38oQMmyNztOaSlA4FEn0tBSKkD28BZpUzwrQAyQBgDWJSxAIy/2llgPLUA5zuUt2/gtQFBt1cRd4i5AZgzFW+DLL0C+VVp5sVowQEol0sRyzzBA1fRJEDREMUBgxMFb9bgxQOyTOae2LTJAd2Ox8neiMkACMyk+ORczQI0CoYn6izNAeGkV40KWGkClp/QQSGkcQNLl0z5NPB5AAJJZNqkHIEAWMUnNK/EgQC3QOGSu2iFARG8o+zDEIkBaDhiSs60jQHCtByk2lyRAh0z3v7iAJUCe6+ZWO2omQLSK1u29UydAyynGhEA9KEDhyLUbwyYpQPdnpbJFECpADgeVScj5KkAlpoTgSuMrQDtFdHfNzCxAUuRjDlC2LUBog1Ol0p8uQH8iQzxViS9AymCZ6Ws5MEBWMBE1La4wQOL/iIDuIjFAbM8AzK+XMUD4nngXcQwyQIRu8GIygTJADj5orvP1MkCZDeD5tGozQCTdV0V23zNA1tPw0THkG0ADEtD/NrcdQDBQry08ih9ALkfHraCuIEBF5rZEI5ghQFyFptulgSJAciSWcihrI0CIw4UJq1QkQJ9idaAtPiVAtgFlN7AnJkDMoFTOMhEnQOM/RGW1+idA+d4z/DfkKEAQfiOTus0pQCYdEyo9typAPbwCwb+gK0BTW/JXQoosQGn64e7Ecy1AgJnRhUddLkCWOMEcykYvQNZr2FkmGDBAYjtQpeeMMEDtCsjwqAExQHjaPzxqdjFABKq3hyvrMUCPeS/T7F8yQBpJpx6u1DJAphgfam9JM0Ax6Ja1ML4zQLy3DgHyMjRAMj7MwCAyHUBffKvuJQUfQEZdRY4VbCBAXPw0JZhVIUBzmyS8Gj8iQIo6FFOdKCNAoNkD6h8SJEC2ePOAovskQM4X4xcl5SVA5LbSrqfOJkD6VcJFKrgnQBH1sdysoShAJ5Shcy+LKUA+M5EKsnQqQFTSgKE0XitAa3FwOLdHLECBEGDPOTEtQJevT2a8Gi5Ark4//T4EL0DE7S6Uwe0vQG5GjxWiazBA+BUHYWPgMECE5X6sJFUxQBC19vflyTFAmoRuQ6c+MkAmVOaOaLMyQLIjXtopKDNAPfPVJeucM0DIwk1xrBE0QFOSxbxthjRAj6inrw+AHkBec8NuiikgQHUSswUNEyFAjLGinI/8IUCiUJIzEuYiQLjvgcqUzyNAz45xYRe5JEDmLWH4maIlQPzMUI8cjCZAE2xAJp91J0ApCzC9IV8oQECqH1SkSClAVkkP6yYyKkBt6P6BqRsrQIOH7hgsBSxAmiber67uLECwxc1GMdgtQMZkvd2zwS5A3QOtdDarL0B6Uc6FXEowQAUhRtEdvzBAkPC9HN8zMUAcwDVooKgxQKePrbNhHTJAMl8l/yKSMkC+Lp1K5AYzQEn+FJalezNA1M2M4WbwM0BfnQQtKGU0QOpsfHjp2TRA7BKDnv7NH0CMKDHmgdAgQKPHIH0EuiFAumYQFIejIkDQBQCrCY0jQOak70GMdiRA/UPf2A5gJUAU485vkUkmQCqCvgYUMydAQSGunZYcKEBXwJ00GQYpQG5fjcub7ylAhP58Yh7ZKkCbnWz5oMIrQLE8XJAjrCxAyNtLJ6aVLUDeeju+KH8uQPQZK1WraC9AhlwN9hYpMEAQLIVB2J0wQJz7/IyZEjFAJ8t02FqHMUCymuwjHPwxQD5qZG/dcDJAyTncup7lMkBVCVQGYFozQODYy1EhzzNAa6hDneJDNED2d7voo7g0QIFHMzRlLTVApD6vxvaNIEC73Z5deXchQNJ8jvT7YCJA6Bt+i35KI0D/um0iATQkQBZaXbmDHSVALPlMUAYHJkBCmDzniPAmQFk3LH4L2idAcNYbFY7DKECGdQusEK0pQJ0U+0KTlipAs7Pq2RWAK0DKUtpwmGksQODxyQcbUy1A95C5np08LkANMKk1ICYvQJJnTGbRBzBAHTfEsZJ8MECoBjz9U/EwQDTWs0gVZjFAvqUrlNbaMUBKdaPfl08yQNZEGytZxDJAYRSTdho5M0Ds4wrC260zQHizgg2dIjRAA4P6WF6XNECOUnKkHww1QBki6u/ggDVA1PMcPu40IUDqkgzVcB4iQAAy/GvzByNAF9HrAnbxI0AucNuZ+NokQEQPyzB7xCVAW666x/2tJkBxTapegJcnQIjsmfUCgShAnouJjIVqKUC1KnkjCFQqQMvJaLqKPStA4mhYUQ0nLED4B0jojxAtQA6nN38S+i1AJUYnFpXjLkA85RatF80vQClCAyJNWzBAtBF7bQ7QMEBA4fK4z0QxQMuwagSRuTFAVoDiT1IuMkDiT1qbE6MyQG0f0ubUFzNA+O5JMpaMM0CDvsF9VwE0QA+OOckYdjRAml2xFNrqNEAlLSlgm181QLD8oKtc1DVAAqmKteXbIUAYSHpMaMUiQC7naePqriNARYZZem2YJEBcJUkR8IElQHLEOKhyayZAiWMoP/VUJ0CfAhjWdz4oQLahB236JylAzUD3A30RKkDj3+aa//oqQPp+1jGC5CtAEB7GyATOLEAnvbVfh7ctQD1cpfYJoS5AVPuUjYyKL0A1TUKSBzowQMAcut3IrjBATOwxKYojMUDWu6l0S5gxQGKLIcAMDTJA7VqZC86BMkB4KhFXj/YyQAT6iKJQazNAj8kA7hHgM0AbmXg501Q0QKZo8ISUyTRAMTho0FU+NUC8B+AbF7M1QEfXV2fYJzZAMF74LN2CIkBG/efDX2wjQF2c11riVSRAdDvH8WQ/JUCK2raI5ygmQKF5ph9qEidAtxiWtuz7J0DOt4VNb+UoQORWdeTxzilA+/Vke3S4KkARlVQS96ErQCg0RKl5iyxAPtMzQPx0LUBVciPXfl4uQGsRE24BSC9AQViBAsIYMEDMJ/lNg40wQFf3cJlEAjFA4sbo5AV3MUBulmAwx+sxQPll2HuIYDJAhDVQx0nVMkAQBcgSC0ozQJvUP17MvjNAJqS3qY0zNECycy/1Tqg0QD1Dp0AQHTVAyBIfjNGRNUBT4pbXkgY2QN6xDiNUezZAXxNmpNQpI0B2slU7VxMkQIxRRdLZ/CRAovA0aVzmJUC5jyQA388mQNAuFJdhuSdA5s0DLuSiKED9bPPEZowpQBMM41vpdSpAKqvS8mtfK0BASsKJ7kgsQFfpsSBxMi1AbYiht/MbLkCEJ5FOdgUvQJrGgOX47i9A2DI4vj1sMEBkArAJ/+AwQO7RJ1XAVTFAeqGfoIHKMUAFcRfsQj8yQJBAjzcEtDJAHBAHg8UoM0Cn337Ohp0zQDOv9hlIEjRAvn5uZQmHNEBJTuawyvs0QNUdXvyLcDVAYO3VR03lNUDrvE2TDlo2QHaMxd7PzjZAjsjTG8zQI0CkZ8OyTrokQLoGs0nRoyVA0aWi4FONJkDoRJJ31nYnQP7jgQ5ZYChAFYNxpdtJKUArImE8XjMqQELBUNPgHCtAWGBAamMGLEBv/y8B5u8sQIWeH5ho2S1AnD0PL+vCLkCy3P7FbawvQOQ9dy74SjBAcA3vebm/MED73GbFejQxQIas3hA8qTFAEnxWXP0dMkCcS86nvpIyQCgbRvN/BzNAs+q9PkF8M0A+ujWKAvEzQMqJrdXDZTRAVVklIYXaNEDgKJ1sRk81QGz4FLgHxDVA98eMA8k4NkCClwRPiq02QA1nfJpLIjdAvH1Bk8N3JEDSHDEqRmElQOm7IMHISiZA/1oQWEs0J0AW+v/uzR0oQCyZ74VQBylAQzjfHNPwKUBZ186zVdoqQHB2vkrYwytAhxWu4VqtLECdtJ143ZYtQLRTjQ9ggC5AyvJ8puJpL0DwSLaesikwQHwYLupznjBAB+ilNTUTMUCStx2B9ocxQB2Hlcy3/DFAqFYNGHlxMkA0JoVjOuYyQL/1/K77WjNASsV0+rzPM0DWlOxFfkQ0QGFkZJE/uTRA7DPc3AAuNUB4A1QowqI1QAPTy3ODFzZAjqJDv0SMNkAZcrsKBgE3QKRBM1bHdTdA6jKvCrseJUAA0p6hPQgmQBdxjjjA8SZALRB+z0LbJ0BEr21mxcQoQFtOXf1HrilAce1MlMqXKkCIjDwrTYErQJ4rLMLPaixAtcobWVJULUDLaQvw1D0uQOII+4ZXJy9A/FP1Dm0IMECII21aLn0wQBLz5KXv8TBAnsJc8bBmMUApktQ8ctsxQLRhTIgzUDJAQDHE0/TEMkDLADwftjkzQFbQs2p3rjNA4Z8rtjgjNEBtb6MB+pc0QPg+G027DDVAgw6TmHyBNUAP3grkPfY1QJqtgi//ajZAJX36esDfNkCwTHLGgVQ3QDsc6hFDyTdAGegcgrLFJUAvhwwZNa8mQEYm/K+3mCdAXcXrRjqCKEBzZNvdvGspQIoDy3Q/VSpAoKK6C8I+K0C3QaqiRCgsQM3gmTnHES1A5H+J0En7LUD6HnlnzOQuQBG+aP5Ozi9AlC6syuhbMEAf/iMWqtAwQKrNm2FrRTFANp0TrSy6MUDAbIv47S4yQEw8A0SvozJA1wt7j3AYM0Bi2/LaMY0zQO6qaibzATRAeXricbR2NEAESlq9des0QJAZ0gg3YDVAG+lJVPjUNUCmuMGfuUk2QDKIOet6vjZAvVexNjwzN0BIJymC/ac3QNP2oM2+HDhAR52K+alsJkBePHqQLFYnQHTbaSevPyhAi3pZvjEpKUChGUlVtBIqQLi4OOw2/CpAzlcog7nlK0Dl9hcaPM8sQPyVB7G+uC1AEjX3R0GiLkAp1Obew4svQKA56zqjOjBAKwljhmSvMEC22NrRJSQxQEGoUh3nmDFAzHfKaKgNMkBYR0K0aYIyQOMWuv8q9zJAbuYxS+xrM0D5tamWreAzQIWFIeJuVTRAEFWZLTDKNECbJBF58T41QCf0iMSyszVAssMAEHQoNkA9k3hbNZ02QMli8Kb2ETdAVDJo8reGN0DfAeA9efs3QGrRV4k6cDhAdlL4cKETJ0CM8ecHJP0nQKOQ156m5ihAuS/HNSnQKUDQzrbMq7kqQOZtpmMuoytA/QyW+rCMLEATrIWRM3YtQCpLdSi2Xy5AQOpkvzhJL0CsRCqrXRkwQDYUovYejjBAwuMZQuACMUBNs5GNoXcxQNiCCdli7DFAZFKBJCRhMkDvIflv5dUyQHrxcLumSjNABcHoBmi/M0CQkGBSKTQ0QBxg2J3qqDRApy9Q6asdNUAy/8c0bZI1QL7OP4AuBzZASZ63y+97NkDUbS8XsfA2QGA9p2JyZTdA6wwfrjPaN0B23Jb59E44QAGsDkW2wzhApQdm6Ji6J0C7plV/G6QoQNJFRRaejSlA6OQ0rSB3KkD/gyREo2ArQBUjFNslSixALMIDcqgzLUBCYfMIKx0uQFkA45+tBi9AcJ/SNjDwL0BDH+Fm2WwwQM7uWLKa4TBAWr7Q/VtWMUDljUhJHcsxQHBdwJTePzJA/Cw44J+0MkCH/K8rYSkzQBLMJ3cinjNAnZufwuMSNEAoaxcOpYc0QLQ6j1lm/DRAPwoHpSdxNUDK2X7w6OU1QFap9juqWjZA4Xhuh2vPNkBsSObSLEQ3QPgXXh7uuDdAg+fVaa8tOEAOt021cKI4QJmGxQAyFzlA07zTX5BhKEDpW8P2EkspQAD7so2VNCpAFpqiJBgeK0AtOZK7mgcsQETYgVId8SxAWndx6Z/aLUBxFmGAIsQuQIe1UBelrS9ATyog15NLMEDa+ZciVcAwQGbJD24WNTFA8JiHudepMUB8aP8EmR4yQAc4d1BakzJAkgfvmxsIM0Ae12bn3HwzQKmm3jKe8TNANHZWfl9mNEC/Rc7JINs0QEsVRhXiTzVA1uS9YKPENUBhtDWsZDk2QO2DrfclrjZAeFMlQ+ciN0ADI52OqJc3QI/yFNppDDhAGsKMJSuBOEClkQRx7PU4QDBhfLytajlAAXJB14cIKUAYETFuCvIpQC6wIAWN2ypARU8QnA/FK0Bb7v8ykq4sQHKN78kUmC1AiCzfYJeBLkCfy873GWsvQFs1X0dOKjBA5gTXkg+fMEBy1E7e0BMxQPyjximSiDFAiHM+dVP9MUATQ7bAFHIyQJ4SLgzW5jJAKuKlV5dbM0C1sR2jWNAzQECBle4ZRTRAy1ANOtu5NEBWIIWFnC41QOLv/NBdozVAbb90HB8YNkD4juxn4Iw2QIReZLOhATdADy7c/mJ2N0Ca/VNKJOs3QCbNy5XlXzhAsZxD4abUOEA8bLssaEk5QMc7M3gpvjlA",
          "dtype": "f8",
          "shape": "30, 30"
         }
        }
       ],
       "layout": {
        "height": 700,
        "scene": {
         "xaxis": {
          "title": {
           "text": "TV"
          }
         },
         "yaxis": {
          "title": {
           "text": "Radio"
          }
         },
         "zaxis": {
          "title": {
           "text": "Sales"
          }
         }
        },
        "template": {
         "data": {
          "bar": [
           {
            "error_x": {
             "color": "#2a3f5f"
            },
            "error_y": {
             "color": "#2a3f5f"
            },
            "marker": {
             "line": {
              "color": "#E5ECF6",
              "width": 0.5
             },
             "pattern": {
              "fillmode": "overlay",
              "size": 10,
              "solidity": 0.2
             }
            },
            "type": "bar"
           }
          ],
          "barpolar": [
           {
            "marker": {
             "line": {
              "color": "#E5ECF6",
              "width": 0.5
             },
             "pattern": {
              "fillmode": "overlay",
              "size": 10,
              "solidity": 0.2
             }
            },
            "type": "barpolar"
           }
          ],
          "carpet": [
           {
            "aaxis": {
             "endlinecolor": "#2a3f5f",
             "gridcolor": "white",
             "linecolor": "white",
             "minorgridcolor": "white",
             "startlinecolor": "#2a3f5f"
            },
            "baxis": {
             "endlinecolor": "#2a3f5f",
             "gridcolor": "white",
             "linecolor": "white",
             "minorgridcolor": "white",
             "startlinecolor": "#2a3f5f"
            },
            "type": "carpet"
           }
          ],
          "choropleth": [
           {
            "colorbar": {
             "outlinewidth": 0,
             "ticks": ""
            },
            "type": "choropleth"
           }
          ],
          "contour": [
           {
            "colorbar": {
             "outlinewidth": 0,
             "ticks": ""
            },
            "colorscale": [
             [
              0,
              "#0d0887"
             ],
             [
              0.1111111111111111,
              "#46039f"
             ],
             [
              0.2222222222222222,
              "#7201a8"
             ],
             [
              0.3333333333333333,
              "#9c179e"
             ],
             [
              0.4444444444444444,
              "#bd3786"
             ],
             [
              0.5555555555555556,
              "#d8576b"
             ],
             [
              0.6666666666666666,
              "#ed7953"
             ],
             [
              0.7777777777777778,
              "#fb9f3a"
             ],
             [
              0.8888888888888888,
              "#fdca26"
             ],
             [
              1,
              "#f0f921"
             ]
            ],
            "type": "contour"
           }
          ],
          "contourcarpet": [
           {
            "colorbar": {
             "outlinewidth": 0,
             "ticks": ""
            },
            "type": "contourcarpet"
           }
          ],
          "heatmap": [
           {
            "colorbar": {
             "outlinewidth": 0,
             "ticks": ""
            },
            "colorscale": [
             [
              0,
              "#0d0887"
             ],
             [
              0.1111111111111111,
              "#46039f"
             ],
             [
              0.2222222222222222,
              "#7201a8"
             ],
             [
              0.3333333333333333,
              "#9c179e"
             ],
             [
              0.4444444444444444,
              "#bd3786"
             ],
             [
              0.5555555555555556,
              "#d8576b"
             ],
             [
              0.6666666666666666,
              "#ed7953"
             ],
             [
              0.7777777777777778,
              "#fb9f3a"
             ],
             [
              0.8888888888888888,
              "#fdca26"
             ],
             [
              1,
              "#f0f921"
             ]
            ],
            "type": "heatmap"
           }
          ],
          "histogram": [
           {
            "marker": {
             "pattern": {
              "fillmode": "overlay",
              "size": 10,
              "solidity": 0.2
             }
            },
            "type": "histogram"
           }
          ],
          "histogram2d": [
           {
            "colorbar": {
             "outlinewidth": 0,
             "ticks": ""
            },
            "colorscale": [
             [
              0,
              "#0d0887"
             ],
             [
              0.1111111111111111,
              "#46039f"
             ],
             [
              0.2222222222222222,
              "#7201a8"
             ],
             [
              0.3333333333333333,
              "#9c179e"
             ],
             [
              0.4444444444444444,
              "#bd3786"
             ],
             [
              0.5555555555555556,
              "#d8576b"
             ],
             [
              0.6666666666666666,
              "#ed7953"
             ],
             [
              0.7777777777777778,
              "#fb9f3a"
             ],
             [
              0.8888888888888888,
              "#fdca26"
             ],
             [
              1,
              "#f0f921"
             ]
            ],
            "type": "histogram2d"
           }
          ],
          "histogram2dcontour": [
           {
            "colorbar": {
             "outlinewidth": 0,
             "ticks": ""
            },
            "colorscale": [
             [
              0,
              "#0d0887"
             ],
             [
              0.1111111111111111,
              "#46039f"
             ],
             [
              0.2222222222222222,
              "#7201a8"
             ],
             [
              0.3333333333333333,
              "#9c179e"
             ],
             [
              0.4444444444444444,
              "#bd3786"
             ],
             [
              0.5555555555555556,
              "#d8576b"
             ],
             [
              0.6666666666666666,
              "#ed7953"
             ],
             [
              0.7777777777777778,
              "#fb9f3a"
             ],
             [
              0.8888888888888888,
              "#fdca26"
             ],
             [
              1,
              "#f0f921"
             ]
            ],
            "type": "histogram2dcontour"
           }
          ],
          "mesh3d": [
           {
            "colorbar": {
             "outlinewidth": 0,
             "ticks": ""
            },
            "type": "mesh3d"
           }
          ],
          "parcoords": [
           {
            "line": {
             "colorbar": {
              "outlinewidth": 0,
              "ticks": ""
             }
            },
            "type": "parcoords"
           }
          ],
          "pie": [
           {
            "automargin": true,
            "type": "pie"
           }
          ],
          "scatter": [
           {
            "fillpattern": {
             "fillmode": "overlay",
             "size": 10,
             "solidity": 0.2
            },
            "type": "scatter"
           }
          ],
          "scatter3d": [
           {
            "line": {
             "colorbar": {
              "outlinewidth": 0,
              "ticks": ""
             }
            },
            "marker": {
             "colorbar": {
              "outlinewidth": 0,
              "ticks": ""
             }
            },
            "type": "scatter3d"
           }
          ],
          "scattercarpet": [
           {
            "marker": {
             "colorbar": {
              "outlinewidth": 0,
              "ticks": ""
             }
            },
            "type": "scattercarpet"
           }
          ],
          "scattergeo": [
           {
            "marker": {
             "colorbar": {
              "outlinewidth": 0,
              "ticks": ""
             }
            },
            "type": "scattergeo"
           }
          ],
          "scattergl": [
           {
            "marker": {
             "colorbar": {
              "outlinewidth": 0,
              "ticks": ""
             }
            },
            "type": "scattergl"
           }
          ],
          "scattermap": [
           {
            "marker": {
             "colorbar": {
              "outlinewidth": 0,
              "ticks": ""
             }
            },
            "type": "scattermap"
           }
          ],
          "scattermapbox": [
           {
            "marker": {
             "colorbar": {
              "outlinewidth": 0,
              "ticks": ""
             }
            },
            "type": "scattermapbox"
           }
          ],
          "scatterpolar": [
           {
            "marker": {
             "colorbar": {
              "outlinewidth": 0,
              "ticks": ""
             }
            },
            "type": "scatterpolar"
           }
          ],
          "scatterpolargl": [
           {
            "marker": {
             "colorbar": {
              "outlinewidth": 0,
              "ticks": ""
             }
            },
            "type": "scatterpolargl"
           }
          ],
          "scatterternary": [
           {
            "marker": {
             "colorbar": {
              "outlinewidth": 0,
              "ticks": ""
             }
            },
            "type": "scatterternary"
           }
          ],
          "surface": [
           {
            "colorbar": {
             "outlinewidth": 0,
             "ticks": ""
            },
            "colorscale": [
             [
              0,
              "#0d0887"
             ],
             [
              0.1111111111111111,
              "#46039f"
             ],
             [
              0.2222222222222222,
              "#7201a8"
             ],
             [
              0.3333333333333333,
              "#9c179e"
             ],
             [
              0.4444444444444444,
              "#bd3786"
             ],
             [
              0.5555555555555556,
              "#d8576b"
             ],
             [
              0.6666666666666666,
              "#ed7953"
             ],
             [
              0.7777777777777778,
              "#fb9f3a"
             ],
             [
              0.8888888888888888,
              "#fdca26"
             ],
             [
              1,
              "#f0f921"
             ]
            ],
            "type": "surface"
           }
          ],
          "table": [
           {
            "cells": {
             "fill": {
              "color": "#EBF0F8"
             },
             "line": {
              "color": "white"
             }
            },
            "header": {
             "fill": {
              "color": "#C8D4E3"
             },
             "line": {
              "color": "white"
             }
            },
            "type": "table"
           }
          ]
         },
         "layout": {
          "annotationdefaults": {
           "arrowcolor": "#2a3f5f",
           "arrowhead": 0,
           "arrowwidth": 1
          },
          "autotypenumbers": "strict",
          "coloraxis": {
           "colorbar": {
            "outlinewidth": 0,
            "ticks": ""
           }
          },
          "colorscale": {
           "diverging": [
            [
             0,
             "#8e0152"
            ],
            [
             0.1,
             "#c51b7d"
            ],
            [
             0.2,
             "#de77ae"
            ],
            [
             0.3,
             "#f1b6da"
            ],
            [
             0.4,
             "#fde0ef"
            ],
            [
             0.5,
             "#f7f7f7"
            ],
            [
             0.6,
             "#e6f5d0"
            ],
            [
             0.7,
             "#b8e186"
            ],
            [
             0.8,
             "#7fbc41"
            ],
            [
             0.9,
             "#4d9221"
            ],
            [
             1,
             "#276419"
            ]
           ],
           "sequential": [
            [
             0,
             "#0d0887"
            ],
            [
             0.1111111111111111,
             "#46039f"
            ],
            [
             0.2222222222222222,
             "#7201a8"
            ],
            [
             0.3333333333333333,
             "#9c179e"
            ],
            [
             0.4444444444444444,
             "#bd3786"
            ],
            [
             0.5555555555555556,
             "#d8576b"
            ],
            [
             0.6666666666666666,
             "#ed7953"
            ],
            [
             0.7777777777777778,
             "#fb9f3a"
            ],
            [
             0.8888888888888888,
             "#fdca26"
            ],
            [
             1,
             "#f0f921"
            ]
           ],
           "sequentialminus": [
            [
             0,
             "#0d0887"
            ],
            [
             0.1111111111111111,
             "#46039f"
            ],
            [
             0.2222222222222222,
             "#7201a8"
            ],
            [
             0.3333333333333333,
             "#9c179e"
            ],
            [
             0.4444444444444444,
             "#bd3786"
            ],
            [
             0.5555555555555556,
             "#d8576b"
            ],
            [
             0.6666666666666666,
             "#ed7953"
            ],
            [
             0.7777777777777778,
             "#fb9f3a"
            ],
            [
             0.8888888888888888,
             "#fdca26"
            ],
            [
             1,
             "#f0f921"
            ]
           ]
          },
          "colorway": [
           "#636efa",
           "#EF553B",
           "#00cc96",
           "#ab63fa",
           "#FFA15A",
           "#19d3f3",
           "#FF6692",
           "#B6E880",
           "#FF97FF",
           "#FECB52"
          ],
          "font": {
           "color": "#2a3f5f"
          },
          "geo": {
           "bgcolor": "white",
           "lakecolor": "white",
           "landcolor": "#E5ECF6",
           "showlakes": true,
           "showland": true,
           "subunitcolor": "white"
          },
          "hoverlabel": {
           "align": "left"
          },
          "hovermode": "closest",
          "mapbox": {
           "style": "light"
          },
          "paper_bgcolor": "white",
          "plot_bgcolor": "#E5ECF6",
          "polar": {
           "angularaxis": {
            "gridcolor": "white",
            "linecolor": "white",
            "ticks": ""
           },
           "bgcolor": "#E5ECF6",
           "radialaxis": {
            "gridcolor": "white",
            "linecolor": "white",
            "ticks": ""
           }
          },
          "scene": {
           "xaxis": {
            "backgroundcolor": "#E5ECF6",
            "gridcolor": "white",
            "gridwidth": 2,
            "linecolor": "white",
            "showbackground": true,
            "ticks": "",
            "zerolinecolor": "white"
           },
           "yaxis": {
            "backgroundcolor": "#E5ECF6",
            "gridcolor": "white",
            "gridwidth": 2,
            "linecolor": "white",
            "showbackground": true,
            "ticks": "",
            "zerolinecolor": "white"
           },
           "zaxis": {
            "backgroundcolor": "#E5ECF6",
            "gridcolor": "white",
            "gridwidth": 2,
            "linecolor": "white",
            "showbackground": true,
            "ticks": "",
            "zerolinecolor": "white"
           }
          },
          "shapedefaults": {
           "line": {
            "color": "#2a3f5f"
           }
          },
          "ternary": {
           "aaxis": {
            "gridcolor": "white",
            "linecolor": "white",
            "ticks": ""
           },
           "baxis": {
            "gridcolor": "white",
            "linecolor": "white",
            "ticks": ""
           },
           "bgcolor": "#E5ECF6",
           "caxis": {
            "gridcolor": "white",
            "linecolor": "white",
            "ticks": ""
           }
          },
          "title": {
           "x": 0.05
          },
          "xaxis": {
           "automargin": true,
           "gridcolor": "white",
           "linecolor": "white",
           "ticks": "",
           "title": {
            "standoff": 15
           },
           "zerolinecolor": "white",
           "zerolinewidth": 2
          },
          "yaxis": {
           "automargin": true,
           "gridcolor": "white",
           "linecolor": "white",
           "ticks": "",
           "title": {
            "standoff": 15
           },
           "zerolinecolor": "white",
           "zerolinewidth": 2
          }
         }
        },
        "title": {
         "text": "Comparising the test and predicted points"
        },
        "width": 1000
       }
      }
     },
     "metadata": {},
     "output_type": "display_data"
    }
   ],
   "source": [
    "# Meshgrid for plotting the regression surface\n",
    "x0_range = np.linspace(X[:, 0].min(), X[:, 0].max(), 30)\n",
    "x1_range = np.linspace(X[:, 1].min(), X[:, 1].max(), 30)\n",
    "x0_grid, x1_grid = np.meshgrid(x0_range, x1_range)\n",
    "xy_grid = np.c_[x0_grid.ravel(), x1_grid.ravel()]\n",
    "y_grid = model.predict(xy_grid).reshape(x0_grid.shape)\n",
    "\n",
    "fig = go.Figure()\n",
    "\n",
    "fig.add_trace(go.Scatter3d(\n",
    "    x = X_test[:, 0], y = X_test[:, 1], z = y_test, mode = 'markers', marker = dict(size = 5, color = 'green'), \n",
    "    name = 'Test Points'\n",
    "))\n",
    "\n",
    "fig.add_trace(go.Scatter3d(\n",
    "    x = X_test[:, 0], y = X_test[:, 1], z = y_pred, mode = 'markers', marker = dict(size = 5, color = 'red'),\n",
    "    name = 'Predicted Test Points'\n",
    "))\n",
    "\n",
    "fig.add_trace(go.Surface(\n",
    "    x = x0_grid, y = x1_grid, z = y_grid, colorscale = 'viridis',opacity = 0.6, showscale = False,\n",
    "    name = 'Regression Plane'\n",
    "))\n",
    "\n",
    "\n",
    "fig.update_layout( scene = dict(xaxis_title = 'TV', yaxis_title = 'Radio', zaxis_title = 'Sales'),\n",
    "    title = 'Comparising the test and predicted points',\n",
    "    width = 1000,\n",
    "    height = 700\n",
    ")\n",
    "\n",
    "fig.show()"
   ]
  },
  {
   "cell_type": "code",
   "execution_count": 26,
   "id": "8288d88c-c638-4bd2-86e5-ac90e9c70fef",
   "metadata": {},
   "outputs": [],
   "source": [
    "model_2 = LinearRegression()"
   ]
  },
  {
   "cell_type": "code",
   "execution_count": 27,
   "id": "265f54a3-6135-4cd0-b0b8-0327e221192a",
   "metadata": {},
   "outputs": [
    {
     "data": {
      "text/html": [
       "<style>#sk-container-id-2 {\n",
       "  /* Definition of color scheme common for light and dark mode */\n",
       "  --sklearn-color-text: #000;\n",
       "  --sklearn-color-text-muted: #666;\n",
       "  --sklearn-color-line: gray;\n",
       "  /* Definition of color scheme for unfitted estimators */\n",
       "  --sklearn-color-unfitted-level-0: #fff5e6;\n",
       "  --sklearn-color-unfitted-level-1: #f6e4d2;\n",
       "  --sklearn-color-unfitted-level-2: #ffe0b3;\n",
       "  --sklearn-color-unfitted-level-3: chocolate;\n",
       "  /* Definition of color scheme for fitted estimators */\n",
       "  --sklearn-color-fitted-level-0: #f0f8ff;\n",
       "  --sklearn-color-fitted-level-1: #d4ebff;\n",
       "  --sklearn-color-fitted-level-2: #b3dbfd;\n",
       "  --sklearn-color-fitted-level-3: cornflowerblue;\n",
       "\n",
       "  /* Specific color for light theme */\n",
       "  --sklearn-color-text-on-default-background: var(--sg-text-color, var(--theme-code-foreground, var(--jp-content-font-color1, black)));\n",
       "  --sklearn-color-background: var(--sg-background-color, var(--theme-background, var(--jp-layout-color0, white)));\n",
       "  --sklearn-color-border-box: var(--sg-text-color, var(--theme-code-foreground, var(--jp-content-font-color1, black)));\n",
       "  --sklearn-color-icon: #696969;\n",
       "\n",
       "  @media (prefers-color-scheme: dark) {\n",
       "    /* Redefinition of color scheme for dark theme */\n",
       "    --sklearn-color-text-on-default-background: var(--sg-text-color, var(--theme-code-foreground, var(--jp-content-font-color1, white)));\n",
       "    --sklearn-color-background: var(--sg-background-color, var(--theme-background, var(--jp-layout-color0, #111)));\n",
       "    --sklearn-color-border-box: var(--sg-text-color, var(--theme-code-foreground, var(--jp-content-font-color1, white)));\n",
       "    --sklearn-color-icon: #878787;\n",
       "  }\n",
       "}\n",
       "\n",
       "#sk-container-id-2 {\n",
       "  color: var(--sklearn-color-text);\n",
       "}\n",
       "\n",
       "#sk-container-id-2 pre {\n",
       "  padding: 0;\n",
       "}\n",
       "\n",
       "#sk-container-id-2 input.sk-hidden--visually {\n",
       "  border: 0;\n",
       "  clip: rect(1px 1px 1px 1px);\n",
       "  clip: rect(1px, 1px, 1px, 1px);\n",
       "  height: 1px;\n",
       "  margin: -1px;\n",
       "  overflow: hidden;\n",
       "  padding: 0;\n",
       "  position: absolute;\n",
       "  width: 1px;\n",
       "}\n",
       "\n",
       "#sk-container-id-2 div.sk-dashed-wrapped {\n",
       "  border: 1px dashed var(--sklearn-color-line);\n",
       "  margin: 0 0.4em 0.5em 0.4em;\n",
       "  box-sizing: border-box;\n",
       "  padding-bottom: 0.4em;\n",
       "  background-color: var(--sklearn-color-background);\n",
       "}\n",
       "\n",
       "#sk-container-id-2 div.sk-container {\n",
       "  /* jupyter's `normalize.less` sets `[hidden] { display: none; }`\n",
       "     but bootstrap.min.css set `[hidden] { display: none !important; }`\n",
       "     so we also need the `!important` here to be able to override the\n",
       "     default hidden behavior on the sphinx rendered scikit-learn.org.\n",
       "     See: https://github.com/scikit-learn/scikit-learn/issues/21755 */\n",
       "  display: inline-block !important;\n",
       "  position: relative;\n",
       "}\n",
       "\n",
       "#sk-container-id-2 div.sk-text-repr-fallback {\n",
       "  display: none;\n",
       "}\n",
       "\n",
       "div.sk-parallel-item,\n",
       "div.sk-serial,\n",
       "div.sk-item {\n",
       "  /* draw centered vertical line to link estimators */\n",
       "  background-image: linear-gradient(var(--sklearn-color-text-on-default-background), var(--sklearn-color-text-on-default-background));\n",
       "  background-size: 2px 100%;\n",
       "  background-repeat: no-repeat;\n",
       "  background-position: center center;\n",
       "}\n",
       "\n",
       "/* Parallel-specific style estimator block */\n",
       "\n",
       "#sk-container-id-2 div.sk-parallel-item::after {\n",
       "  content: \"\";\n",
       "  width: 100%;\n",
       "  border-bottom: 2px solid var(--sklearn-color-text-on-default-background);\n",
       "  flex-grow: 1;\n",
       "}\n",
       "\n",
       "#sk-container-id-2 div.sk-parallel {\n",
       "  display: flex;\n",
       "  align-items: stretch;\n",
       "  justify-content: center;\n",
       "  background-color: var(--sklearn-color-background);\n",
       "  position: relative;\n",
       "}\n",
       "\n",
       "#sk-container-id-2 div.sk-parallel-item {\n",
       "  display: flex;\n",
       "  flex-direction: column;\n",
       "}\n",
       "\n",
       "#sk-container-id-2 div.sk-parallel-item:first-child::after {\n",
       "  align-self: flex-end;\n",
       "  width: 50%;\n",
       "}\n",
       "\n",
       "#sk-container-id-2 div.sk-parallel-item:last-child::after {\n",
       "  align-self: flex-start;\n",
       "  width: 50%;\n",
       "}\n",
       "\n",
       "#sk-container-id-2 div.sk-parallel-item:only-child::after {\n",
       "  width: 0;\n",
       "}\n",
       "\n",
       "/* Serial-specific style estimator block */\n",
       "\n",
       "#sk-container-id-2 div.sk-serial {\n",
       "  display: flex;\n",
       "  flex-direction: column;\n",
       "  align-items: center;\n",
       "  background-color: var(--sklearn-color-background);\n",
       "  padding-right: 1em;\n",
       "  padding-left: 1em;\n",
       "}\n",
       "\n",
       "\n",
       "/* Toggleable style: style used for estimator/Pipeline/ColumnTransformer box that is\n",
       "clickable and can be expanded/collapsed.\n",
       "- Pipeline and ColumnTransformer use this feature and define the default style\n",
       "- Estimators will overwrite some part of the style using the `sk-estimator` class\n",
       "*/\n",
       "\n",
       "/* Pipeline and ColumnTransformer style (default) */\n",
       "\n",
       "#sk-container-id-2 div.sk-toggleable {\n",
       "  /* Default theme specific background. It is overwritten whether we have a\n",
       "  specific estimator or a Pipeline/ColumnTransformer */\n",
       "  background-color: var(--sklearn-color-background);\n",
       "}\n",
       "\n",
       "/* Toggleable label */\n",
       "#sk-container-id-2 label.sk-toggleable__label {\n",
       "  cursor: pointer;\n",
       "  display: flex;\n",
       "  width: 100%;\n",
       "  margin-bottom: 0;\n",
       "  padding: 0.5em;\n",
       "  box-sizing: border-box;\n",
       "  text-align: center;\n",
       "  align-items: start;\n",
       "  justify-content: space-between;\n",
       "  gap: 0.5em;\n",
       "}\n",
       "\n",
       "#sk-container-id-2 label.sk-toggleable__label .caption {\n",
       "  font-size: 0.6rem;\n",
       "  font-weight: lighter;\n",
       "  color: var(--sklearn-color-text-muted);\n",
       "}\n",
       "\n",
       "#sk-container-id-2 label.sk-toggleable__label-arrow:before {\n",
       "  /* Arrow on the left of the label */\n",
       "  content: \"▸\";\n",
       "  float: left;\n",
       "  margin-right: 0.25em;\n",
       "  color: var(--sklearn-color-icon);\n",
       "}\n",
       "\n",
       "#sk-container-id-2 label.sk-toggleable__label-arrow:hover:before {\n",
       "  color: var(--sklearn-color-text);\n",
       "}\n",
       "\n",
       "/* Toggleable content - dropdown */\n",
       "\n",
       "#sk-container-id-2 div.sk-toggleable__content {\n",
       "  display: none;\n",
       "  text-align: left;\n",
       "  /* unfitted */\n",
       "  background-color: var(--sklearn-color-unfitted-level-0);\n",
       "}\n",
       "\n",
       "#sk-container-id-2 div.sk-toggleable__content.fitted {\n",
       "  /* fitted */\n",
       "  background-color: var(--sklearn-color-fitted-level-0);\n",
       "}\n",
       "\n",
       "#sk-container-id-2 div.sk-toggleable__content pre {\n",
       "  margin: 0.2em;\n",
       "  border-radius: 0.25em;\n",
       "  color: var(--sklearn-color-text);\n",
       "  /* unfitted */\n",
       "  background-color: var(--sklearn-color-unfitted-level-0);\n",
       "}\n",
       "\n",
       "#sk-container-id-2 div.sk-toggleable__content.fitted pre {\n",
       "  /* unfitted */\n",
       "  background-color: var(--sklearn-color-fitted-level-0);\n",
       "}\n",
       "\n",
       "#sk-container-id-2 input.sk-toggleable__control:checked~div.sk-toggleable__content {\n",
       "  /* Expand drop-down */\n",
       "  display: block;\n",
       "  width: 100%;\n",
       "  overflow: visible;\n",
       "}\n",
       "\n",
       "#sk-container-id-2 input.sk-toggleable__control:checked~label.sk-toggleable__label-arrow:before {\n",
       "  content: \"▾\";\n",
       "}\n",
       "\n",
       "/* Pipeline/ColumnTransformer-specific style */\n",
       "\n",
       "#sk-container-id-2 div.sk-label input.sk-toggleable__control:checked~label.sk-toggleable__label {\n",
       "  color: var(--sklearn-color-text);\n",
       "  background-color: var(--sklearn-color-unfitted-level-2);\n",
       "}\n",
       "\n",
       "#sk-container-id-2 div.sk-label.fitted input.sk-toggleable__control:checked~label.sk-toggleable__label {\n",
       "  background-color: var(--sklearn-color-fitted-level-2);\n",
       "}\n",
       "\n",
       "/* Estimator-specific style */\n",
       "\n",
       "/* Colorize estimator box */\n",
       "#sk-container-id-2 div.sk-estimator input.sk-toggleable__control:checked~label.sk-toggleable__label {\n",
       "  /* unfitted */\n",
       "  background-color: var(--sklearn-color-unfitted-level-2);\n",
       "}\n",
       "\n",
       "#sk-container-id-2 div.sk-estimator.fitted input.sk-toggleable__control:checked~label.sk-toggleable__label {\n",
       "  /* fitted */\n",
       "  background-color: var(--sklearn-color-fitted-level-2);\n",
       "}\n",
       "\n",
       "#sk-container-id-2 div.sk-label label.sk-toggleable__label,\n",
       "#sk-container-id-2 div.sk-label label {\n",
       "  /* The background is the default theme color */\n",
       "  color: var(--sklearn-color-text-on-default-background);\n",
       "}\n",
       "\n",
       "/* On hover, darken the color of the background */\n",
       "#sk-container-id-2 div.sk-label:hover label.sk-toggleable__label {\n",
       "  color: var(--sklearn-color-text);\n",
       "  background-color: var(--sklearn-color-unfitted-level-2);\n",
       "}\n",
       "\n",
       "/* Label box, darken color on hover, fitted */\n",
       "#sk-container-id-2 div.sk-label.fitted:hover label.sk-toggleable__label.fitted {\n",
       "  color: var(--sklearn-color-text);\n",
       "  background-color: var(--sklearn-color-fitted-level-2);\n",
       "}\n",
       "\n",
       "/* Estimator label */\n",
       "\n",
       "#sk-container-id-2 div.sk-label label {\n",
       "  font-family: monospace;\n",
       "  font-weight: bold;\n",
       "  display: inline-block;\n",
       "  line-height: 1.2em;\n",
       "}\n",
       "\n",
       "#sk-container-id-2 div.sk-label-container {\n",
       "  text-align: center;\n",
       "}\n",
       "\n",
       "/* Estimator-specific */\n",
       "#sk-container-id-2 div.sk-estimator {\n",
       "  font-family: monospace;\n",
       "  border: 1px dotted var(--sklearn-color-border-box);\n",
       "  border-radius: 0.25em;\n",
       "  box-sizing: border-box;\n",
       "  margin-bottom: 0.5em;\n",
       "  /* unfitted */\n",
       "  background-color: var(--sklearn-color-unfitted-level-0);\n",
       "}\n",
       "\n",
       "#sk-container-id-2 div.sk-estimator.fitted {\n",
       "  /* fitted */\n",
       "  background-color: var(--sklearn-color-fitted-level-0);\n",
       "}\n",
       "\n",
       "/* on hover */\n",
       "#sk-container-id-2 div.sk-estimator:hover {\n",
       "  /* unfitted */\n",
       "  background-color: var(--sklearn-color-unfitted-level-2);\n",
       "}\n",
       "\n",
       "#sk-container-id-2 div.sk-estimator.fitted:hover {\n",
       "  /* fitted */\n",
       "  background-color: var(--sklearn-color-fitted-level-2);\n",
       "}\n",
       "\n",
       "/* Specification for estimator info (e.g. \"i\" and \"?\") */\n",
       "\n",
       "/* Common style for \"i\" and \"?\" */\n",
       "\n",
       ".sk-estimator-doc-link,\n",
       "a:link.sk-estimator-doc-link,\n",
       "a:visited.sk-estimator-doc-link {\n",
       "  float: right;\n",
       "  font-size: smaller;\n",
       "  line-height: 1em;\n",
       "  font-family: monospace;\n",
       "  background-color: var(--sklearn-color-background);\n",
       "  border-radius: 1em;\n",
       "  height: 1em;\n",
       "  width: 1em;\n",
       "  text-decoration: none !important;\n",
       "  margin-left: 0.5em;\n",
       "  text-align: center;\n",
       "  /* unfitted */\n",
       "  border: var(--sklearn-color-unfitted-level-1) 1pt solid;\n",
       "  color: var(--sklearn-color-unfitted-level-1);\n",
       "}\n",
       "\n",
       ".sk-estimator-doc-link.fitted,\n",
       "a:link.sk-estimator-doc-link.fitted,\n",
       "a:visited.sk-estimator-doc-link.fitted {\n",
       "  /* fitted */\n",
       "  border: var(--sklearn-color-fitted-level-1) 1pt solid;\n",
       "  color: var(--sklearn-color-fitted-level-1);\n",
       "}\n",
       "\n",
       "/* On hover */\n",
       "div.sk-estimator:hover .sk-estimator-doc-link:hover,\n",
       ".sk-estimator-doc-link:hover,\n",
       "div.sk-label-container:hover .sk-estimator-doc-link:hover,\n",
       ".sk-estimator-doc-link:hover {\n",
       "  /* unfitted */\n",
       "  background-color: var(--sklearn-color-unfitted-level-3);\n",
       "  color: var(--sklearn-color-background);\n",
       "  text-decoration: none;\n",
       "}\n",
       "\n",
       "div.sk-estimator.fitted:hover .sk-estimator-doc-link.fitted:hover,\n",
       ".sk-estimator-doc-link.fitted:hover,\n",
       "div.sk-label-container:hover .sk-estimator-doc-link.fitted:hover,\n",
       ".sk-estimator-doc-link.fitted:hover {\n",
       "  /* fitted */\n",
       "  background-color: var(--sklearn-color-fitted-level-3);\n",
       "  color: var(--sklearn-color-background);\n",
       "  text-decoration: none;\n",
       "}\n",
       "\n",
       "/* Span, style for the box shown on hovering the info icon */\n",
       ".sk-estimator-doc-link span {\n",
       "  display: none;\n",
       "  z-index: 9999;\n",
       "  position: relative;\n",
       "  font-weight: normal;\n",
       "  right: .2ex;\n",
       "  padding: .5ex;\n",
       "  margin: .5ex;\n",
       "  width: min-content;\n",
       "  min-width: 20ex;\n",
       "  max-width: 50ex;\n",
       "  color: var(--sklearn-color-text);\n",
       "  box-shadow: 2pt 2pt 4pt #999;\n",
       "  /* unfitted */\n",
       "  background: var(--sklearn-color-unfitted-level-0);\n",
       "  border: .5pt solid var(--sklearn-color-unfitted-level-3);\n",
       "}\n",
       "\n",
       ".sk-estimator-doc-link.fitted span {\n",
       "  /* fitted */\n",
       "  background: var(--sklearn-color-fitted-level-0);\n",
       "  border: var(--sklearn-color-fitted-level-3);\n",
       "}\n",
       "\n",
       ".sk-estimator-doc-link:hover span {\n",
       "  display: block;\n",
       "}\n",
       "\n",
       "/* \"?\"-specific style due to the `<a>` HTML tag */\n",
       "\n",
       "#sk-container-id-2 a.estimator_doc_link {\n",
       "  float: right;\n",
       "  font-size: 1rem;\n",
       "  line-height: 1em;\n",
       "  font-family: monospace;\n",
       "  background-color: var(--sklearn-color-background);\n",
       "  border-radius: 1rem;\n",
       "  height: 1rem;\n",
       "  width: 1rem;\n",
       "  text-decoration: none;\n",
       "  /* unfitted */\n",
       "  color: var(--sklearn-color-unfitted-level-1);\n",
       "  border: var(--sklearn-color-unfitted-level-1) 1pt solid;\n",
       "}\n",
       "\n",
       "#sk-container-id-2 a.estimator_doc_link.fitted {\n",
       "  /* fitted */\n",
       "  border: var(--sklearn-color-fitted-level-1) 1pt solid;\n",
       "  color: var(--sklearn-color-fitted-level-1);\n",
       "}\n",
       "\n",
       "/* On hover */\n",
       "#sk-container-id-2 a.estimator_doc_link:hover {\n",
       "  /* unfitted */\n",
       "  background-color: var(--sklearn-color-unfitted-level-3);\n",
       "  color: var(--sklearn-color-background);\n",
       "  text-decoration: none;\n",
       "}\n",
       "\n",
       "#sk-container-id-2 a.estimator_doc_link.fitted:hover {\n",
       "  /* fitted */\n",
       "  background-color: var(--sklearn-color-fitted-level-3);\n",
       "}\n",
       "\n",
       ".estimator-table summary {\n",
       "    padding: .5rem;\n",
       "    font-family: monospace;\n",
       "    cursor: pointer;\n",
       "}\n",
       "\n",
       ".estimator-table details[open] {\n",
       "    padding-left: 0.1rem;\n",
       "    padding-right: 0.1rem;\n",
       "    padding-bottom: 0.3rem;\n",
       "}\n",
       "\n",
       ".estimator-table .parameters-table {\n",
       "    margin-left: auto !important;\n",
       "    margin-right: auto !important;\n",
       "}\n",
       "\n",
       ".estimator-table .parameters-table tr:nth-child(odd) {\n",
       "    background-color: #fff;\n",
       "}\n",
       "\n",
       ".estimator-table .parameters-table tr:nth-child(even) {\n",
       "    background-color: #f6f6f6;\n",
       "}\n",
       "\n",
       ".estimator-table .parameters-table tr:hover {\n",
       "    background-color: #e0e0e0;\n",
       "}\n",
       "\n",
       ".estimator-table table td {\n",
       "    border: 1px solid rgba(106, 105, 104, 0.232);\n",
       "}\n",
       "\n",
       ".user-set td {\n",
       "    color:rgb(255, 94, 0);\n",
       "    text-align: left;\n",
       "}\n",
       "\n",
       ".user-set td.value pre {\n",
       "    color:rgb(255, 94, 0) !important;\n",
       "    background-color: transparent !important;\n",
       "}\n",
       "\n",
       ".default td {\n",
       "    color: black;\n",
       "    text-align: left;\n",
       "}\n",
       "\n",
       ".user-set td i,\n",
       ".default td i {\n",
       "    color: black;\n",
       "}\n",
       "\n",
       ".copy-paste-icon {\n",
       "    background-image: url(data:image/svg+xml;base64,PHN2ZyB4bWxucz0iaHR0cDovL3d3dy53My5vcmcvMjAwMC9zdmciIHZpZXdCb3g9IjAgMCA0NDggNTEyIj48IS0tIUZvbnQgQXdlc29tZSBGcmVlIDYuNy4yIGJ5IEBmb250YXdlc29tZSAtIGh0dHBzOi8vZm9udGF3ZXNvbWUuY29tIExpY2Vuc2UgLSBodHRwczovL2ZvbnRhd2Vzb21lLmNvbS9saWNlbnNlL2ZyZWUgQ29weXJpZ2h0IDIwMjUgRm9udGljb25zLCBJbmMuLS0+PHBhdGggZD0iTTIwOCAwTDMzMi4xIDBjMTIuNyAwIDI0LjkgNS4xIDMzLjkgMTQuMWw2Ny45IDY3LjljOSA5IDE0LjEgMjEuMiAxNC4xIDMzLjlMNDQ4IDMzNmMwIDI2LjUtMjEuNSA0OC00OCA0OGwtMTkyIDBjLTI2LjUgMC00OC0yMS41LTQ4LTQ4bDAtMjg4YzAtMjYuNSAyMS41LTQ4IDQ4LTQ4ek00OCAxMjhsODAgMCAwIDY0LTY0IDAgMCAyNTYgMTkyIDAgMC0zMiA2NCAwIDAgNDhjMCAyNi41LTIxLjUgNDgtNDggNDhMNDggNTEyYy0yNi41IDAtNDgtMjEuNS00OC00OEwwIDE3NmMwLTI2LjUgMjEuNS00OCA0OC00OHoiLz48L3N2Zz4=);\n",
       "    background-repeat: no-repeat;\n",
       "    background-size: 14px 14px;\n",
       "    background-position: 0;\n",
       "    display: inline-block;\n",
       "    width: 14px;\n",
       "    height: 14px;\n",
       "    cursor: pointer;\n",
       "}\n",
       "</style><body><div id=\"sk-container-id-2\" class=\"sk-top-container\"><div class=\"sk-text-repr-fallback\"><pre>LinearRegression()</pre><b>In a Jupyter environment, please rerun this cell to show the HTML representation or trust the notebook. <br />On GitHub, the HTML representation is unable to render, please try loading this page with nbviewer.org.</b></div><div class=\"sk-container\" hidden><div class=\"sk-item\"><div class=\"sk-estimator fitted sk-toggleable\"><input class=\"sk-toggleable__control sk-hidden--visually\" id=\"sk-estimator-id-2\" type=\"checkbox\" checked><label for=\"sk-estimator-id-2\" class=\"sk-toggleable__label fitted sk-toggleable__label-arrow\"><div><div>LinearRegression</div></div><div><a class=\"sk-estimator-doc-link fitted\" rel=\"noreferrer\" target=\"_blank\" href=\"https://scikit-learn.org/1.7/modules/generated/sklearn.linear_model.LinearRegression.html\">?<span>Documentation for LinearRegression</span></a><span class=\"sk-estimator-doc-link fitted\">i<span>Fitted</span></span></div></label><div class=\"sk-toggleable__content fitted\" data-param-prefix=\"\">\n",
       "        <div class=\"estimator-table\">\n",
       "            <details>\n",
       "                <summary>Parameters</summary>\n",
       "                <table class=\"parameters-table\">\n",
       "                  <tbody>\n",
       "                    \n",
       "        <tr class=\"default\">\n",
       "            <td><i class=\"copy-paste-icon\"\n",
       "                 onclick=\"copyToClipboard('fit_intercept',\n",
       "                          this.parentElement.nextElementSibling)\"\n",
       "            ></i></td>\n",
       "            <td class=\"param\">fit_intercept&nbsp;</td>\n",
       "            <td class=\"value\">True</td>\n",
       "        </tr>\n",
       "    \n",
       "\n",
       "        <tr class=\"default\">\n",
       "            <td><i class=\"copy-paste-icon\"\n",
       "                 onclick=\"copyToClipboard('copy_X',\n",
       "                          this.parentElement.nextElementSibling)\"\n",
       "            ></i></td>\n",
       "            <td class=\"param\">copy_X&nbsp;</td>\n",
       "            <td class=\"value\">True</td>\n",
       "        </tr>\n",
       "    \n",
       "\n",
       "        <tr class=\"default\">\n",
       "            <td><i class=\"copy-paste-icon\"\n",
       "                 onclick=\"copyToClipboard('tol',\n",
       "                          this.parentElement.nextElementSibling)\"\n",
       "            ></i></td>\n",
       "            <td class=\"param\">tol&nbsp;</td>\n",
       "            <td class=\"value\">1e-06</td>\n",
       "        </tr>\n",
       "    \n",
       "\n",
       "        <tr class=\"default\">\n",
       "            <td><i class=\"copy-paste-icon\"\n",
       "                 onclick=\"copyToClipboard('n_jobs',\n",
       "                          this.parentElement.nextElementSibling)\"\n",
       "            ></i></td>\n",
       "            <td class=\"param\">n_jobs&nbsp;</td>\n",
       "            <td class=\"value\">None</td>\n",
       "        </tr>\n",
       "    \n",
       "\n",
       "        <tr class=\"default\">\n",
       "            <td><i class=\"copy-paste-icon\"\n",
       "                 onclick=\"copyToClipboard('positive',\n",
       "                          this.parentElement.nextElementSibling)\"\n",
       "            ></i></td>\n",
       "            <td class=\"param\">positive&nbsp;</td>\n",
       "            <td class=\"value\">False</td>\n",
       "        </tr>\n",
       "    \n",
       "                  </tbody>\n",
       "                </table>\n",
       "            </details>\n",
       "        </div>\n",
       "    </div></div></div></div></div><script>function copyToClipboard(text, element) {\n",
       "    // Get the parameter prefix from the closest toggleable content\n",
       "    const toggleableContent = element.closest('.sk-toggleable__content');\n",
       "    const paramPrefix = toggleableContent ? toggleableContent.dataset.paramPrefix : '';\n",
       "    const fullParamName = paramPrefix ? `${paramPrefix}${text}` : text;\n",
       "\n",
       "    const originalStyle = element.style;\n",
       "    const computedStyle = window.getComputedStyle(element);\n",
       "    const originalWidth = computedStyle.width;\n",
       "    const originalHTML = element.innerHTML.replace('Copied!', '');\n",
       "\n",
       "    navigator.clipboard.writeText(fullParamName)\n",
       "        .then(() => {\n",
       "            element.style.width = originalWidth;\n",
       "            element.style.color = 'green';\n",
       "            element.innerHTML = \"Copied!\";\n",
       "\n",
       "            setTimeout(() => {\n",
       "                element.innerHTML = originalHTML;\n",
       "                element.style = originalStyle;\n",
       "            }, 2000);\n",
       "        })\n",
       "        .catch(err => {\n",
       "            console.error('Failed to copy:', err);\n",
       "            element.style.color = 'red';\n",
       "            element.innerHTML = \"Failed!\";\n",
       "            setTimeout(() => {\n",
       "                element.innerHTML = originalHTML;\n",
       "                element.style = originalStyle;\n",
       "            }, 2000);\n",
       "        });\n",
       "    return false;\n",
       "}\n",
       "\n",
       "document.querySelectorAll('.fa-regular.fa-copy').forEach(function(element) {\n",
       "    const toggleableContent = element.closest('.sk-toggleable__content');\n",
       "    const paramPrefix = toggleableContent ? toggleableContent.dataset.paramPrefix : '';\n",
       "    const paramName = element.parentElement.nextElementSibling.textContent.trim();\n",
       "    const fullParamName = paramPrefix ? `${paramPrefix}${paramName}` : paramName;\n",
       "\n",
       "    element.setAttribute('title', fullParamName);\n",
       "});\n",
       "</script></body>"
      ],
      "text/plain": [
       "LinearRegression()"
      ]
     },
     "execution_count": 27,
     "metadata": {},
     "output_type": "execute_result"
    }
   ],
   "source": [
    "model_2.fit(X, Y)"
   ]
  },
  {
   "cell_type": "code",
   "execution_count": 28,
   "id": "f9870d80-5f95-4bd2-a845-837448729a92",
   "metadata": {},
   "outputs": [
    {
     "data": {
      "text/plain": [
       "(array([0.04575482, 0.18799423]), np.float64(2.9210999124051362))"
      ]
     },
     "execution_count": 28,
     "metadata": {},
     "output_type": "execute_result"
    }
   ],
   "source": [
    "model_2.coef_, model_2.intercept_"
   ]
  },
  {
   "cell_type": "code",
   "execution_count": 29,
   "id": "e7f5d679-18b7-4e2f-bbdc-47d848415fde",
   "metadata": {},
   "outputs": [
    {
     "data": {
      "text/plain": [
       "(array([0.0447283 , 0.19066726]), np.float64(3.0282552507833067))"
      ]
     },
     "execution_count": 29,
     "metadata": {},
     "output_type": "execute_result"
    }
   ],
   "source": [
    "model.coef_, model.intercept_"
   ]
  },
  {
   "cell_type": "code",
   "execution_count": 30,
   "id": "8b84e003-e062-44a8-bc4b-259c5d7763d9",
   "metadata": {},
   "outputs": [
    {
     "data": {
      "application/vnd.plotly.v1+json": {
       "config": {
        "plotlyServerURL": "https://plot.ly"
       },
       "data": [
        {
         "marker": {
          "color": "red",
          "size": 3
         },
         "mode": "markers",
         "name": "Data Points",
         "type": "scatter3d",
         "x": {
          "bdata": "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",
          "dtype": "f8"
         },
         "y": {
          "bdata": "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",
          "dtype": "f8"
         },
         "z": {
          "bdata": "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",
          "dtype": "f8"
         }
        },
        {
         "colorscale": [
          [
           0,
           "#440154"
          ],
          [
           0.1111111111111111,
           "#482878"
          ],
          [
           0.2222222222222222,
           "#3e4989"
          ],
          [
           0.3333333333333333,
           "#31688e"
          ],
          [
           0.4444444444444444,
           "#26828e"
          ],
          [
           0.5555555555555556,
           "#1f9e89"
          ],
          [
           0.6666666666666666,
           "#35b779"
          ],
          [
           0.7777777777777778,
           "#6ece58"
          ],
          [
           0.8888888888888888,
           "#b5de2b"
          ],
          [
           1,
           "#fde725"
          ]
         ],
         "name": "Regression Plane",
         "opacity": 0.5,
         "type": "surface",
         "x": {
          "bdata": "ZmZmZmZm5j+NsNzTCMslQFp9qaDVFzVAbaJk1yZKP0DB4w8HPL5EQEt2baJk10lA1AjLPY3wTkCvTZTs2gRSQPQWQzpvkVRAOeDxhwMeV0B+qaDVl6pZQMNyTyMsN1xABzz+cMDDXkCmglZfKqhgQEjnLYZ07mFA60sFrb40Y0CNsNzTCHtkQC8VtPpSwWVA0nmLIZ0HZ0B03mJI501oQBdDOm8xlGlAuacRlnvaakBcDOm8xSBsQP5wwOMPZ21AoNWXClqtbkBDOm8xpPNvQHNPIyz3nHBAxAGPPxxAcUAVtPpSQeNxQGZmZmZmhnJAZmZmZmZm5j+NsNzTCMslQFp9qaDVFzVAbaJk1yZKP0DB4w8HPL5EQEt2baJk10lA1AjLPY3wTkCvTZTs2gRSQPQWQzpvkVRAOeDxhwMeV0B+qaDVl6pZQMNyTyMsN1xABzz+cMDDXkCmglZfKqhgQEjnLYZ07mFA60sFrb40Y0CNsNzTCHtkQC8VtPpSwWVA0nmLIZ0HZ0B03mJI501oQBdDOm8xlGlAuacRlnvaakBcDOm8xSBsQP5wwOMPZ21AoNWXClqtbkBDOm8xpPNvQHNPIyz3nHBAxAGPPxxAcUAVtPpSQeNxQGZmZmZmhnJAZmZmZmZm5j+NsNzTCMslQFp9qaDVFzVAbaJk1yZKP0DB4w8HPL5EQEt2baJk10lA1AjLPY3wTkCvTZTs2gRSQPQWQzpvkVRAOeDxhwMeV0B+qaDVl6pZQMNyTyMsN1xABzz+cMDDXkCmglZfKqhgQEjnLYZ07mFA60sFrb40Y0CNsNzTCHtkQC8VtPpSwWVA0nmLIZ0HZ0B03mJI501oQBdDOm8xlGlAuacRlnvaakBcDOm8xSBsQP5wwOMPZ21AoNWXClqtbkBDOm8xpPNvQHNPIyz3nHBAxAGPPxxAcUAVtPpSQeNxQGZmZmZmhnJAZmZmZmZm5j+NsNzTCMslQFp9qaDVFzVAbaJk1yZKP0DB4w8HPL5EQEt2baJk10lA1AjLPY3wTkCvTZTs2gRSQPQWQzpvkVRAOeDxhwMeV0B+qaDVl6pZQMNyTyMsN1xABzz+cMDDXkCmglZfKqhgQEjnLYZ07mFA60sFrb40Y0CNsNzTCHtkQC8VtPpSwWVA0nmLIZ0HZ0B03mJI501oQBdDOm8xlGlAuacRlnvaakBcDOm8xSBsQP5wwOMPZ21AoNWXClqtbkBDOm8xpPNvQHNPIyz3nHBAxAGPPxxAcUAVtPpSQeNxQGZmZmZmhnJAZmZmZmZm5j+NsNzTCMslQFp9qaDVFzVAbaJk1yZKP0DB4w8HPL5EQEt2baJk10lA1AjLPY3wTkCvTZTs2gRSQPQWQzpvkVRAOeDxhwMeV0B+qaDVl6pZQMNyTyMsN1xABzz+cMDDXkCmglZfKqhgQEjnLYZ07mFA60sFrb40Y0CNsNzTCHtkQC8VtPpSwWVA0nmLIZ0HZ0B03mJI501oQBdDOm8xlGlAuacRlnvaakBcDOm8xSBsQP5wwOMPZ21AoNWXClqtbkBDOm8xpPNvQHNPIyz3nHBAxAGPPxxAcUAVtPpSQeNxQGZmZmZmhnJAZmZmZmZm5j+NsNzTCMslQFp9qaDVFzVAbaJk1yZKP0DB4w8HPL5EQEt2baJk10lA1AjLPY3wTkCvTZTs2gRSQPQWQzpvkVRAOeDxhwMeV0B+qaDVl6pZQMNyTyMsN1xABzz+cMDDXkCmglZfKqhgQEjnLYZ07mFA60sFrb40Y0CNsNzTCHtkQC8VtPpSwWVA0nmLIZ0HZ0B03mJI501oQBdDOm8xlGlAuacRlnvaakBcDOm8xSBsQP5wwOMPZ21AoNWXClqtbkBDOm8xpPNvQHNPIyz3nHBAxAGPPxxAcUAVtPpSQeNxQGZmZmZmhnJAZmZmZmZm5j+NsNzTCMslQFp9qaDVFzVAbaJk1yZKP0DB4w8HPL5EQEt2baJk10lA1AjLPY3wTkCvTZTs2gRSQPQWQzpvkVRAOeDxhwMeV0B+qaDVl6pZQMNyTyMsN1xABzz+cMDDXkCmglZfKqhgQEjnLYZ07mFA60sFrb40Y0CNsNzTCHtkQC8VtPpSwWVA0nmLIZ0HZ0B03mJI501oQBdDOm8xlGlAuacRlnvaakBcDOm8xSBsQP5wwOMPZ21AoNWXClqtbkBDOm8xpPNvQHNPIyz3nHBAxAGPPxxAcUAVtPpSQeNxQGZmZmZmhnJAZmZmZmZm5j+NsNzTCMslQFp9qaDVFzVAbaJk1yZKP0DB4w8HPL5EQEt2baJk10lA1AjLPY3wTkCvTZTs2gRSQPQWQzpvkVRAOeDxhwMeV0B+qaDVl6pZQMNyTyMsN1xABzz+cMDDXkCmglZfKqhgQEjnLYZ07mFA60sFrb40Y0CNsNzTCHtkQC8VtPpSwWVA0nmLIZ0HZ0B03mJI501oQBdDOm8xlGlAuacRlnvaakBcDOm8xSBsQP5wwOMPZ21AoNWXClqtbkBDOm8xpPNvQHNPIyz3nHBAxAGPPxxAcUAVtPpSQeNxQGZmZmZmhnJAZmZmZmZm5j+NsNzTCMslQFp9qaDVFzVAbaJk1yZKP0DB4w8HPL5EQEt2baJk10lA1AjLPY3wTkCvTZTs2gRSQPQWQzpvkVRAOeDxhwMeV0B+qaDVl6pZQMNyTyMsN1xABzz+cMDDXkCmglZfKqhgQEjnLYZ07mFA60sFrb40Y0CNsNzTCHtkQC8VtPpSwWVA0nmLIZ0HZ0B03mJI501oQBdDOm8xlGlAuacRlnvaakBcDOm8xSBsQP5wwOMPZ21AoNWXClqtbkBDOm8xpPNvQHNPIyz3nHBAxAGPPxxAcUAVtPpSQeNxQGZmZmZmhnJAZmZmZmZm5j+NsNzTCMslQFp9qaDVFzVAbaJk1yZKP0DB4w8HPL5EQEt2baJk10lA1AjLPY3wTkCvTZTs2gRSQPQWQzpvkVRAOeDxhwMeV0B+qaDVl6pZQMNyTyMsN1xABzz+cMDDXkCmglZfKqhgQEjnLYZ07mFA60sFrb40Y0CNsNzTCHtkQC8VtPpSwWVA0nmLIZ0HZ0B03mJI501oQBdDOm8xlGlAuacRlnvaakBcDOm8xSBsQP5wwOMPZ21AoNWXClqtbkBDOm8xpPNvQHNPIyz3nHBAxAGPPxxAcUAVtPpSQeNxQGZmZmZmhnJAZmZmZmZm5j+NsNzTCMslQFp9qaDVFzVAbaJk1yZKP0DB4w8HPL5EQEt2baJk10lA1AjLPY3wTkCvTZTs2gRSQPQWQzpvkVRAOeDxhwMeV0B+qaDVl6pZQMNyTyMsN1xABzz+cMDDXkCmglZfKqhgQEjnLYZ07mFA60sFrb40Y0CNsNzTCHtkQC8VtPpSwWVA0nmLIZ0HZ0B03mJI501oQBdDOm8xlGlAuacRlnvaakBcDOm8xSBsQP5wwOMPZ21AoNWXClqtbkBDOm8xpPNvQHNPIyz3nHBAxAGPPxxAcUAVtPpSQeNxQGZmZmZmhnJAZmZmZmZm5j+NsNzTCMslQFp9qaDVFzVAbaJk1yZKP0DB4w8HPL5EQEt2baJk10lA1AjLPY3wTkCvTZTs2gRSQPQWQzpvkVRAOeDxhwMeV0B+qaDVl6pZQMNyTyMsN1xABzz+cMDDXkCmglZfKqhgQEjnLYZ07mFA60sFrb40Y0CNsNzTCHtkQC8VtPpSwWVA0nmLIZ0HZ0B03mJI501oQBdDOm8xlGlAuacRlnvaakBcDOm8xSBsQP5wwOMPZ21AoNWXClqtbkBDOm8xpPNvQHNPIyz3nHBAxAGPPxxAcUAVtPpSQeNxQGZmZmZmhnJAZmZmZmZm5j+NsNzTCMslQFp9qaDVFzVAbaJk1yZKP0DB4w8HPL5EQEt2baJk10lA1AjLPY3wTkCvTZTs2gRSQPQWQzpvkVRAOeDxhwMeV0B+qaDVl6pZQMNyTyMsN1xABzz+cMDDXkCmglZfKqhgQEjnLYZ07mFA60sFrb40Y0CNsNzTCHtkQC8VtPpSwWVA0nmLIZ0HZ0B03mJI501oQBdDOm8xlGlAuacRlnvaakBcDOm8xSBsQP5wwOMPZ21AoNWXClqtbkBDOm8xpPNvQHNPIyz3nHBAxAGPPxxAcUAVtPpSQeNxQGZmZmZmhnJAZmZmZmZm5j+NsNzTCMslQFp9qaDVFzVAbaJk1yZKP0DB4w8HPL5EQEt2baJk10lA1AjLPY3wTkCvTZTs2gRSQPQWQzpvkVRAOeDxhwMeV0B+qaDVl6pZQMNyTyMsN1xABzz+cMDDXkCmglZfKqhgQEjnLYZ07mFA60sFrb40Y0CNsNzTCHtkQC8VtPpSwWVA0nmLIZ0HZ0B03mJI501oQBdDOm8xlGlAuacRlnvaakBcDOm8xSBsQP5wwOMPZ21AoNWXClqtbkBDOm8xpPNvQHNPIyz3nHBAxAGPPxxAcUAVtPpSQeNxQGZmZmZmhnJAZmZmZmZm5j+NsNzTCMslQFp9qaDVFzVAbaJk1yZKP0DB4w8HPL5EQEt2baJk10lA1AjLPY3wTkCvTZTs2gRSQPQWQzpvkVRAOeDxhwMeV0B+qaDVl6pZQMNyTyMsN1xABzz+cMDDXkCmglZfKqhgQEjnLYZ07mFA60sFrb40Y0CNsNzTCHtkQC8VtPpSwWVA0nmLIZ0HZ0B03mJI501oQBdDOm8xlGlAuacRlnvaakBcDOm8xSBsQP5wwOMPZ21AoNWXClqtbkBDOm8xpPNvQHNPIyz3nHBAxAGPPxxAcUAVtPpSQeNxQGZmZmZmhnJAZmZmZmZm5j+NsNzTCMslQFp9qaDVFzVAbaJk1yZKP0DB4w8HPL5EQEt2baJk10lA1AjLPY3wTkCvTZTs2gRSQPQWQzpvkVRAOeDxhwMeV0B+qaDVl6pZQMNyTyMsN1xABzz+cMDDXkCmglZfKqhgQEjnLYZ07mFA60sFrb40Y0CNsNzTCHtkQC8VtPpSwWVA0nmLIZ0HZ0B03mJI501oQBdDOm8xlGlAuacRlnvaakBcDOm8xSBsQP5wwOMPZ21AoNWXClqtbkBDOm8xpPNvQHNPIyz3nHBAxAGPPxxAcUAVtPpSQeNxQGZmZmZmhnJAZmZmZmZm5j+NsNzTCMslQFp9qaDVFzVAbaJk1yZKP0DB4w8HPL5EQEt2baJk10lA1AjLPY3wTkCvTZTs2gRSQPQWQzpvkVRAOeDxhwMeV0B+qaDVl6pZQMNyTyMsN1xABzz+cMDDXkCmglZfKqhgQEjnLYZ07mFA60sFrb40Y0CNsNzTCHtkQC8VtPpSwWVA0nmLIZ0HZ0B03mJI501oQBdDOm8xlGlAuacRlnvaakBcDOm8xSBsQP5wwOMPZ21AoNWXClqtbkBDOm8xpPNvQHNPIyz3nHBAxAGPPxxAcUAVtPpSQeNxQGZmZmZmhnJAZmZmZmZm5j+NsNzTCMslQFp9qaDVFzVAbaJk1yZKP0DB4w8HPL5EQEt2baJk10lA1AjLPY3wTkCvTZTs2gRSQPQWQzpvkVRAOeDxhwMeV0B+qaDVl6pZQMNyTyMsN1xABzz+cMDDXkCmglZfKqhgQEjnLYZ07mFA60sFrb40Y0CNsNzTCHtkQC8VtPpSwWVA0nmLIZ0HZ0B03mJI501oQBdDOm8xlGlAuacRlnvaakBcDOm8xSBsQP5wwOMPZ21AoNWXClqtbkBDOm8xpPNvQHNPIyz3nHBAxAGPPxxAcUAVtPpSQeNxQGZmZmZmhnJAZmZmZmZm5j+NsNzTCMslQFp9qaDVFzVAbaJk1yZKP0DB4w8HPL5EQEt2baJk10lA1AjLPY3wTkCvTZTs2gRSQPQWQzpvkVRAOeDxhwMeV0B+qaDVl6pZQMNyTyMsN1xABzz+cMDDXkCmglZfKqhgQEjnLYZ07mFA60sFrb40Y0CNsNzTCHtkQC8VtPpSwWVA0nmLIZ0HZ0B03mJI501oQBdDOm8xlGlAuacRlnvaakBcDOm8xSBsQP5wwOMPZ21AoNWXClqtbkBDOm8xpPNvQHNPIyz3nHBAxAGPPxxAcUAVtPpSQeNxQGZmZmZmhnJAZmZmZmZm5j+NsNzTCMslQFp9qaDVFzVAbaJk1yZKP0DB4w8HPL5EQEt2baJk10lA1AjLPY3wTkCvTZTs2gRSQPQWQzpvkVRAOeDxhwMeV0B+qaDVl6pZQMNyTyMsN1xABzz+cMDDXkCmglZfKqhgQEjnLYZ07mFA60sFrb40Y0CNsNzTCHtkQC8VtPpSwWVA0nmLIZ0HZ0B03mJI501oQBdDOm8xlGlAuacRlnvaakBcDOm8xSBsQP5wwOMPZ21AoNWXClqtbkBDOm8xpPNvQHNPIyz3nHBAxAGPPxxAcUAVtPpSQeNxQGZmZmZmhnJAZmZmZmZm5j+NsNzTCMslQFp9qaDVFzVAbaJk1yZKP0DB4w8HPL5EQEt2baJk10lA1AjLPY3wTkCvTZTs2gRSQPQWQzpvkVRAOeDxhwMeV0B+qaDVl6pZQMNyTyMsN1xABzz+cMDDXkCmglZfKqhgQEjnLYZ07mFA60sFrb40Y0CNsNzTCHtkQC8VtPpSwWVA0nmLIZ0HZ0B03mJI501oQBdDOm8xlGlAuacRlnvaakBcDOm8xSBsQP5wwOMPZ21AoNWXClqtbkBDOm8xpPNvQHNPIyz3nHBAxAGPPxxAcUAVtPpSQeNxQGZmZmZmhnJAZmZmZmZm5j+NsNzTCMslQFp9qaDVFzVAbaJk1yZKP0DB4w8HPL5EQEt2baJk10lA1AjLPY3wTkCvTZTs2gRSQPQWQzpvkVRAOeDxhwMeV0B+qaDVl6pZQMNyTyMsN1xABzz+cMDDXkCmglZfKqhgQEjnLYZ07mFA60sFrb40Y0CNsNzTCHtkQC8VtPpSwWVA0nmLIZ0HZ0B03mJI501oQBdDOm8xlGlAuacRlnvaakBcDOm8xSBsQP5wwOMPZ21AoNWXClqtbkBDOm8xpPNvQHNPIyz3nHBAxAGPPxxAcUAVtPpSQeNxQGZmZmZmhnJAZmZmZmZm5j+NsNzTCMslQFp9qaDVFzVAbaJk1yZKP0DB4w8HPL5EQEt2baJk10lA1AjLPY3wTkCvTZTs2gRSQPQWQzpvkVRAOeDxhwMeV0B+qaDVl6pZQMNyTyMsN1xABzz+cMDDXkCmglZfKqhgQEjnLYZ07mFA60sFrb40Y0CNsNzTCHtkQC8VtPpSwWVA0nmLIZ0HZ0B03mJI501oQBdDOm8xlGlAuacRlnvaakBcDOm8xSBsQP5wwOMPZ21AoNWXClqtbkBDOm8xpPNvQHNPIyz3nHBAxAGPPxxAcUAVtPpSQeNxQGZmZmZmhnJAZmZmZmZm5j+NsNzTCMslQFp9qaDVFzVAbaJk1yZKP0DB4w8HPL5EQEt2baJk10lA1AjLPY3wTkCvTZTs2gRSQPQWQzpvkVRAOeDxhwMeV0B+qaDVl6pZQMNyTyMsN1xABzz+cMDDXkCmglZfKqhgQEjnLYZ07mFA60sFrb40Y0CNsNzTCHtkQC8VtPpSwWVA0nmLIZ0HZ0B03mJI501oQBdDOm8xlGlAuacRlnvaakBcDOm8xSBsQP5wwOMPZ21AoNWXClqtbkBDOm8xpPNvQHNPIyz3nHBAxAGPPxxAcUAVtPpSQeNxQGZmZmZmhnJAZmZmZmZm5j+NsNzTCMslQFp9qaDVFzVAbaJk1yZKP0DB4w8HPL5EQEt2baJk10lA1AjLPY3wTkCvTZTs2gRSQPQWQzpvkVRAOeDxhwMeV0B+qaDVl6pZQMNyTyMsN1xABzz+cMDDXkCmglZfKqhgQEjnLYZ07mFA60sFrb40Y0CNsNzTCHtkQC8VtPpSwWVA0nmLIZ0HZ0B03mJI501oQBdDOm8xlGlAuacRlnvaakBcDOm8xSBsQP5wwOMPZ21AoNWXClqtbkBDOm8xpPNvQHNPIyz3nHBAxAGPPxxAcUAVtPpSQeNxQGZmZmZmhnJAZmZmZmZm5j+NsNzTCMslQFp9qaDVFzVAbaJk1yZKP0DB4w8HPL5EQEt2baJk10lA1AjLPY3wTkCvTZTs2gRSQPQWQzpvkVRAOeDxhwMeV0B+qaDVl6pZQMNyTyMsN1xABzz+cMDDXkCmglZfKqhgQEjnLYZ07mFA60sFrb40Y0CNsNzTCHtkQC8VtPpSwWVA0nmLIZ0HZ0B03mJI501oQBdDOm8xlGlAuacRlnvaakBcDOm8xSBsQP5wwOMPZ21AoNWXClqtbkBDOm8xpPNvQHNPIyz3nHBAxAGPPxxAcUAVtPpSQeNxQGZmZmZmhnJAZmZmZmZm5j+NsNzTCMslQFp9qaDVFzVAbaJk1yZKP0DB4w8HPL5EQEt2baJk10lA1AjLPY3wTkCvTZTs2gRSQPQWQzpvkVRAOeDxhwMeV0B+qaDVl6pZQMNyTyMsN1xABzz+cMDDXkCmglZfKqhgQEjnLYZ07mFA60sFrb40Y0CNsNzTCHtkQC8VtPpSwWVA0nmLIZ0HZ0B03mJI501oQBdDOm8xlGlAuacRlnvaakBcDOm8xSBsQP5wwOMPZ21AoNWXClqtbkBDOm8xpPNvQHNPIyz3nHBAxAGPPxxAcUAVtPpSQeNxQGZmZmZmhnJAZmZmZmZm5j+NsNzTCMslQFp9qaDVFzVAbaJk1yZKP0DB4w8HPL5EQEt2baJk10lA1AjLPY3wTkCvTZTs2gRSQPQWQzpvkVRAOeDxhwMeV0B+qaDVl6pZQMNyTyMsN1xABzz+cMDDXkCmglZfKqhgQEjnLYZ07mFA60sFrb40Y0CNsNzTCHtkQC8VtPpSwWVA0nmLIZ0HZ0B03mJI501oQBdDOm8xlGlAuacRlnvaakBcDOm8xSBsQP5wwOMPZ21AoNWXClqtbkBDOm8xpPNvQHNPIyz3nHBAxAGPPxxAcUAVtPpSQeNxQGZmZmZmhnJAZmZmZmZm5j+NsNzTCMslQFp9qaDVFzVAbaJk1yZKP0DB4w8HPL5EQEt2baJk10lA1AjLPY3wTkCvTZTs2gRSQPQWQzpvkVRAOeDxhwMeV0B+qaDVl6pZQMNyTyMsN1xABzz+cMDDXkCmglZfKqhgQEjnLYZ07mFA60sFrb40Y0CNsNzTCHtkQC8VtPpSwWVA0nmLIZ0HZ0B03mJI501oQBdDOm8xlGlAuacRlnvaakBcDOm8xSBsQP5wwOMPZ21AoNWXClqtbkBDOm8xpPNvQHNPIyz3nHBAxAGPPxxAcUAVtPpSQeNxQGZmZmZmhnJAZmZmZmZm5j+NsNzTCMslQFp9qaDVFzVAbaJk1yZKP0DB4w8HPL5EQEt2baJk10lA1AjLPY3wTkCvTZTs2gRSQPQWQzpvkVRAOeDxhwMeV0B+qaDVl6pZQMNyTyMsN1xABzz+cMDDXkCmglZfKqhgQEjnLYZ07mFA60sFrb40Y0CNsNzTCHtkQC8VtPpSwWVA0nmLIZ0HZ0B03mJI501oQBdDOm8xlGlAuacRlnvaakBcDOm8xSBsQP5wwOMPZ21AoNWXClqtbkBDOm8xpPNvQHNPIyz3nHBAxAGPPxxAcUAVtPpSQeNxQGZmZmZmhnJA",
          "dtype": "f8",
          "shape": "30, 30"
         },
         "y": {
          "bdata": "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",
          "dtype": "f8",
          "shape": "30, 30"
         },
         "z": {
          "bdata": "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",
          "dtype": "f8",
          "shape": "30, 30"
         }
        }
       ],
       "layout": {
        "height": 700,
        "scene": {
         "xaxis": {
          "title": {
           "text": "TV"
          }
         },
         "yaxis": {
          "title": {
           "text": "Radio"
          }
         },
         "zaxis": {
          "title": {
           "text": "Sales"
          }
         }
        },
        "template": {
         "data": {
          "bar": [
           {
            "error_x": {
             "color": "#2a3f5f"
            },
            "error_y": {
             "color": "#2a3f5f"
            },
            "marker": {
             "line": {
              "color": "#E5ECF6",
              "width": 0.5
             },
             "pattern": {
              "fillmode": "overlay",
              "size": 10,
              "solidity": 0.2
             }
            },
            "type": "bar"
           }
          ],
          "barpolar": [
           {
            "marker": {
             "line": {
              "color": "#E5ECF6",
              "width": 0.5
             },
             "pattern": {
              "fillmode": "overlay",
              "size": 10,
              "solidity": 0.2
             }
            },
            "type": "barpolar"
           }
          ],
          "carpet": [
           {
            "aaxis": {
             "endlinecolor": "#2a3f5f",
             "gridcolor": "white",
             "linecolor": "white",
             "minorgridcolor": "white",
             "startlinecolor": "#2a3f5f"
            },
            "baxis": {
             "endlinecolor": "#2a3f5f",
             "gridcolor": "white",
             "linecolor": "white",
             "minorgridcolor": "white",
             "startlinecolor": "#2a3f5f"
            },
            "type": "carpet"
           }
          ],
          "choropleth": [
           {
            "colorbar": {
             "outlinewidth": 0,
             "ticks": ""
            },
            "type": "choropleth"
           }
          ],
          "contour": [
           {
            "colorbar": {
             "outlinewidth": 0,
             "ticks": ""
            },
            "colorscale": [
             [
              0,
              "#0d0887"
             ],
             [
              0.1111111111111111,
              "#46039f"
             ],
             [
              0.2222222222222222,
              "#7201a8"
             ],
             [
              0.3333333333333333,
              "#9c179e"
             ],
             [
              0.4444444444444444,
              "#bd3786"
             ],
             [
              0.5555555555555556,
              "#d8576b"
             ],
             [
              0.6666666666666666,
              "#ed7953"
             ],
             [
              0.7777777777777778,
              "#fb9f3a"
             ],
             [
              0.8888888888888888,
              "#fdca26"
             ],
             [
              1,
              "#f0f921"
             ]
            ],
            "type": "contour"
           }
          ],
          "contourcarpet": [
           {
            "colorbar": {
             "outlinewidth": 0,
             "ticks": ""
            },
            "type": "contourcarpet"
           }
          ],
          "heatmap": [
           {
            "colorbar": {
             "outlinewidth": 0,
             "ticks": ""
            },
            "colorscale": [
             [
              0,
              "#0d0887"
             ],
             [
              0.1111111111111111,
              "#46039f"
             ],
             [
              0.2222222222222222,
              "#7201a8"
             ],
             [
              0.3333333333333333,
              "#9c179e"
             ],
             [
              0.4444444444444444,
              "#bd3786"
             ],
             [
              0.5555555555555556,
              "#d8576b"
             ],
             [
              0.6666666666666666,
              "#ed7953"
             ],
             [
              0.7777777777777778,
              "#fb9f3a"
             ],
             [
              0.8888888888888888,
              "#fdca26"
             ],
             [
              1,
              "#f0f921"
             ]
            ],
            "type": "heatmap"
           }
          ],
          "histogram": [
           {
            "marker": {
             "pattern": {
              "fillmode": "overlay",
              "size": 10,
              "solidity": 0.2
             }
            },
            "type": "histogram"
           }
          ],
          "histogram2d": [
           {
            "colorbar": {
             "outlinewidth": 0,
             "ticks": ""
            },
            "colorscale": [
             [
              0,
              "#0d0887"
             ],
             [
              0.1111111111111111,
              "#46039f"
             ],
             [
              0.2222222222222222,
              "#7201a8"
             ],
             [
              0.3333333333333333,
              "#9c179e"
             ],
             [
              0.4444444444444444,
              "#bd3786"
             ],
             [
              0.5555555555555556,
              "#d8576b"
             ],
             [
              0.6666666666666666,
              "#ed7953"
             ],
             [
              0.7777777777777778,
              "#fb9f3a"
             ],
             [
              0.8888888888888888,
              "#fdca26"
             ],
             [
              1,
              "#f0f921"
             ]
            ],
            "type": "histogram2d"
           }
          ],
          "histogram2dcontour": [
           {
            "colorbar": {
             "outlinewidth": 0,
             "ticks": ""
            },
            "colorscale": [
             [
              0,
              "#0d0887"
             ],
             [
              0.1111111111111111,
              "#46039f"
             ],
             [
              0.2222222222222222,
              "#7201a8"
             ],
             [
              0.3333333333333333,
              "#9c179e"
             ],
             [
              0.4444444444444444,
              "#bd3786"
             ],
             [
              0.5555555555555556,
              "#d8576b"
             ],
             [
              0.6666666666666666,
              "#ed7953"
             ],
             [
              0.7777777777777778,
              "#fb9f3a"
             ],
             [
              0.8888888888888888,
              "#fdca26"
             ],
             [
              1,
              "#f0f921"
             ]
            ],
            "type": "histogram2dcontour"
           }
          ],
          "mesh3d": [
           {
            "colorbar": {
             "outlinewidth": 0,
             "ticks": ""
            },
            "type": "mesh3d"
           }
          ],
          "parcoords": [
           {
            "line": {
             "colorbar": {
              "outlinewidth": 0,
              "ticks": ""
             }
            },
            "type": "parcoords"
           }
          ],
          "pie": [
           {
            "automargin": true,
            "type": "pie"
           }
          ],
          "scatter": [
           {
            "fillpattern": {
             "fillmode": "overlay",
             "size": 10,
             "solidity": 0.2
            },
            "type": "scatter"
           }
          ],
          "scatter3d": [
           {
            "line": {
             "colorbar": {
              "outlinewidth": 0,
              "ticks": ""
             }
            },
            "marker": {
             "colorbar": {
              "outlinewidth": 0,
              "ticks": ""
             }
            },
            "type": "scatter3d"
           }
          ],
          "scattercarpet": [
           {
            "marker": {
             "colorbar": {
              "outlinewidth": 0,
              "ticks": ""
             }
            },
            "type": "scattercarpet"
           }
          ],
          "scattergeo": [
           {
            "marker": {
             "colorbar": {
              "outlinewidth": 0,
              "ticks": ""
             }
            },
            "type": "scattergeo"
           }
          ],
          "scattergl": [
           {
            "marker": {
             "colorbar": {
              "outlinewidth": 0,
              "ticks": ""
             }
            },
            "type": "scattergl"
           }
          ],
          "scattermap": [
           {
            "marker": {
             "colorbar": {
              "outlinewidth": 0,
              "ticks": ""
             }
            },
            "type": "scattermap"
           }
          ],
          "scattermapbox": [
           {
            "marker": {
             "colorbar": {
              "outlinewidth": 0,
              "ticks": ""
             }
            },
            "type": "scattermapbox"
           }
          ],
          "scatterpolar": [
           {
            "marker": {
             "colorbar": {
              "outlinewidth": 0,
              "ticks": ""
             }
            },
            "type": "scatterpolar"
           }
          ],
          "scatterpolargl": [
           {
            "marker": {
             "colorbar": {
              "outlinewidth": 0,
              "ticks": ""
             }
            },
            "type": "scatterpolargl"
           }
          ],
          "scatterternary": [
           {
            "marker": {
             "colorbar": {
              "outlinewidth": 0,
              "ticks": ""
             }
            },
            "type": "scatterternary"
           }
          ],
          "surface": [
           {
            "colorbar": {
             "outlinewidth": 0,
             "ticks": ""
            },
            "colorscale": [
             [
              0,
              "#0d0887"
             ],
             [
              0.1111111111111111,
              "#46039f"
             ],
             [
              0.2222222222222222,
              "#7201a8"
             ],
             [
              0.3333333333333333,
              "#9c179e"
             ],
             [
              0.4444444444444444,
              "#bd3786"
             ],
             [
              0.5555555555555556,
              "#d8576b"
             ],
             [
              0.6666666666666666,
              "#ed7953"
             ],
             [
              0.7777777777777778,
              "#fb9f3a"
             ],
             [
              0.8888888888888888,
              "#fdca26"
             ],
             [
              1,
              "#f0f921"
             ]
            ],
            "type": "surface"
           }
          ],
          "table": [
           {
            "cells": {
             "fill": {
              "color": "#EBF0F8"
             },
             "line": {
              "color": "white"
             }
            },
            "header": {
             "fill": {
              "color": "#C8D4E3"
             },
             "line": {
              "color": "white"
             }
            },
            "type": "table"
           }
          ]
         },
         "layout": {
          "annotationdefaults": {
           "arrowcolor": "#2a3f5f",
           "arrowhead": 0,
           "arrowwidth": 1
          },
          "autotypenumbers": "strict",
          "coloraxis": {
           "colorbar": {
            "outlinewidth": 0,
            "ticks": ""
           }
          },
          "colorscale": {
           "diverging": [
            [
             0,
             "#8e0152"
            ],
            [
             0.1,
             "#c51b7d"
            ],
            [
             0.2,
             "#de77ae"
            ],
            [
             0.3,
             "#f1b6da"
            ],
            [
             0.4,
             "#fde0ef"
            ],
            [
             0.5,
             "#f7f7f7"
            ],
            [
             0.6,
             "#e6f5d0"
            ],
            [
             0.7,
             "#b8e186"
            ],
            [
             0.8,
             "#7fbc41"
            ],
            [
             0.9,
             "#4d9221"
            ],
            [
             1,
             "#276419"
            ]
           ],
           "sequential": [
            [
             0,
             "#0d0887"
            ],
            [
             0.1111111111111111,
             "#46039f"
            ],
            [
             0.2222222222222222,
             "#7201a8"
            ],
            [
             0.3333333333333333,
             "#9c179e"
            ],
            [
             0.4444444444444444,
             "#bd3786"
            ],
            [
             0.5555555555555556,
             "#d8576b"
            ],
            [
             0.6666666666666666,
             "#ed7953"
            ],
            [
             0.7777777777777778,
             "#fb9f3a"
            ],
            [
             0.8888888888888888,
             "#fdca26"
            ],
            [
             1,
             "#f0f921"
            ]
           ],
           "sequentialminus": [
            [
             0,
             "#0d0887"
            ],
            [
             0.1111111111111111,
             "#46039f"
            ],
            [
             0.2222222222222222,
             "#7201a8"
            ],
            [
             0.3333333333333333,
             "#9c179e"
            ],
            [
             0.4444444444444444,
             "#bd3786"
            ],
            [
             0.5555555555555556,
             "#d8576b"
            ],
            [
             0.6666666666666666,
             "#ed7953"
            ],
            [
             0.7777777777777778,
             "#fb9f3a"
            ],
            [
             0.8888888888888888,
             "#fdca26"
            ],
            [
             1,
             "#f0f921"
            ]
           ]
          },
          "colorway": [
           "#636efa",
           "#EF553B",
           "#00cc96",
           "#ab63fa",
           "#FFA15A",
           "#19d3f3",
           "#FF6692",
           "#B6E880",
           "#FF97FF",
           "#FECB52"
          ],
          "font": {
           "color": "#2a3f5f"
          },
          "geo": {
           "bgcolor": "white",
           "lakecolor": "white",
           "landcolor": "#E5ECF6",
           "showlakes": true,
           "showland": true,
           "subunitcolor": "white"
          },
          "hoverlabel": {
           "align": "left"
          },
          "hovermode": "closest",
          "mapbox": {
           "style": "light"
          },
          "paper_bgcolor": "white",
          "plot_bgcolor": "#E5ECF6",
          "polar": {
           "angularaxis": {
            "gridcolor": "white",
            "linecolor": "white",
            "ticks": ""
           },
           "bgcolor": "#E5ECF6",
           "radialaxis": {
            "gridcolor": "white",
            "linecolor": "white",
            "ticks": ""
           }
          },
          "scene": {
           "xaxis": {
            "backgroundcolor": "#E5ECF6",
            "gridcolor": "white",
            "gridwidth": 2,
            "linecolor": "white",
            "showbackground": true,
            "ticks": "",
            "zerolinecolor": "white"
           },
           "yaxis": {
            "backgroundcolor": "#E5ECF6",
            "gridcolor": "white",
            "gridwidth": 2,
            "linecolor": "white",
            "showbackground": true,
            "ticks": "",
            "zerolinecolor": "white"
           },
           "zaxis": {
            "backgroundcolor": "#E5ECF6",
            "gridcolor": "white",
            "gridwidth": 2,
            "linecolor": "white",
            "showbackground": true,
            "ticks": "",
            "zerolinecolor": "white"
           }
          },
          "shapedefaults": {
           "line": {
            "color": "#2a3f5f"
           }
          },
          "ternary": {
           "aaxis": {
            "gridcolor": "white",
            "linecolor": "white",
            "ticks": ""
           },
           "baxis": {
            "gridcolor": "white",
            "linecolor": "white",
            "ticks": ""
           },
           "bgcolor": "#E5ECF6",
           "caxis": {
            "gridcolor": "white",
            "linecolor": "white",
            "ticks": ""
           }
          },
          "title": {
           "x": 0.05
          },
          "xaxis": {
           "automargin": true,
           "gridcolor": "white",
           "linecolor": "white",
           "ticks": "",
           "title": {
            "standoff": 15
           },
           "zerolinecolor": "white",
           "zerolinewidth": 2
          },
          "yaxis": {
           "automargin": true,
           "gridcolor": "white",
           "linecolor": "white",
           "ticks": "",
           "title": {
            "standoff": 15
           },
           "zerolinecolor": "white",
           "zerolinewidth": 2
          }
         }
        },
        "title": {
         "text": "Fitting a plane to data points"
        },
        "width": 1000
       }
      }
     },
     "metadata": {},
     "output_type": "display_data"
    }
   ],
   "source": [
    "a2 = model_2.coef_[1]\n",
    "a1 = model_2.coef_[0]\n",
    "a0 = model_2.intercept_\n",
    " \n",
    "x0_grid, x1_grid = np.meshgrid(\n",
    "    np.linspace(x0.min(), x0.max(), 30),\n",
    "    np.linspace(x1.min(), x1.max(), 30)\n",
    ")\n",
    "y_grid = a0 + a1 * x0_grid + a2 * x1_grid \n",
    "\n",
    "fig = go.Figure()\n",
    "\n",
    "# Data points\n",
    "fig.add_trace(go.Scatter3d(\n",
    "    x = x0, y = x1, z = y, marker = dict(size = 3, color = 'red'),mode = 'markers', name = 'Data Points'\n",
    "))\n",
    "\n",
    "# Regression plane\n",
    "fig.add_trace(go.Surface( \n",
    "    x = x0_grid, y = x1_grid, z = y_grid, opacity = 0.5, colorscale = 'Viridis', name = 'Regression Plane'\n",
    "))\n",
    "\n",
    "fig.update_layout(scene = dict(xaxis_title = 'TV', yaxis_title = 'Radio', zaxis_title = 'Sales'),\n",
    "    title = 'Fitting a plane to data points',\n",
    "    width = 1000,\n",
    "    height = 700\n",
    ")\n",
    "fig.show()"
   ]
  },
  {
   "cell_type": "code",
   "execution_count": 31,
   "id": "525e37b6-0d7f-44d1-82bf-0fd730475ca8",
   "metadata": {},
   "outputs": [],
   "source": [
    "model_final = LinearRegression()"
   ]
  },
  {
   "cell_type": "code",
   "execution_count": 32,
   "id": "3668e4ff-ab98-4821-9e91-c19c7446be04",
   "metadata": {},
   "outputs": [
    {
     "data": {
      "text/html": [
       "<style>#sk-container-id-3 {\n",
       "  /* Definition of color scheme common for light and dark mode */\n",
       "  --sklearn-color-text: #000;\n",
       "  --sklearn-color-text-muted: #666;\n",
       "  --sklearn-color-line: gray;\n",
       "  /* Definition of color scheme for unfitted estimators */\n",
       "  --sklearn-color-unfitted-level-0: #fff5e6;\n",
       "  --sklearn-color-unfitted-level-1: #f6e4d2;\n",
       "  --sklearn-color-unfitted-level-2: #ffe0b3;\n",
       "  --sklearn-color-unfitted-level-3: chocolate;\n",
       "  /* Definition of color scheme for fitted estimators */\n",
       "  --sklearn-color-fitted-level-0: #f0f8ff;\n",
       "  --sklearn-color-fitted-level-1: #d4ebff;\n",
       "  --sklearn-color-fitted-level-2: #b3dbfd;\n",
       "  --sklearn-color-fitted-level-3: cornflowerblue;\n",
       "\n",
       "  /* Specific color for light theme */\n",
       "  --sklearn-color-text-on-default-background: var(--sg-text-color, var(--theme-code-foreground, var(--jp-content-font-color1, black)));\n",
       "  --sklearn-color-background: var(--sg-background-color, var(--theme-background, var(--jp-layout-color0, white)));\n",
       "  --sklearn-color-border-box: var(--sg-text-color, var(--theme-code-foreground, var(--jp-content-font-color1, black)));\n",
       "  --sklearn-color-icon: #696969;\n",
       "\n",
       "  @media (prefers-color-scheme: dark) {\n",
       "    /* Redefinition of color scheme for dark theme */\n",
       "    --sklearn-color-text-on-default-background: var(--sg-text-color, var(--theme-code-foreground, var(--jp-content-font-color1, white)));\n",
       "    --sklearn-color-background: var(--sg-background-color, var(--theme-background, var(--jp-layout-color0, #111)));\n",
       "    --sklearn-color-border-box: var(--sg-text-color, var(--theme-code-foreground, var(--jp-content-font-color1, white)));\n",
       "    --sklearn-color-icon: #878787;\n",
       "  }\n",
       "}\n",
       "\n",
       "#sk-container-id-3 {\n",
       "  color: var(--sklearn-color-text);\n",
       "}\n",
       "\n",
       "#sk-container-id-3 pre {\n",
       "  padding: 0;\n",
       "}\n",
       "\n",
       "#sk-container-id-3 input.sk-hidden--visually {\n",
       "  border: 0;\n",
       "  clip: rect(1px 1px 1px 1px);\n",
       "  clip: rect(1px, 1px, 1px, 1px);\n",
       "  height: 1px;\n",
       "  margin: -1px;\n",
       "  overflow: hidden;\n",
       "  padding: 0;\n",
       "  position: absolute;\n",
       "  width: 1px;\n",
       "}\n",
       "\n",
       "#sk-container-id-3 div.sk-dashed-wrapped {\n",
       "  border: 1px dashed var(--sklearn-color-line);\n",
       "  margin: 0 0.4em 0.5em 0.4em;\n",
       "  box-sizing: border-box;\n",
       "  padding-bottom: 0.4em;\n",
       "  background-color: var(--sklearn-color-background);\n",
       "}\n",
       "\n",
       "#sk-container-id-3 div.sk-container {\n",
       "  /* jupyter's `normalize.less` sets `[hidden] { display: none; }`\n",
       "     but bootstrap.min.css set `[hidden] { display: none !important; }`\n",
       "     so we also need the `!important` here to be able to override the\n",
       "     default hidden behavior on the sphinx rendered scikit-learn.org.\n",
       "     See: https://github.com/scikit-learn/scikit-learn/issues/21755 */\n",
       "  display: inline-block !important;\n",
       "  position: relative;\n",
       "}\n",
       "\n",
       "#sk-container-id-3 div.sk-text-repr-fallback {\n",
       "  display: none;\n",
       "}\n",
       "\n",
       "div.sk-parallel-item,\n",
       "div.sk-serial,\n",
       "div.sk-item {\n",
       "  /* draw centered vertical line to link estimators */\n",
       "  background-image: linear-gradient(var(--sklearn-color-text-on-default-background), var(--sklearn-color-text-on-default-background));\n",
       "  background-size: 2px 100%;\n",
       "  background-repeat: no-repeat;\n",
       "  background-position: center center;\n",
       "}\n",
       "\n",
       "/* Parallel-specific style estimator block */\n",
       "\n",
       "#sk-container-id-3 div.sk-parallel-item::after {\n",
       "  content: \"\";\n",
       "  width: 100%;\n",
       "  border-bottom: 2px solid var(--sklearn-color-text-on-default-background);\n",
       "  flex-grow: 1;\n",
       "}\n",
       "\n",
       "#sk-container-id-3 div.sk-parallel {\n",
       "  display: flex;\n",
       "  align-items: stretch;\n",
       "  justify-content: center;\n",
       "  background-color: var(--sklearn-color-background);\n",
       "  position: relative;\n",
       "}\n",
       "\n",
       "#sk-container-id-3 div.sk-parallel-item {\n",
       "  display: flex;\n",
       "  flex-direction: column;\n",
       "}\n",
       "\n",
       "#sk-container-id-3 div.sk-parallel-item:first-child::after {\n",
       "  align-self: flex-end;\n",
       "  width: 50%;\n",
       "}\n",
       "\n",
       "#sk-container-id-3 div.sk-parallel-item:last-child::after {\n",
       "  align-self: flex-start;\n",
       "  width: 50%;\n",
       "}\n",
       "\n",
       "#sk-container-id-3 div.sk-parallel-item:only-child::after {\n",
       "  width: 0;\n",
       "}\n",
       "\n",
       "/* Serial-specific style estimator block */\n",
       "\n",
       "#sk-container-id-3 div.sk-serial {\n",
       "  display: flex;\n",
       "  flex-direction: column;\n",
       "  align-items: center;\n",
       "  background-color: var(--sklearn-color-background);\n",
       "  padding-right: 1em;\n",
       "  padding-left: 1em;\n",
       "}\n",
       "\n",
       "\n",
       "/* Toggleable style: style used for estimator/Pipeline/ColumnTransformer box that is\n",
       "clickable and can be expanded/collapsed.\n",
       "- Pipeline and ColumnTransformer use this feature and define the default style\n",
       "- Estimators will overwrite some part of the style using the `sk-estimator` class\n",
       "*/\n",
       "\n",
       "/* Pipeline and ColumnTransformer style (default) */\n",
       "\n",
       "#sk-container-id-3 div.sk-toggleable {\n",
       "  /* Default theme specific background. It is overwritten whether we have a\n",
       "  specific estimator or a Pipeline/ColumnTransformer */\n",
       "  background-color: var(--sklearn-color-background);\n",
       "}\n",
       "\n",
       "/* Toggleable label */\n",
       "#sk-container-id-3 label.sk-toggleable__label {\n",
       "  cursor: pointer;\n",
       "  display: flex;\n",
       "  width: 100%;\n",
       "  margin-bottom: 0;\n",
       "  padding: 0.5em;\n",
       "  box-sizing: border-box;\n",
       "  text-align: center;\n",
       "  align-items: start;\n",
       "  justify-content: space-between;\n",
       "  gap: 0.5em;\n",
       "}\n",
       "\n",
       "#sk-container-id-3 label.sk-toggleable__label .caption {\n",
       "  font-size: 0.6rem;\n",
       "  font-weight: lighter;\n",
       "  color: var(--sklearn-color-text-muted);\n",
       "}\n",
       "\n",
       "#sk-container-id-3 label.sk-toggleable__label-arrow:before {\n",
       "  /* Arrow on the left of the label */\n",
       "  content: \"▸\";\n",
       "  float: left;\n",
       "  margin-right: 0.25em;\n",
       "  color: var(--sklearn-color-icon);\n",
       "}\n",
       "\n",
       "#sk-container-id-3 label.sk-toggleable__label-arrow:hover:before {\n",
       "  color: var(--sklearn-color-text);\n",
       "}\n",
       "\n",
       "/* Toggleable content - dropdown */\n",
       "\n",
       "#sk-container-id-3 div.sk-toggleable__content {\n",
       "  display: none;\n",
       "  text-align: left;\n",
       "  /* unfitted */\n",
       "  background-color: var(--sklearn-color-unfitted-level-0);\n",
       "}\n",
       "\n",
       "#sk-container-id-3 div.sk-toggleable__content.fitted {\n",
       "  /* fitted */\n",
       "  background-color: var(--sklearn-color-fitted-level-0);\n",
       "}\n",
       "\n",
       "#sk-container-id-3 div.sk-toggleable__content pre {\n",
       "  margin: 0.2em;\n",
       "  border-radius: 0.25em;\n",
       "  color: var(--sklearn-color-text);\n",
       "  /* unfitted */\n",
       "  background-color: var(--sklearn-color-unfitted-level-0);\n",
       "}\n",
       "\n",
       "#sk-container-id-3 div.sk-toggleable__content.fitted pre {\n",
       "  /* unfitted */\n",
       "  background-color: var(--sklearn-color-fitted-level-0);\n",
       "}\n",
       "\n",
       "#sk-container-id-3 input.sk-toggleable__control:checked~div.sk-toggleable__content {\n",
       "  /* Expand drop-down */\n",
       "  display: block;\n",
       "  width: 100%;\n",
       "  overflow: visible;\n",
       "}\n",
       "\n",
       "#sk-container-id-3 input.sk-toggleable__control:checked~label.sk-toggleable__label-arrow:before {\n",
       "  content: \"▾\";\n",
       "}\n",
       "\n",
       "/* Pipeline/ColumnTransformer-specific style */\n",
       "\n",
       "#sk-container-id-3 div.sk-label input.sk-toggleable__control:checked~label.sk-toggleable__label {\n",
       "  color: var(--sklearn-color-text);\n",
       "  background-color: var(--sklearn-color-unfitted-level-2);\n",
       "}\n",
       "\n",
       "#sk-container-id-3 div.sk-label.fitted input.sk-toggleable__control:checked~label.sk-toggleable__label {\n",
       "  background-color: var(--sklearn-color-fitted-level-2);\n",
       "}\n",
       "\n",
       "/* Estimator-specific style */\n",
       "\n",
       "/* Colorize estimator box */\n",
       "#sk-container-id-3 div.sk-estimator input.sk-toggleable__control:checked~label.sk-toggleable__label {\n",
       "  /* unfitted */\n",
       "  background-color: var(--sklearn-color-unfitted-level-2);\n",
       "}\n",
       "\n",
       "#sk-container-id-3 div.sk-estimator.fitted input.sk-toggleable__control:checked~label.sk-toggleable__label {\n",
       "  /* fitted */\n",
       "  background-color: var(--sklearn-color-fitted-level-2);\n",
       "}\n",
       "\n",
       "#sk-container-id-3 div.sk-label label.sk-toggleable__label,\n",
       "#sk-container-id-3 div.sk-label label {\n",
       "  /* The background is the default theme color */\n",
       "  color: var(--sklearn-color-text-on-default-background);\n",
       "}\n",
       "\n",
       "/* On hover, darken the color of the background */\n",
       "#sk-container-id-3 div.sk-label:hover label.sk-toggleable__label {\n",
       "  color: var(--sklearn-color-text);\n",
       "  background-color: var(--sklearn-color-unfitted-level-2);\n",
       "}\n",
       "\n",
       "/* Label box, darken color on hover, fitted */\n",
       "#sk-container-id-3 div.sk-label.fitted:hover label.sk-toggleable__label.fitted {\n",
       "  color: var(--sklearn-color-text);\n",
       "  background-color: var(--sklearn-color-fitted-level-2);\n",
       "}\n",
       "\n",
       "/* Estimator label */\n",
       "\n",
       "#sk-container-id-3 div.sk-label label {\n",
       "  font-family: monospace;\n",
       "  font-weight: bold;\n",
       "  display: inline-block;\n",
       "  line-height: 1.2em;\n",
       "}\n",
       "\n",
       "#sk-container-id-3 div.sk-label-container {\n",
       "  text-align: center;\n",
       "}\n",
       "\n",
       "/* Estimator-specific */\n",
       "#sk-container-id-3 div.sk-estimator {\n",
       "  font-family: monospace;\n",
       "  border: 1px dotted var(--sklearn-color-border-box);\n",
       "  border-radius: 0.25em;\n",
       "  box-sizing: border-box;\n",
       "  margin-bottom: 0.5em;\n",
       "  /* unfitted */\n",
       "  background-color: var(--sklearn-color-unfitted-level-0);\n",
       "}\n",
       "\n",
       "#sk-container-id-3 div.sk-estimator.fitted {\n",
       "  /* fitted */\n",
       "  background-color: var(--sklearn-color-fitted-level-0);\n",
       "}\n",
       "\n",
       "/* on hover */\n",
       "#sk-container-id-3 div.sk-estimator:hover {\n",
       "  /* unfitted */\n",
       "  background-color: var(--sklearn-color-unfitted-level-2);\n",
       "}\n",
       "\n",
       "#sk-container-id-3 div.sk-estimator.fitted:hover {\n",
       "  /* fitted */\n",
       "  background-color: var(--sklearn-color-fitted-level-2);\n",
       "}\n",
       "\n",
       "/* Specification for estimator info (e.g. \"i\" and \"?\") */\n",
       "\n",
       "/* Common style for \"i\" and \"?\" */\n",
       "\n",
       ".sk-estimator-doc-link,\n",
       "a:link.sk-estimator-doc-link,\n",
       "a:visited.sk-estimator-doc-link {\n",
       "  float: right;\n",
       "  font-size: smaller;\n",
       "  line-height: 1em;\n",
       "  font-family: monospace;\n",
       "  background-color: var(--sklearn-color-background);\n",
       "  border-radius: 1em;\n",
       "  height: 1em;\n",
       "  width: 1em;\n",
       "  text-decoration: none !important;\n",
       "  margin-left: 0.5em;\n",
       "  text-align: center;\n",
       "  /* unfitted */\n",
       "  border: var(--sklearn-color-unfitted-level-1) 1pt solid;\n",
       "  color: var(--sklearn-color-unfitted-level-1);\n",
       "}\n",
       "\n",
       ".sk-estimator-doc-link.fitted,\n",
       "a:link.sk-estimator-doc-link.fitted,\n",
       "a:visited.sk-estimator-doc-link.fitted {\n",
       "  /* fitted */\n",
       "  border: var(--sklearn-color-fitted-level-1) 1pt solid;\n",
       "  color: var(--sklearn-color-fitted-level-1);\n",
       "}\n",
       "\n",
       "/* On hover */\n",
       "div.sk-estimator:hover .sk-estimator-doc-link:hover,\n",
       ".sk-estimator-doc-link:hover,\n",
       "div.sk-label-container:hover .sk-estimator-doc-link:hover,\n",
       ".sk-estimator-doc-link:hover {\n",
       "  /* unfitted */\n",
       "  background-color: var(--sklearn-color-unfitted-level-3);\n",
       "  color: var(--sklearn-color-background);\n",
       "  text-decoration: none;\n",
       "}\n",
       "\n",
       "div.sk-estimator.fitted:hover .sk-estimator-doc-link.fitted:hover,\n",
       ".sk-estimator-doc-link.fitted:hover,\n",
       "div.sk-label-container:hover .sk-estimator-doc-link.fitted:hover,\n",
       ".sk-estimator-doc-link.fitted:hover {\n",
       "  /* fitted */\n",
       "  background-color: var(--sklearn-color-fitted-level-3);\n",
       "  color: var(--sklearn-color-background);\n",
       "  text-decoration: none;\n",
       "}\n",
       "\n",
       "/* Span, style for the box shown on hovering the info icon */\n",
       ".sk-estimator-doc-link span {\n",
       "  display: none;\n",
       "  z-index: 9999;\n",
       "  position: relative;\n",
       "  font-weight: normal;\n",
       "  right: .2ex;\n",
       "  padding: .5ex;\n",
       "  margin: .5ex;\n",
       "  width: min-content;\n",
       "  min-width: 20ex;\n",
       "  max-width: 50ex;\n",
       "  color: var(--sklearn-color-text);\n",
       "  box-shadow: 2pt 2pt 4pt #999;\n",
       "  /* unfitted */\n",
       "  background: var(--sklearn-color-unfitted-level-0);\n",
       "  border: .5pt solid var(--sklearn-color-unfitted-level-3);\n",
       "}\n",
       "\n",
       ".sk-estimator-doc-link.fitted span {\n",
       "  /* fitted */\n",
       "  background: var(--sklearn-color-fitted-level-0);\n",
       "  border: var(--sklearn-color-fitted-level-3);\n",
       "}\n",
       "\n",
       ".sk-estimator-doc-link:hover span {\n",
       "  display: block;\n",
       "}\n",
       "\n",
       "/* \"?\"-specific style due to the `<a>` HTML tag */\n",
       "\n",
       "#sk-container-id-3 a.estimator_doc_link {\n",
       "  float: right;\n",
       "  font-size: 1rem;\n",
       "  line-height: 1em;\n",
       "  font-family: monospace;\n",
       "  background-color: var(--sklearn-color-background);\n",
       "  border-radius: 1rem;\n",
       "  height: 1rem;\n",
       "  width: 1rem;\n",
       "  text-decoration: none;\n",
       "  /* unfitted */\n",
       "  color: var(--sklearn-color-unfitted-level-1);\n",
       "  border: var(--sklearn-color-unfitted-level-1) 1pt solid;\n",
       "}\n",
       "\n",
       "#sk-container-id-3 a.estimator_doc_link.fitted {\n",
       "  /* fitted */\n",
       "  border: var(--sklearn-color-fitted-level-1) 1pt solid;\n",
       "  color: var(--sklearn-color-fitted-level-1);\n",
       "}\n",
       "\n",
       "/* On hover */\n",
       "#sk-container-id-3 a.estimator_doc_link:hover {\n",
       "  /* unfitted */\n",
       "  background-color: var(--sklearn-color-unfitted-level-3);\n",
       "  color: var(--sklearn-color-background);\n",
       "  text-decoration: none;\n",
       "}\n",
       "\n",
       "#sk-container-id-3 a.estimator_doc_link.fitted:hover {\n",
       "  /* fitted */\n",
       "  background-color: var(--sklearn-color-fitted-level-3);\n",
       "}\n",
       "\n",
       ".estimator-table summary {\n",
       "    padding: .5rem;\n",
       "    font-family: monospace;\n",
       "    cursor: pointer;\n",
       "}\n",
       "\n",
       ".estimator-table details[open] {\n",
       "    padding-left: 0.1rem;\n",
       "    padding-right: 0.1rem;\n",
       "    padding-bottom: 0.3rem;\n",
       "}\n",
       "\n",
       ".estimator-table .parameters-table {\n",
       "    margin-left: auto !important;\n",
       "    margin-right: auto !important;\n",
       "}\n",
       "\n",
       ".estimator-table .parameters-table tr:nth-child(odd) {\n",
       "    background-color: #fff;\n",
       "}\n",
       "\n",
       ".estimator-table .parameters-table tr:nth-child(even) {\n",
       "    background-color: #f6f6f6;\n",
       "}\n",
       "\n",
       ".estimator-table .parameters-table tr:hover {\n",
       "    background-color: #e0e0e0;\n",
       "}\n",
       "\n",
       ".estimator-table table td {\n",
       "    border: 1px solid rgba(106, 105, 104, 0.232);\n",
       "}\n",
       "\n",
       ".user-set td {\n",
       "    color:rgb(255, 94, 0);\n",
       "    text-align: left;\n",
       "}\n",
       "\n",
       ".user-set td.value pre {\n",
       "    color:rgb(255, 94, 0) !important;\n",
       "    background-color: transparent !important;\n",
       "}\n",
       "\n",
       ".default td {\n",
       "    color: black;\n",
       "    text-align: left;\n",
       "}\n",
       "\n",
       ".user-set td i,\n",
       ".default td i {\n",
       "    color: black;\n",
       "}\n",
       "\n",
       ".copy-paste-icon {\n",
       "    background-image: url(data:image/svg+xml;base64,PHN2ZyB4bWxucz0iaHR0cDovL3d3dy53My5vcmcvMjAwMC9zdmciIHZpZXdCb3g9IjAgMCA0NDggNTEyIj48IS0tIUZvbnQgQXdlc29tZSBGcmVlIDYuNy4yIGJ5IEBmb250YXdlc29tZSAtIGh0dHBzOi8vZm9udGF3ZXNvbWUuY29tIExpY2Vuc2UgLSBodHRwczovL2ZvbnRhd2Vzb21lLmNvbS9saWNlbnNlL2ZyZWUgQ29weXJpZ2h0IDIwMjUgRm9udGljb25zLCBJbmMuLS0+PHBhdGggZD0iTTIwOCAwTDMzMi4xIDBjMTIuNyAwIDI0LjkgNS4xIDMzLjkgMTQuMWw2Ny45IDY3LjljOSA5IDE0LjEgMjEuMiAxNC4xIDMzLjlMNDQ4IDMzNmMwIDI2LjUtMjEuNSA0OC00OCA0OGwtMTkyIDBjLTI2LjUgMC00OC0yMS41LTQ4LTQ4bDAtMjg4YzAtMjYuNSAyMS41LTQ4IDQ4LTQ4ek00OCAxMjhsODAgMCAwIDY0LTY0IDAgMCAyNTYgMTkyIDAgMC0zMiA2NCAwIDAgNDhjMCAyNi41LTIxLjUgNDgtNDggNDhMNDggNTEyYy0yNi41IDAtNDgtMjEuNS00OC00OEwwIDE3NmMwLTI2LjUgMjEuNS00OCA0OC00OHoiLz48L3N2Zz4=);\n",
       "    background-repeat: no-repeat;\n",
       "    background-size: 14px 14px;\n",
       "    background-position: 0;\n",
       "    display: inline-block;\n",
       "    width: 14px;\n",
       "    height: 14px;\n",
       "    cursor: pointer;\n",
       "}\n",
       "</style><body><div id=\"sk-container-id-3\" class=\"sk-top-container\"><div class=\"sk-text-repr-fallback\"><pre>LinearRegression()</pre><b>In a Jupyter environment, please rerun this cell to show the HTML representation or trust the notebook. <br />On GitHub, the HTML representation is unable to render, please try loading this page with nbviewer.org.</b></div><div class=\"sk-container\" hidden><div class=\"sk-item\"><div class=\"sk-estimator fitted sk-toggleable\"><input class=\"sk-toggleable__control sk-hidden--visually\" id=\"sk-estimator-id-3\" type=\"checkbox\" checked><label for=\"sk-estimator-id-3\" class=\"sk-toggleable__label fitted sk-toggleable__label-arrow\"><div><div>LinearRegression</div></div><div><a class=\"sk-estimator-doc-link fitted\" rel=\"noreferrer\" target=\"_blank\" href=\"https://scikit-learn.org/1.7/modules/generated/sklearn.linear_model.LinearRegression.html\">?<span>Documentation for LinearRegression</span></a><span class=\"sk-estimator-doc-link fitted\">i<span>Fitted</span></span></div></label><div class=\"sk-toggleable__content fitted\" data-param-prefix=\"\">\n",
       "        <div class=\"estimator-table\">\n",
       "            <details>\n",
       "                <summary>Parameters</summary>\n",
       "                <table class=\"parameters-table\">\n",
       "                  <tbody>\n",
       "                    \n",
       "        <tr class=\"default\">\n",
       "            <td><i class=\"copy-paste-icon\"\n",
       "                 onclick=\"copyToClipboard('fit_intercept',\n",
       "                          this.parentElement.nextElementSibling)\"\n",
       "            ></i></td>\n",
       "            <td class=\"param\">fit_intercept&nbsp;</td>\n",
       "            <td class=\"value\">True</td>\n",
       "        </tr>\n",
       "    \n",
       "\n",
       "        <tr class=\"default\">\n",
       "            <td><i class=\"copy-paste-icon\"\n",
       "                 onclick=\"copyToClipboard('copy_X',\n",
       "                          this.parentElement.nextElementSibling)\"\n",
       "            ></i></td>\n",
       "            <td class=\"param\">copy_X&nbsp;</td>\n",
       "            <td class=\"value\">True</td>\n",
       "        </tr>\n",
       "    \n",
       "\n",
       "        <tr class=\"default\">\n",
       "            <td><i class=\"copy-paste-icon\"\n",
       "                 onclick=\"copyToClipboard('tol',\n",
       "                          this.parentElement.nextElementSibling)\"\n",
       "            ></i></td>\n",
       "            <td class=\"param\">tol&nbsp;</td>\n",
       "            <td class=\"value\">1e-06</td>\n",
       "        </tr>\n",
       "    \n",
       "\n",
       "        <tr class=\"default\">\n",
       "            <td><i class=\"copy-paste-icon\"\n",
       "                 onclick=\"copyToClipboard('n_jobs',\n",
       "                          this.parentElement.nextElementSibling)\"\n",
       "            ></i></td>\n",
       "            <td class=\"param\">n_jobs&nbsp;</td>\n",
       "            <td class=\"value\">None</td>\n",
       "        </tr>\n",
       "    \n",
       "\n",
       "        <tr class=\"default\">\n",
       "            <td><i class=\"copy-paste-icon\"\n",
       "                 onclick=\"copyToClipboard('positive',\n",
       "                          this.parentElement.nextElementSibling)\"\n",
       "            ></i></td>\n",
       "            <td class=\"param\">positive&nbsp;</td>\n",
       "            <td class=\"value\">False</td>\n",
       "        </tr>\n",
       "    \n",
       "                  </tbody>\n",
       "                </table>\n",
       "            </details>\n",
       "        </div>\n",
       "    </div></div></div></div></div><script>function copyToClipboard(text, element) {\n",
       "    // Get the parameter prefix from the closest toggleable content\n",
       "    const toggleableContent = element.closest('.sk-toggleable__content');\n",
       "    const paramPrefix = toggleableContent ? toggleableContent.dataset.paramPrefix : '';\n",
       "    const fullParamName = paramPrefix ? `${paramPrefix}${text}` : text;\n",
       "\n",
       "    const originalStyle = element.style;\n",
       "    const computedStyle = window.getComputedStyle(element);\n",
       "    const originalWidth = computedStyle.width;\n",
       "    const originalHTML = element.innerHTML.replace('Copied!', '');\n",
       "\n",
       "    navigator.clipboard.writeText(fullParamName)\n",
       "        .then(() => {\n",
       "            element.style.width = originalWidth;\n",
       "            element.style.color = 'green';\n",
       "            element.innerHTML = \"Copied!\";\n",
       "\n",
       "            setTimeout(() => {\n",
       "                element.innerHTML = originalHTML;\n",
       "                element.style = originalStyle;\n",
       "            }, 2000);\n",
       "        })\n",
       "        .catch(err => {\n",
       "            console.error('Failed to copy:', err);\n",
       "            element.style.color = 'red';\n",
       "            element.innerHTML = \"Failed!\";\n",
       "            setTimeout(() => {\n",
       "                element.innerHTML = originalHTML;\n",
       "                element.style = originalStyle;\n",
       "            }, 2000);\n",
       "        });\n",
       "    return false;\n",
       "}\n",
       "\n",
       "document.querySelectorAll('.fa-regular.fa-copy').forEach(function(element) {\n",
       "    const toggleableContent = element.closest('.sk-toggleable__content');\n",
       "    const paramPrefix = toggleableContent ? toggleableContent.dataset.paramPrefix : '';\n",
       "    const paramName = element.parentElement.nextElementSibling.textContent.trim();\n",
       "    const fullParamName = paramPrefix ? `${paramPrefix}${paramName}` : paramName;\n",
       "\n",
       "    element.setAttribute('title', fullParamName);\n",
       "});\n",
       "</script></body>"
      ],
      "text/plain": [
       "LinearRegression()"
      ]
     },
     "execution_count": 32,
     "metadata": {},
     "output_type": "execute_result"
    }
   ],
   "source": [
    "model_final.fit(np.array(data_full.drop(['Sales'], axis = 1)), \n",
    "                np.array(data_full['Sales']))"
   ]
  },
  {
   "cell_type": "code",
   "execution_count": 33,
   "id": "9d556914-6cff-446d-8e6f-82629dcc6e09",
   "metadata": {},
   "outputs": [
    {
     "data": {
      "text/plain": [
       "(array([ 0.04576465,  0.18853002, -0.00103749]),\n",
       " np.float64(2.9388893694594085))"
      ]
     },
     "execution_count": 33,
     "metadata": {},
     "output_type": "execute_result"
    }
   ],
   "source": [
    "model_final.coef_, model_final.intercept_"
   ]
  },
  {
   "cell_type": "code",
   "execution_count": 34,
   "id": "41b2de4c-bf3f-4029-b1bb-89ed04e135fe",
   "metadata": {},
   "outputs": [
    {
     "data": {
      "text/plain": [
       "(array([0.04575482, 0.18799423]), np.float64(2.9210999124051362))"
      ]
     },
     "execution_count": 34,
     "metadata": {},
     "output_type": "execute_result"
    }
   ],
   "source": [
    "model_2.coef_, model_2.intercept_"
   ]
  }
 ],
 "metadata": {
  "kernelspec": {
   "display_name": "Python [conda env:miniconda3]",
   "language": "python",
   "name": "conda-env-miniconda3-py"
  },
  "language_info": {
   "codemirror_mode": {
    "name": "ipython",
    "version": 3
   },
   "file_extension": ".py",
   "mimetype": "text/x-python",
   "name": "python",
   "nbconvert_exporter": "python",
   "pygments_lexer": "ipython3",
   "version": "3.12.7"
  }
 },
 "nbformat": 4,
 "nbformat_minor": 5
}
